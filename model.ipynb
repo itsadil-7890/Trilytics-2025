{
 "cells": [
  {
   "cell_type": "code",
   "execution_count": 40,
   "id": "2f26540d",
   "metadata": {},
   "outputs": [],
   "source": [
    "import pandas as pd\n",
    "import numpy as np\n",
    "import matplotlib.pyplot as plt\n",
    "import seaborn as sns\n"
   ]
  },
  {
   "cell_type": "code",
   "execution_count": 41,
   "id": "fdb44f49",
   "metadata": {},
   "outputs": [],
   "source": [
    "import warnings\n",
    "warnings.filterwarnings('ignore')"
   ]
  },
  {
   "cell_type": "code",
   "execution_count": 42,
   "id": "e619ea25",
   "metadata": {},
   "outputs": [],
   "source": [
    "df= pd.read_excel('trainData1.xlsx')"
   ]
  },
  {
   "cell_type": "code",
   "execution_count": 43,
   "id": "ba84adb5",
   "metadata": {},
   "outputs": [
    {
     "data": {
      "text/plain": [
       "(47970, 105)"
      ]
     },
     "execution_count": 43,
     "metadata": {},
     "output_type": "execute_result"
    }
   ],
   "source": [
    "df.shape"
   ]
  },
  {
   "cell_type": "code",
   "execution_count": 44,
   "id": "644d1dae",
   "metadata": {},
   "outputs": [
    {
     "name": "stdout",
     "output_type": "stream",
     "text": [
      "<class 'pandas.core.frame.DataFrame'>\n",
      "RangeIndex: 47970 entries, 0 to 47969\n",
      "Columns: 105 entries, FarmerID to Target_Variable/Total Income\n",
      "dtypes: float64(62), int64(5), object(38)\n",
      "memory usage: 38.4+ MB\n"
     ]
    }
   ],
   "source": [
    "df.info()"
   ]
  },
  {
   "cell_type": "code",
   "execution_count": 45,
   "id": "5cde39ce",
   "metadata": {},
   "outputs": [],
   "source": [
    "#chceking all numerical column\n",
    "num_col=[col for col in df.columns if df[col].dtype =='int']"
   ]
  },
  {
   "cell_type": "code",
   "execution_count": 46,
   "id": "3b8eabc6",
   "metadata": {},
   "outputs": [],
   "source": [
    "#chceking all categorical column\n",
    "catego_col = [col for col in df.columns if df[col].dtype =='object']"
   ]
  },
  {
   "cell_type": "code",
   "execution_count": 47,
   "id": "92122833",
   "metadata": {},
   "outputs": [
    {
     "name": "stdout",
     "output_type": "stream",
     "text": [
      "FarmerID has [1002818465057450 1012300674433870 1013472263587380 ... 3574921768222110\n",
      " 2877092990946190 1276738318694060] values \n",
      "\n",
      "Zipcode has [464668 848125 458556 ... 573129 573134 573113] values \n",
      "\n",
      "No_of_Active_Loan_In_Bureau has [ 0  1 14  3 17  6  2  4  5 10  8  9  7 12 11 13 18 15 16 21 19 27 22 20\n",
      " 23 34 28 35 26 24 25 38 40 62] values \n",
      "\n",
      "Non_Agriculture_Income has [  100000   500000   492500 ... 13375000   527150  7850000] values \n",
      "\n",
      "Target_Variable/Total Income has [ 1360000   807200   500000 ...    75833 14750000  3230000] values \n",
      "\n"
     ]
    }
   ],
   "source": [
    "for col in num_col:\n",
    "    print(f\"{col} has {df[col].unique()} values \\n\")"
   ]
  },
  {
   "cell_type": "code",
   "execution_count": 48,
   "id": "3cde2a37",
   "metadata": {},
   "outputs": [
    {
     "name": "stdout",
     "output_type": "stream",
     "text": [
      "State has ['MADHYA PRADESH' 'BIHAR' 'MAHARASHTRA' 'ODISHA' 'KARNATAKA'\n",
      " 'ANDHRA PRADESH' 'UTTAR PRADESH' 'GUJARAT' 'WEST BENGAL' 'TELANGANA'\n",
      " 'CHATTISGARH' 'HARYANA' 'PUNJAB' 'JHARKHAND' 'ASSAM' 'CHANDIGARH'\n",
      " 'RAJASTHAN'] values \n",
      "\n",
      "REGION has ['CENTRAL' 'EAST' 'WEST' 'SOUTH' 'NORTH'] values \n",
      "\n",
      "SEX has ['M' 'F'] values \n",
      "\n",
      "CITY has ['BARELI' 'BANDRA' 'MALHARGARH' ... 'ALUR' 'SAKLESHPUR' 'SULYA'] values \n",
      "\n",
      "DISTRICT has ['RAISEN' 'MUZAFFARPUR' 'MANDSAUR' 'LATUR' 'SAGAR' 'VIDISHA' 'CUTTACK'\n",
      " 'HOSHANGABAD' 'BAGALKOT' 'ASHOKNAGAR' 'CHITTOOR' 'BETUL' 'AURANGABAD'\n",
      " 'GUNA' 'SEHORE' 'MANDLA' 'BANDA' 'HAVERI' 'RATLAM' 'INDORE'\n",
      " 'VIZIANAGARAM' 'CHHINDWARA' 'CHANDRAPUR' 'BHADRAK' 'WEST GODAVARI'\n",
      " 'HARDA' 'UJJAIN' 'SEONI' 'NANDED' 'MAHESANA' 'NASHIK' 'TUMKUR'\n",
      " 'DAKSHIN DINAJPUR' 'JAJAPUR' 'BARGARH' 'DEWAS' 'PUNE' 'BHAVNAGAR' 'PURI'\n",
      " 'NIRMAL' 'NARSIMHAPUR' 'BALLIA' 'ADILABAD' 'RAJNANDGAON' 'BANAS KANTHA'\n",
      " 'DHULE' 'PEDDAPALLE' 'HINGOLI' 'SHIVPURI' 'MUNGER' 'CHITRADURGA'\n",
      " 'NALGONDA' 'JASHPUR' 'PANCHKULA' 'SHAHID BHAGAT SINGH NAGAR'\n",
      " 'MURSHIDABAD' 'JAYA SHANKAR (BHALUPALLY)' 'JALGAON' 'SHEOPUR' 'JALNA'\n",
      " 'JANGAON' 'MANCHERIAL' 'OSMANABAD' 'YAVATMAL' 'MAHOBA' 'BIJAPUR'\n",
      " 'RANGAREDDY' 'AMBALA' 'CHITRAKOOT' 'KHEDA' 'JUNAGADH' 'KHUNTI'\n",
      " 'DAVANAGERE' 'WARDHA' 'KOLHAPUR' 'EAST GODAVARI' 'SANGLI' 'YADADRI'\n",
      " 'BALAGHAT' 'KABEERDHAM' 'SATARA' 'BELLARY' 'BHOPAL' 'BIDAR' 'PARBHANI'\n",
      " 'NAGPUR' 'SURGUJA' 'DUMKA' 'HASSAN' 'BEGUSARAI' 'DHENKANAL' 'CHATRA'\n",
      " 'MANSA' 'DINDORI' 'SOLAPUR' 'KALAHANDI' 'GURDASPUR' 'BULDANA'\n",
      " 'PASCHIM MEDINIPUR' 'JAGATSINGHAPUR' 'RAE BARELI' 'ARAVALLIS' 'NAYAGARH'\n",
      " 'NIZAMABAD' 'UTTAR DINAJPUR' 'BEMETRA' 'RAIGARH' 'PATIALA' 'JALANDHAR'\n",
      " 'VADODARA' 'SAMASTIPUR' 'PURBA BARDHAMAN' 'HUGLI' 'NARMADA' 'MAHASAMUND'\n",
      " 'KOMARAM BHEEM ASIFABAD' 'GADAG' 'SAHIBZADA AJIT SINGH NAGAR' 'BHAGALPUR'\n",
      " 'MUNGELI' 'BELGAUM' 'JHABUA' 'GARIABAND' 'GADCHIROLI' 'AHMADNAGAR'\n",
      " 'GANJAM' 'KENDRAPARA' 'SANGRUR' 'PAKUR' 'HAZARIBAGH' 'GULBARGA' 'SHEOHAR'\n",
      " 'SRIKAKULAM' 'YAMUNANAGAR' 'GODDA' 'BAUDH' 'SUBARNAPUR' 'KHAGARIA'\n",
      " 'BISWANATH' 'CHIKKABALLAPURA' 'JANJGIR CHAMPA' 'GWALIOR' 'CHIKMAGALUR'\n",
      " 'BHANDARA' 'NADIA' 'MEDCHAL-MALKAJGIRI' 'MALDAH' 'VIKARABAD' 'PATAN'\n",
      " 'MUKTSAR' 'AMRELI' 'PURULIYA' 'SITAMARHI' 'RAIPUR' 'SAMBALPUR'\n",
      " 'DARBHANGA' 'LAKHISARAI' 'GUMLA' 'JABALPUR' 'DHAR' 'KRISHNA' 'LOHARDAGA'\n",
      " 'SANGAREDDY' 'JAMNAGAR' 'HYDERABAD' 'JAGTIAL' 'RANCHI' 'RAMGARH' 'SURAT'\n",
      " 'SURENDRANAGAR' 'AMRITSAR' 'KAPURTHALA' 'BALANGIR' 'TAPI' 'VISAKHAPATNAM'\n",
      " 'CHHATRAPATI SHAHUJI MAHARAJ NGR' 'BALODA BAZAR' 'KHORDHA' 'PRATAPGARH'\n",
      " 'BANGALORE' 'FATEHGARH SAHIB' 'SABAR KANTHA' 'BIRBHUM' 'HOSHIARPUR' 'BID'\n",
      " 'JHARGAM' 'GONDIYA' 'DEVBHOOMI DWARKA' 'PURBA CHAMPARAN' 'JHARSUGUDA'\n",
      " 'DEOGHAR' 'CHHOTA UDAIPUR' 'GANDHINAGAR' 'RUPNAGAR' 'PANCH MAHALS'\n",
      " 'LUDHIANA' 'KENDUJHAR' 'KOPPAL' 'SRI POTTI SRIRAMULU NELLORE' 'VAISHALI'\n",
      " 'AHMADABAD' 'DATIA' 'NAGARKURNOOL' 'RAJANNA SIRCILLA' 'KARIMNAGAR'\n",
      " 'SULTANPUR' 'BHARUCH' 'GIRIDIH' 'NEEMUCH' 'JALAUN' 'RAJGARH' 'BILASPUR'\n",
      " 'GHAZIPUR' 'BATHINDA' 'YSR' 'DHARWAD' 'MAHISAGAR' 'BALOD (SANJARIBALOD)'\n",
      " 'SAHARSA' 'SHIMOGA' 'PORBANDAR' 'SOUTH TWENTY FOUR PARGANAS' 'THE DANGS'\n",
      " 'NORTH TWENTY FOUR PARGANAS' 'KANDHAMAL' 'BHADRARI KOTHAGUDEM' 'MAU'\n",
      " 'MADHUBANI' 'BOTAD' 'SINDHUDURG' 'SONITPUR' 'UTTAR BASTAR KANKER'\n",
      " 'MAHBUBNAGAR' 'AZAMGARH' 'SIDDIPET' 'VARANASI' 'PURBA MEDINIPUR' 'RAJKOT'\n",
      " 'BARMER' 'NABARANGAPUR' 'PATNA' 'BANSWARA' 'NANDURBAR' 'TARN TARAN'\n",
      " 'HAMIRPUR' 'PASCHIM BARDHAMAN' 'KODARMA' 'SHAHDOL' 'AMRAVATI' 'SHAJAPUR'\n",
      " 'UNNAO' 'KARNAL' 'KAITHAL' 'PANIPAT' 'KISHANGANJ' 'KATIHAR' 'PURNIA'\n",
      " 'ARARIA' 'KONDAGAON' 'DHAMTARI' 'BHIMNAGAR' 'RAMPUR' 'BUDAUN' 'MORBI'\n",
      " 'ANANTAPUR' 'KURNOOL' 'WARANGAL URBAN' 'MAHABUBABAD' 'WARANGAL RURAL'\n",
      " 'SONBHADRA' 'CHANDAULI' 'JAUNPUR' 'SANT RAVIDAS NAGAR BHADOHI' 'MIRZAPUR'\n",
      " 'SONIPAT' 'ROHTAK' 'JHAJJAR' 'CHARKHI DADRI' 'JIND' 'HAORA' 'ANAND'\n",
      " 'PRAKASAM' 'AKOLA' 'RAICHUR' 'MYSORE' 'MANDYA' 'CHAMARAJANAGAR'\n",
      " 'RAMANAGARA' 'KHARGONE WEST NIMAR' 'BARWANI' 'KHANDWA EAST NIMAR' 'SATNA'\n",
      " 'PANNA' 'DAMOH' 'CHHATARPUR' 'REWA' 'KATNI' 'REWARI' 'GURGAON'\n",
      " 'MAHENDRAGARH' 'HISAR' 'BHIWANI' 'FATEHABAD' 'TIKAMGARH' 'UTTARA KANNADA'\n",
      " 'UDUPI' 'MOGA' 'KOLAR' 'BANGALORE RURAL' 'SIRSA' 'MAINPURI' 'AGRA'\n",
      " 'MATHURA' 'ETAH' 'FIROZABAD' 'MAHAMAYA NAGAR' 'KANSHIRAM NAGAR' 'ETAWAH'\n",
      " 'ALIGARH' 'FARRUKHABAD' 'AURAIYA' 'BAKSA' 'BARPETA' 'GOALPARA'\n",
      " 'KAMRUP METROPOLITAN' 'DARRANG' 'CHIRANG' 'KAMRUP' 'UDALGURI' 'HARDOI'\n",
      " 'SHAHJAHANPUR' 'PILIBHIT' 'MORADABAD' 'BAREILLY' 'JYOTIBA PHULE NAGAR'\n",
      " 'KANPUR DEHAT' 'FATEHPUR' 'JHANSI' 'KANPUR NAGAR' 'KAUSHAMBI' 'DOHAD'\n",
      " 'SUPAUL' 'MADHEPURA' 'BANKURA' 'GONDA' 'BARA BANKI' 'BAHRAICH' 'LUCKNOW'\n",
      " 'SITAPUR' 'AMBEDKAR NAGAR' 'KHERI' 'LALITPUR' 'MORENA' 'SURYAPET'\n",
      " 'YADGIR' 'SHRAWASTI' 'GUNTUR' 'KORBA' 'SIWAN' 'SARAN' 'GOPALGANJ'\n",
      " 'KAMAREDDY' 'WANAPARTHY' 'JOGULAMBA' 'BALRAMPUR' 'KORIYA' 'SURAJPUR'\n",
      " 'DURG' 'PASHCHIM CHAMPARAN' 'BURHANPUR' 'BHOJPUR' 'JEHANABAD' 'NALANDA'\n",
      " 'ARWAL' 'FAIZABAD' 'MEDAK' 'GAYA' 'NAWADA' 'KHAMMAM' 'KANNAUJ'\n",
      " 'ALLAHABAD' 'KAIMUR BHABUA' 'BUXAR' 'ROHTAS' 'ALIRAJPUR'\n",
      " 'PURBI SINGHBHUM' 'PASHCHIMI SINGHBHUM' 'SARAIKELA KHARSAWAN'\n",
      " 'MALKANGIRI' 'RAYAGADA' 'KORAPUT' 'SIDHI' 'ANUPPUR' 'MAYURBHANJ'\n",
      " 'BALESHWAR' 'MAHRAJGANJ' 'BASTI' 'DEORIA' 'SIDDHARTHNAGAR' 'KUSHINAGAR'\n",
      " 'GORAKHPUR' 'SANT KABIR NAGAR' 'WASHIM' 'UMARIA' 'DAKSHINA KANNADA'] values \n",
      "\n",
      "VILLAGE has ['Seoni' 'Namapur' 'Billaud' ... 'Motanayakanahalli' 'Mallanayakanahalli'\n",
      " 'Kanive Kaval'] values \n",
      "\n",
      "MARITAL_STATUS has ['M' 'S' 'NK'] values \n",
      "\n",
      "Location has [nan '23.5131479,77.8207876' '22.7184042,78.2180971' ...\n",
      " '12.9956765,76.0817159' '13.2051248,76.168746' '13.3247225,76.2488811'] values \n",
      "\n",
      "Address type has [nan 'Permanent Address' 'Current Address' 'Both Addresses'] values \n",
      "\n",
      "Ownership has [nan 'Owned' 'Parental' 'Rented'] values \n",
      "\n",
      "K022-Village category based on Agri parameters (Good, Average, Poor) has ['Poor' 'Average'] values \n",
      "\n",
      "K022-Nearest Mandi Name has ['Gotegaon' 'Chandur(Mungodu)' 'Mandsaur' 'Renapur' 'Javera' 'Gulabganj'\n",
      " 'Sagar' 'Pipariya' 'Bagalakot' 'Jawala,Bajar' 'Shahpura(Jabalpur)'\n",
      " 'Shadora' 'Katpadi' 'Betul' 'Shrigonda(Gogargaon)' 'Bhikangaon' 'Chhabra'\n",
      " 'Baktara' 'Bamora' 'Rehati' 'Nainpur' 'Nasrullaganj' 'Beohari' 'Haveri'\n",
      " 'Petlawad' 'Dound' 'Gautampura' 'Sanwer' 'Sircilla' 'Brahmpuri' 'Sironj'\n",
      " 'Armori' 'Jajpur' 'Shevgaon' 'Ungatur' 'Khurai' 'Harda' 'Khachrod'\n",
      " 'Keolari' 'Hingoli(Kanegoan Naka)' 'Ashta' 'Sihora' 'Kovvur' 'Jawar'\n",
      " 'Malegaon' 'Huliyar' 'Hiriyur' 'Kamakhyanagar' 'Mungawali' 'Sitmau'\n",
      " 'Burhanpur' 'Vaniyambadi' 'Bolangir(Patnagarh)' 'Dhar' 'Rahatgarh'\n",
      " 'Badnawar(F&V)' 'Loharda' 'Nagda' 'Amarwda' 'Khamgaon' 'Sehore' 'Berasia'\n",
      " 'Taal' 'Jatni' 'Dammapet' 'Punganur' 'Chimur' 'Kodad' 'Patur' 'Gadarwada'\n",
      " 'Banapura' 'Udaipura' 'Chaurai' 'Silvani' 'Boath' 'Hata' 'Sinner'\n",
      " 'Peddapalli' 'Basmat(Kurunda)' 'Badarwas' 'Bhainsa' 'Shegaon'\n",
      " 'Chandrapur' 'Bhongir' 'Holalkere' 'Sindkhed Raja' 'Mandla'\n",
      " 'Wardhannapet' 'Khanapur' 'Sengoan' 'Daloda' 'Kalamnuri' 'Sakri'\n",
      " 'Chhindwara' 'Panchkula' 'Indapur(Nimgaon Ketki)' 'Mehekar' 'Gairatganj'\n",
      " 'Lateri' 'Raisen' 'Praswada' 'Begamganj' 'Chandur Railway' 'Mhow'\n",
      " 'Sattupalli' 'Balapur' 'Aatpadi' 'Satana' 'Morena' 'Barad' 'Partur'\n",
      " 'Ichhawar' 'Bhiwapur' 'Srikalahasti' 'Anantapur' 'Chalisgaon' 'Gangakhed'\n",
      " 'Armoor' 'Ramayampet' 'Belur' 'Ahmednagar' 'Murtizapur' 'Nandgaon'\n",
      " 'Multai' 'Jalana' 'Shirur' 'Deglur' 'Amangal' 'Banda' 'Ausa' 'Jaleswar'\n",
      " 'Chhatarpur' 'Piprai' 'Nimapara' 'Challakere' 'Rahama' 'Nandura'\n",
      " 'Hingoli' 'Pathardi' 'Byadagi' 'Indapur' 'Karera' 'Wanaparthy Road'\n",
      " 'Tendukheda' 'Bijolia' 'Khategaon' 'Badnagar' 'Jeypore' 'Gorakhpur'\n",
      " 'Hoshangabad' 'Padampur' 'Bichhiya' 'Jamkhed' 'Davangere' 'Ghatanji'\n",
      " 'Belgaum' 'Turvekere' 'Chintalapudi' 'Mantha' 'Bina' 'Bareli' 'Palus'\n",
      " 'Aler' 'Guna' 'Akhadabalapur' 'Gajapathinagaram' 'Bangarpet' 'Gandai'\n",
      " 'Jalna(Badnapur)' 'Honnali' 'Mukhed' 'Savanur' 'Udgir' 'Harappana Halli'\n",
      " 'Yawal' 'Digras' 'Samudrapur' 'Goregaon' 'Kannod' 'Eluru,II' 'A lot'\n",
      " 'Sultanabad' 'Jintur(Bori)' 'Chanderi' 'Bhandara' 'Deori' 'Vemulawada'\n",
      " 'Latur' 'Khaniadhana' 'Badami' 'Sangamner' 'Bhadrak' 'Dharmabad'\n",
      " 'Baramati' 'Parbhani' 'Kukshi' 'Narsinghpur' 'Sonpeth' 'Nirmal'\n",
      " 'Arasikere' 'Khatora' 'Ghansawangi' 'Bobbili' 'Jamakhandi'\n",
      " 'Nabarangpur(Umerkote)' 'Bhitarwar' 'Chhpara' 'Naraingarh' 'Unhel'\n",
      " 'Denduluru' 'Talcher' 'Jagalur' 'Chipurupalli' 'Banswara' 'Loharu'\n",
      " 'Karvi' 'Siroli' 'Hissar' 'Akluj' 'Nagbhid' 'Kesinga' 'Ralegaon' 'Ichoda'\n",
      " 'Manwat' 'Lasalgaon' 'Jhabua' 'Choutuppal' 'Mundaragi' 'Amalner' 'Rahuri'\n",
      " 'Sangrampur(Varvatbakal)' 'LavKush Nagar(Laundi)' 'Chandabali'\n",
      " 'Ganjbasoda' 'Udala' 'Newasa' 'Bellary' 'Hathin' 'Sarankul' 'Bodwad'\n",
      " 'Jobat' 'Nagamangala' 'Kesli' 'Ashoknagar' 'Arakalgud'\n",
      " 'Adilabad(Rythu Bazar)' 'Haatpipliya' 'Buldhana(Dhad)' 'Shamshabad'\n",
      " 'Bhimadole' 'Kammarpally' 'Shankarapally' 'Channagiri' 'Lonar' 'Korpana'\n",
      " 'Bhalki' 'Seoni' 'Dewas' 'Chakur' 'Jaora' 'Junnar(Otur)' 'Jullana'\n",
      " 'Vaijpur' 'Bankhedi' 'Mohindergarh' 'Bampada' 'Shahdol' 'Kalwakurthy'\n",
      " 'Bhopal' 'Chintamani' 'Dindori' 'Nira(Saswad)' 'Damoh' 'Sonkatch'\n",
      " 'Malegaon(Vashim)' 'Doranpal' 'Badwani' 'Kunigal' 'Pandhana' 'Ramtek'\n",
      " 'Indore' 'Malthone' 'Hinganghat' 'Shyampur' 'Magroni' 'Chitradurga'\n",
      " 'Rehli' 'Boudh' 'Hadgaon' 'Mandya' 'Selu' 'Hungund' 'Pattamundai'\n",
      " 'Ahmedpur' 'Suragana' 'Madanapalli' 'Nagarkurnool' 'Piplya'\n",
      " 'Vijayanagaram' 'Timarni' 'Mulugu' 'T. Narasipura' 'Ratlam' 'Harihara'\n",
      " 'Chirala' 'Polavaram' 'Bijawar' 'Bilagi' 'Sindi' 'Katni' 'Makdi'\n",
      " 'Srinivasapur' 'Devarakonda' 'Dharmapuri' 'Thottambedu' 'Rajgarh'\n",
      " 'Chityal' 'Pulgaon' 'Sailana' 'Pandhurna' 'Pusad' 'Mohol' 'Jagatsinghpur'\n",
      " 'Lakhani' 'Raver' 'Parner' 'Kendrapara(Marshaghai)' 'Ratia' 'Hosadurga'\n",
      " 'Wardha' 'Athani' 'Ranebennur' 'Kolaras' 'Channarayapatna' 'Bijapur'\n",
      " 'Obedullaganj' 'Penukonda' 'Aron' 'Shivpuri' 'Shiggauv' 'Adampur'\n",
      " 'Mahagaon' 'Karatgi' 'Alanda' 'Kinwat' 'Barshi Takli' 'Malkanagiri'\n",
      " 'Shrirampur(Belapur)' 'Mancharial' 'Talikot' 'Varora' 'Radaur'\n",
      " 'Birmaharajpur' 'Attabira' 'Paatan' 'Naugaon' 'Khanina' 'Krosuru'\n",
      " 'Hoovinahadagali' 'Chopada' 'Risod' 'Ashti(Jalna)' 'Kurwai' 'Sirguppa'\n",
      " 'Rahata' 'Bhensdehi' 'Mothkur' 'Gubbi' 'Kottur' 'Lakhandur'\n",
      " 'Achampet(Amrabad)' 'Tenakallu' 'Gopa' 'Pachora(Bhadgaon)' 'Kendupatna'\n",
      " 'Umared' 'Gangavathi' 'Sohela' 'Ghansour' 'Chinnoar' 'Ambad (Vadigodri)'\n",
      " 'Bilaspur' 'Sidhi' 'Kodakandal' 'Manasa' 'Gannavaram' 'Porsa' 'Akkalkot'\n",
      " 'Gulburga(Jhevargi)' 'Kosli' 'Varni' 'Shahagarh' 'Vijaypur' 'Lakhnadon'\n",
      " 'Jhajjar' 'Yalburga' 'Bhawanipatna' 'Manakodur' 'Tohana' 'Shadnagar'\n",
      " 'Akola' 'Madhira' 'Mangrulpeer' 'Kailaras' 'Tosham' 'Tiwasa'\n",
      " 'Dungurapalli' 'Pawai' 'Nagalapuram' 'Rewa' 'Katol' 'Achampet' 'Motala'\n",
      " 'Hadgaon(Tamsa)' 'Birkur' 'Yeola' 'Hospet' 'Rajura' 'Ramnagar' 'Bolangir'\n",
      " 'Chaakghat' 'Khirakiya' 'Sadasivpet' 'Mukhiguda' 'Amarpatan'\n",
      " 'New Grain Market , Jind' 'Chandvad' 'Nanded' 'Ponnur' 'Jaggayyapeta'\n",
      " 'Isagarh' 'Kareli' 'Tumkur' 'Medipally' 'Balugaon' 'Paithan' 'Sarangapur'\n",
      " 'Sankeshwar' 'Ellanabad' 'Barikpur' 'Deoulgaon Raja' 'Kalamb' 'Ashti'\n",
      " 'Voligonda(Ramannapet)' 'Asandh' 'Narsipatnam' 'Simariya' 'Lingasugur'\n",
      " 'Satna' 'Hirekerur' 'Sira' 'Aurad Shahajani' 'Gharaunda' 'Wyra'\n",
      " 'Tadikonda' 'Pichhour' 'Kurawar' 'Gangapur' 'Mohgaon' 'Mudkhed'\n",
      " 'Bowenpally' 'K.R. Pet' 'Maregoan' 'Mhalingapur' 'Siwani' 'Penugonda'\n",
      " 'Jaitgiri' 'Pohari' 'Ghoti' 'Tirupati' 'Syopurkalan(F&V)' 'Shrirampur'\n",
      " 'Barshi(Vairag)' 'Umarkhed' 'Mangal Wedha' 'Nawarangpur' 'Ajaygarh'\n",
      " 'Pandkital' 'Dhone' 'Garhakota' 'Bhadravathi' 'Karimnagar' 'Miryalaguda'\n",
      " 'Sedam' 'Mahbubnagar(Nawabpet)' 'Ateli' 'Laxmeshwar' 'Nanggaon'\n",
      " 'Chandur Bazar' 'Rannod' 'Kataram' 'Barshi' 'Kadur' 'Hosanagar' 'Charla'\n",
      " 'Baikunthpur' 'Pandharpur' 'Daryapur' 'Mau(Chitrakut)' 'Bhiwani'\n",
      " 'Penamaluru' 'Fatehabad' 'Lashkar' 'Sonepat(Kharkhoda)' 'Mohanpur'\n",
      " 'Nizamabad' 'Kuntur' 'Indapur(Bhigwan)' 'Bonai' 'Bahadurgarh' 'Sambalpur'\n",
      " 'Bahadajholla' 'Nasik' 'Adoni' 'Semriharchand' 'K.R.Nagar' 'Ghanpur'\n",
      " 'Banmorkalan' 'Chamorshi' 'Umariya' 'Kothavalasa' 'Manmad' 'Tiruvuru'\n",
      " 'Mylavaram' 'Rajnagar' 'Telhara' 'Sabalgarh' 'Mandhal' 'Bagli' 'Nuzvid'\n",
      " 'Savali' 'Sardarnagar' 'Kasrawad' 'Anandapur' 'Jabalpur' 'Palera'\n",
      " 'Yellandu' 'Akot' 'Gondpimpri' 'Puttur' 'Mul' 'Mahur' 'Chilakaluripet'\n",
      " 'Hubli (Amaragol)' 'Bhimunipatnam' 'Jalkot' 'Dabra' 'Indri' 'Hanagal'\n",
      " 'Samalkha' 'Pusapatirega' 'Katangi' 'Sindagi' 'Tarikere' 'Saunsar'\n",
      " 'Sahidngar' 'Jharsuguda' 'Bhiknoor' 'Banaganapalli' 'Wanaparthy town'\n",
      " 'Bhadrawati' 'Koratla' 'Kalvan' 'Velpur' 'Parola' 'Hassan'\n",
      " 'Ibrahimpatnam' 'Devala' 'Sattenapalli' 'Kamthi' 'Gandhari'\n",
      " 'Sheopurkalan' 'Washim(Ansing)' 'Pavani' 'Hanumana' 'Behal' 'Kagaznagar'\n",
      " 'Ambaha' 'Mehar' 'Rona' 'Tumsar' 'Pandavapura' 'Darsi' 'Piler'\n",
      " 'Kalidindi' 'Koppal' 'Palthan' 'Hunsur' 'Narsapur' 'Gandchiroli' 'Dhule'\n",
      " 'Narnaud(Bass)' 'Dhenkanal' 'Ganaur' 'Piriya Pattana' 'Rayachoti'\n",
      " 'Alirajpur' 'Jora' 'Kundagol' 'Neemuch' 'Pitlam' 'Shahpura' 'Rayadurg'\n",
      " 'Madhugiri' 'Sindevahi' 'Gevrai' 'Soundati' 'Dhamngaon,Railway' 'Ladwa'\n",
      " 'Jatara' 'Badepalli' 'Dudhani' 'Gopalavaram' 'Banki' 'Jalgaon'\n",
      " 'Kundalwadi' 'Hindol' 'Nelakondapally' 'Barghat' 'Atarra' 'Alur'\n",
      " 'Raipur Rai' 'Patharia' 'Solapur' 'Kaithal' 'Bodhan' 'Rewari' 'Sindhanur'\n",
      " 'Dhamnod' 'Ramdurga' 'Loha' 'Manora' 'Holenarsipura' 'Bhanpura'\n",
      " 'Dondaicha(Sindhkheda)' 'Itarsi' 'Nagod' 'Guntakal' 'Nargunda' 'Thandla'\n",
      " 'Peddapuram' 'Manthani' 'Gondiya' 'Baripada' 'Murim' 'Pargi' 'Maddur'\n",
      " 'Nira' 'Nilanga' 'Devadurga' 'Jogipet' 'Nilagiri' 'Gundlupet' 'Narsampet'\n",
      " 'Wanaparthy Road(Prbbair)' 'Humanabad' 'Vikarabad' 'Tiroda' 'Kunjpura'\n",
      " 'Narasaraopet' 'New Grain Market , Bhiwani' 'Shimoga' 'Rania' 'Pathari'\n",
      " 'Kamareddy' 'Meham' 'Jainath' 'Narayankhed' 'Sirsa'\n",
      " 'Bhiwani(Bawani Khera)' 'Shikaripura' 'Arvi' 'Narayanpet' 'Kustagi'\n",
      " 'Shirpur' 'Gajwel' 'Kalayat' 'Devandranagar' 'Hansi' 'Akole'\n",
      " 'Nandikotkur' 'Tadkalas' 'Segaon' 'Narsapuram' 'Siddipet' 'Khargone'\n",
      " 'Khariar Road' 'Israna' 'Koraput(Semilguda)' 'Nakrekal' 'Huzzurabad'\n",
      " 'Bargarh(Barapalli)' 'Kosgi' 'Arjuni' 'New Grain Market(main)' 'Panipat'\n",
      " 'Chhinari' 'Manvi' 'Yemmiganur' 'Sonepat' 'Jind' 'Gohana' 'Kalyandurg'\n",
      " 'Dharmavaram' 'Urvakonda' 'Madakasira' 'Gooti' 'Pavagada' 'Tadipatri'\n",
      " 'Nandyal' 'Macharla' 'Kurnool' 'Markapur' 'Mahabubabad'\n",
      " 'Narsampet(Nekonda)' 'Cherial' 'Thorrur' 'Jangaon' 'Kesamudram'\n",
      " 'Bhopalpattnam' 'Parkal' 'Dubbak' 'Husnabad' 'Nandigama' 'Suryapeta'\n",
      " 'Tileibani' 'Rohtak' 'Ch. Dadri' 'Panna' 'Allagadda' 'Jammalamadugu'\n",
      " 'Koilkunta' 'Ongole' 'Atmakur' 'Raichur' 'Giddalur' 'Proddatur' 'Kondapi'\n",
      " 'Podili' 'Kallur' 'Anajngaon' 'Jagdalpur' 'Amarawati' 'Pandhakawada'\n",
      " 'Amrawati(Frui & Veg. Market)' 'Morshi' 'Darwha' 'Ner Parasopant' 'Varud'\n",
      " 'Medak' 'Denkanikottai' 'Gadag' 'Srirangapattana' 'Pulpally' 'Somvarpet'\n",
      " 'Huzurnagar' 'Thalavadi' 'Nanjangud' 'Mysore (Bandipalya)' 'Kollegal'\n",
      " 'Santhesargur' 'Sanawad' 'Gandhwani' 'Manawar' 'Anjad' 'Karhi' 'Sendhwa'\n",
      " 'Badwaha' 'Balwadi' 'Khetia' 'Harpalpur' 'Pataudi' 'Sohna' 'Kathalapur'\n",
      " 'Choppadandi' 'Jagtial' 'Yellapur' 'Yellareddy' 'Narwana'\n",
      " 'Barwala(Hisar)' 'Safidon' 'Khargapur' 'Prithvipur' 'Tikamgarh'\n",
      " 'Badamalhera' 'Bakswaha' 'Hirapur' 'Doddaballa Pur' 'Sorabha'\n",
      " 'Thirthahalli' 'Bagepalli' 'Chickkaballapura' 'Parshiwani' 'Babhulgaon'\n",
      " 'Chhuria' 'Savner' 'Dabwali(Chautala)' 'Narela' 'Beri' 'Dharni'\n",
      " 'Kopargaon' 'Kada(Ashti)' 'Pai(Rajaund)' 'Khairthal' 'Dharwar'\n",
      " 'Nandagada' 'Gokak' 'Bailahongal' 'Kollapur' 'Indravelly(Utnoor)'\n",
      " 'Gunpur' 'Dholpur' 'Loharu(Dighwa)' 'Itawa' 'Gohad' 'Jarar'\n",
      " 'Venkateswarnagar' 'Halia' 'Kotagiri' 'Vinukonda'\n",
      " 'Devarkonda(Mallepalli)' 'Yadgir' 'Ipur' 'Bapatla' 'Mangalagiri'\n",
      " 'Repalli' 'Pidugurala(Palnadu)' 'Parchur' 'Tenali' 'Kanchekacherla'\n",
      " 'Movva Hqs' 'Kuchinapudi' 'Kandukur' 'Lakkireddipally' 'Banswada'\n",
      " 'Bichkunda' 'Rajampet' 'Sadashivnagar' 'Neredcherla' 'Mahbubnagar'\n",
      " 'Devarakadra' 'Makthal' 'Alampur' 'Vantamamidi' 'Chittapur' 'Annigeri'\n",
      " 'Kalagategi' 'Siddapur' 'Venkatagiri' 'Addanki' 'Martur' 'Malur' 'Aurad'\n",
      " 'Kotma' 'Budhar' 'Baraut' 'Divi' 'Vuyyur' 'Machilipatnam' 'Kurdwadi'\n",
      " 'Maddipadu' 'Udayagiri' 'Dahod' 'Tirumalagiri' 'Bhadrachalam' 'Khammam'\n",
      " 'Dornakal' 'Shahapur' 'Risgaon' 'Koraput' 'Tokapal' 'Rayagada(Muniguda)'\n",
      " 'Devbhog' 'Rayagada' 'Javad' 'Jaithari' 'Khanauri' 'Chikali' 'Washim'\n",
      " 'Sangrampur' 'Malkapur' 'Jalgaon Jamod(Aasalgaon)' 'Jalgaon(Jamod)'\n",
      " 'Gowribidanoor' 'Barara' 'Anuppur' 'Manendragarh' 'Vani' 'Sakaleshpura'\n",
      " 'Madikeri'] values \n",
      "\n",
      "K022-Village category based on socio-economic parameters (Good, Average, Poor) has ['Poor' 'Average' 'Good'] values \n",
      "\n",
      "K022-Ambient temperature (min & max) has ['23.34 /30.33' '23.28 /29.99' '23.25 /31.26' ... '24.59 /31.04'\n",
      " '19.48 /25.28' '21.2 /26.9'] values \n",
      "\n",
      "R022-Village category based on Agri parameters (Good, Average, Poor) has ['Poor' 'Average'] values \n",
      "\n",
      "R022-Ambient temperature (min & max) has ['16.19 /29.07' '19.7 /30.52' '15.62 /28.67' ... '20.08 /31.65'\n",
      " '18.25 /29.13' '20.19 /30.97'] values \n",
      "\n",
      "K021-Ambient temperature (min & max) has ['23.29 /29.78' '23.39 /29.89' '23.14 /30.22' ... '24.36 /30.63'\n",
      " '19.83 /24.74' '21.49 /26.29'] values \n",
      "\n",
      "R021-Ambient temperature (min & max) has ['16.48 /30.02' '19.54 /30.98' '16.21 /29.91' ... '20.14 /32.63'\n",
      " '18.29 /29.39' '20.52 /31.09'] values \n",
      "\n",
      "R020-Ambient temperature (min & max) has ['16.08 /28.09' '20.37 /30.56' '16.13 /28.32' ... '20.86 /31.64'\n",
      " '18.81 /29.71' '20.84 /31.62'] values \n",
      "\n",
      "Kharif Seasons  Type of soil in 2022 has ['Deep Black soils (with shallow and medium Black Soils as inclusion)'\n",
      " 'Mixed Red and Black Soils'\n",
      " 'Shallow Black Soils (with medium and deep Black Soils as  inclusion)'\n",
      " 'Red loamy Soils' 'Red and lateritic Soils'\n",
      " 'Coastal and Deltaic Alluvium derived Soils'\n",
      " 'Alluvial-derived Soils (with saline phases)' 'Desert (saline) Soils'] values \n",
      "\n",
      "Kharif Seasons  Type of water bodies in hectares 2022 has [\"['water']\" \"['river']\" '[None]' \"['riverbank']\" \"['reservoir, water']\"\n",
      " \"['river, water']\" \"['reservoir']\" \"['reservoir, river']\"\n",
      " \"['river, riverbank, water']\" \"['river, water, wetland']\"\n",
      " \"['riverbank, water']\" \"['river, riverbank']\"\n",
      " \"['reservoir, river, water']\" \"['river, wetland']\" \"['water, wetland']\"\n",
      " \"['wetland']\" \"['reservoir, riverbank, water']\"\n",
      " \"['river, riverbank, wetland']\" \"['riverbank, wetland']\"\n",
      " \"['reservoir, water, wetland']\" \"['reservoir, wetland']\"\n",
      " \"['reservoir, river, riverbank']\"] values \n",
      "\n",
      "Kharif Seasons  Agro Ecological Sub Zone in 2022 has ['CENTRAL HIGHLANDS (MALWA AND BUNDELKHAND)  HOT SUBHUMID (DRY) ECO-REGION'\n",
      " 'DECCAN PLATEAU  (TELANGANA) AND EASTERN GHATS  HOT SEMI ARID ECO-REGION'\n",
      " 'CENTRAL HIGHLANDS ( MALWA )  GUJARAT PLAIN AND KATHIAWAR PENINSULA  SEMI-ARID ECO-REGION'\n",
      " 'DECCAN PLATU  HOT SEMI-ARID ECO-REGION'\n",
      " 'KARNATAKA PLATEAU (RAYALSEEMA AS INCLUSION)'\n",
      " 'EASTERN GHATS AND TAMIL NADU UPLANDS AND DECCAN (K ARNATAKA) PLATEAU  HOT SEMI-ARID ECO-REGION'\n",
      " 'EASTERN PLATEAU (CHHOTANAGPUR) AND EASTERN GHATS  HOT SUBHUMID ECO-REGION'\n",
      " 'EASTERN COASTAL PLAIN  HOT SUBHUMID TO SEMI-ARID EGO-REGION'\n",
      " 'NORTHERN PLAIN (AND CENTRAL HIGHLANDS) INCLUDING ARAVALLIS  HOT SEMI-ARID EGO-REGION'\n",
      " 'NORTHERN PLAIN  HOT SUBHUMID (DRY) ECO-REGION'\n",
      " 'WESTERN PLAIN  KACHCHH AND PART OF KATHIAWAR PENINSULA, HOT ARID ECO-REGION'\n",
      " 'WESTERN GHATS AND COASTAL PLAIN  HOT HUMID-PERHUMID ECO-REGION'] values \n",
      "\n",
      "Rabi Seasons Type of soil in 2022 has ['Deep Black soils (with shallow and medium Black Soils as inclusion)'\n",
      " 'Mixed Red and Black Soils'\n",
      " 'Shallow Black Soils (with medium and deep Black Soils as  inclusion)'\n",
      " 'Red loamy Soils' 'Red and lateritic Soils'\n",
      " 'Coastal and Deltaic Alluvium derived Soils'\n",
      " 'Alluvial-derived Soils (with saline phases)' 'Desert (saline) Soils'] values \n",
      "\n",
      "Rabi Seasons Type of water bodies in hectares 2022 has [\"['water']\" \"['river']\" '[None]' \"['riverbank']\" \"['reservoir, water']\"\n",
      " \"['river, water']\" \"['reservoir']\" \"['reservoir, river']\"\n",
      " \"['river, riverbank, water']\" \"['river, water, wetland']\"\n",
      " \"['riverbank, water']\" \"['river, riverbank']\"\n",
      " \"['reservoir, river, water']\" \"['river, wetland']\" \"['water, wetland']\"\n",
      " \"['wetland']\" \"['reservoir, riverbank, water']\"\n",
      " \"['river, riverbank, wetland']\" \"['riverbank, wetland']\"\n",
      " \"['reservoir, water, wetland']\" \"['reservoir, wetland']\"\n",
      " \"['reservoir, river, riverbank']\"] values \n",
      "\n",
      "Rabi Seasons Agro Ecological Sub Zone in 2022 has ['CENTRAL HIGHLANDS (MALWA AND BUNDELKHAND)  HOT SUBHUMID (DRY) ECO-REGION'\n",
      " 'DECCAN PLATEAU  (TELANGANA) AND EASTERN GHATS  HOT SEMI ARID ECO-REGION'\n",
      " 'CENTRAL HIGHLANDS ( MALWA )  GUJARAT PLAIN AND KATHIAWAR PENINSULA  SEMI-ARID ECO-REGION'\n",
      " 'DECCAN PLATU  HOT SEMI-ARID ECO-REGION'\n",
      " 'KARNATAKA PLATEAU (RAYALSEEMA AS INCLUSION)'\n",
      " 'EASTERN GHATS AND TAMIL NADU UPLANDS AND DECCAN (K ARNATAKA) PLATEAU  HOT SEMI-ARID ECO-REGION'\n",
      " 'EASTERN PLATEAU (CHHOTANAGPUR) AND EASTERN GHATS  HOT SUBHUMID ECO-REGION'\n",
      " 'EASTERN COASTAL PLAIN  HOT SUBHUMID TO SEMI-ARID EGO-REGION'\n",
      " 'NORTHERN PLAIN (AND CENTRAL HIGHLANDS) INCLUDING ARAVALLIS  HOT SEMI-ARID EGO-REGION'\n",
      " 'NORTHERN PLAIN  HOT SUBHUMID (DRY) ECO-REGION'\n",
      " 'WESTERN PLAIN  KACHCHH AND PART OF KATHIAWAR PENINSULA, HOT ARID ECO-REGION'\n",
      " 'WESTERN GHATS AND COASTAL PLAIN  HOT HUMID-PERHUMID ECO-REGION'] values \n",
      "\n",
      "Rabi Seasons Type of soil in 2021 has ['Deep Black soils (with shallow and medium Black Soils as inclusion)'\n",
      " 'Mixed Red and Black Soils'\n",
      " 'Shallow Black Soils (with medium and deep Black Soils as  inclusion)'\n",
      " 'Red loamy Soils' 'Red and lateritic Soils'\n",
      " 'Coastal and Deltaic Alluvium derived Soils'\n",
      " 'Alluvial-derived Soils (with saline phases)' 'Desert (saline) Soils'] values \n",
      "\n",
      "Rabi Seasons Type of water bodies in hectares 2021 has [\"['water']\" \"['river']\" '[None]' \"['riverbank']\" \"['reservoir, water']\"\n",
      " \"['river, water']\" \"['reservoir']\" \"['reservoir, river']\"\n",
      " \"['river, riverbank, water']\" \"['river, water, wetland']\"\n",
      " \"['riverbank, water']\" \"['river, riverbank']\"\n",
      " \"['reservoir, river, water']\" \"['river, wetland']\" \"['water, wetland']\"\n",
      " \"['wetland']\" \"['reservoir, riverbank, water']\"\n",
      " \"['river, riverbank, wetland']\" \"['riverbank, wetland']\"\n",
      " \"['reservoir, water, wetland']\" \"['reservoir, wetland']\"\n",
      " \"['reservoir, river, riverbank']\"] values \n",
      "\n",
      "Rabi Seasons Agro Ecological Sub Zone in 2021 has ['CENTRAL HIGHLANDS (MALWA AND BUNDELKHAND)  HOT SUBHUMID (DRY) ECO-REGION'\n",
      " 'DECCAN PLATEAU  (TELANGANA) AND EASTERN GHATS  HOT SEMI ARID ECO-REGION'\n",
      " 'CENTRAL HIGHLANDS ( MALWA )  GUJARAT PLAIN AND KATHIAWAR PENINSULA  SEMI-ARID ECO-REGION'\n",
      " 'DECCAN PLATU  HOT SEMI-ARID ECO-REGION'\n",
      " 'KARNATAKA PLATEAU (RAYALSEEMA AS INCLUSION)'\n",
      " 'EASTERN GHATS AND TAMIL NADU UPLANDS AND DECCAN (K ARNATAKA) PLATEAU  HOT SEMI-ARID ECO-REGION'\n",
      " 'EASTERN PLATEAU (CHHOTANAGPUR) AND EASTERN GHATS  HOT SUBHUMID ECO-REGION'\n",
      " 'EASTERN COASTAL PLAIN  HOT SUBHUMID TO SEMI-ARID EGO-REGION'\n",
      " 'NORTHERN PLAIN (AND CENTRAL HIGHLANDS) INCLUDING ARAVALLIS  HOT SEMI-ARID EGO-REGION'\n",
      " 'NORTHERN PLAIN  HOT SUBHUMID (DRY) ECO-REGION'\n",
      " 'WESTERN PLAIN  KACHCHH AND PART OF KATHIAWAR PENINSULA, HOT ARID ECO-REGION'\n",
      " 'WESTERN GHATS AND COASTAL PLAIN  HOT HUMID-PERHUMID ECO-REGION'] values \n",
      "\n",
      "Kharif Seasons Type of soil in 2021 has ['Deep Black soils (with shallow and medium Black Soils as inclusion)'\n",
      " 'Mixed Red and Black Soils'\n",
      " 'Shallow Black Soils (with medium and deep Black Soils as  inclusion)'\n",
      " 'Red loamy Soils' 'Red and lateritic Soils'\n",
      " 'Coastal and Deltaic Alluvium derived Soils'\n",
      " 'Alluvial-derived Soils (with saline phases)' 'Desert (saline) Soils'] values \n",
      "\n",
      "Kharif Seasons Type of water bodies in hectares 2021 has [\"['water']\" \"['river']\" '[None]' \"['riverbank']\" \"['reservoir, water']\"\n",
      " \"['river, water']\" \"['reservoir']\" \"['reservoir, river']\"\n",
      " \"['river, riverbank, water']\" \"['river, water, wetland']\"\n",
      " \"['riverbank, water']\" \"['river, riverbank']\"\n",
      " \"['reservoir, river, water']\" \"['river, wetland']\" \"['water, wetland']\"\n",
      " \"['wetland']\" \"['reservoir, riverbank, water']\"\n",
      " \"['river, riverbank, wetland']\" \"['riverbank, wetland']\"\n",
      " \"['reservoir, water, wetland']\" \"['reservoir, wetland']\"\n",
      " \"['reservoir, river, riverbank']\"] values \n",
      "\n",
      "Kharif Seasons Agro Ecological Sub Zone in 2021 has ['CENTRAL HIGHLANDS (MALWA AND BUNDELKHAND)  HOT SUBHUMID (DRY) ECO-REGION'\n",
      " 'DECCAN PLATEAU  (TELANGANA) AND EASTERN GHATS  HOT SEMI ARID ECO-REGION'\n",
      " 'CENTRAL HIGHLANDS ( MALWA )  GUJARAT PLAIN AND KATHIAWAR PENINSULA  SEMI-ARID ECO-REGION'\n",
      " 'DECCAN PLATU  HOT SEMI-ARID ECO-REGION'\n",
      " 'KARNATAKA PLATEAU (RAYALSEEMA AS INCLUSION)'\n",
      " 'EASTERN GHATS AND TAMIL NADU UPLANDS AND DECCAN (K ARNATAKA) PLATEAU  HOT SEMI-ARID ECO-REGION'\n",
      " 'EASTERN PLATEAU (CHHOTANAGPUR) AND EASTERN GHATS  HOT SUBHUMID ECO-REGION'\n",
      " 'EASTERN COASTAL PLAIN  HOT SUBHUMID TO SEMI-ARID EGO-REGION'\n",
      " 'NORTHERN PLAIN (AND CENTRAL HIGHLANDS) INCLUDING ARAVALLIS  HOT SEMI-ARID EGO-REGION'\n",
      " 'NORTHERN PLAIN  HOT SUBHUMID (DRY) ECO-REGION'\n",
      " 'WESTERN PLAIN  KACHCHH AND PART OF KATHIAWAR PENINSULA, HOT ARID ECO-REGION'\n",
      " 'WESTERN GHATS AND COASTAL PLAIN  HOT HUMID-PERHUMID ECO-REGION'] values \n",
      "\n",
      "Kharif Seasons Type of soil in 2020 has ['Deep Black soils (with shallow and medium Black Soils as inclusion)'\n",
      " 'Mixed Red and Black Soils'\n",
      " 'Shallow Black Soils (with medium and deep Black Soils as  inclusion)'\n",
      " 'Red loamy Soils' 'Red and lateritic Soils'\n",
      " 'Coastal and Deltaic Alluvium derived Soils'\n",
      " 'Alluvial-derived Soils (with saline phases)' 'Desert (saline) Soils'] values \n",
      "\n",
      "Kharif Seasons Type of water bodies in hectares 2020 has [\"['water']\" \"['river']\" '[None]' \"['riverbank']\" \"['reservoir, water']\"\n",
      " \"['river, water']\" \"['reservoir']\" \"['reservoir, river']\"\n",
      " \"['river, riverbank, water']\" \"['riverbank, water']\"\n",
      " \"['river, water, wetland']\" \"['reservoir, river, water']\"\n",
      " \"['river, riverbank']\" \"['river, wetland']\" \"['water, wetland']\"\n",
      " \"['wetland']\" \"['reservoir, riverbank, water']\"\n",
      " \"['river, riverbank, wetland']\" \"['reservoir, water, wetland']\"\n",
      " \"['reservoir, wetland']\" \"['riverbank, wetland']\"\n",
      " \"['reservoir, river, riverbank']\"] values \n",
      "\n",
      "Kharif Seasons Agro Ecological Sub Zone in 2020 has ['CENTRAL HIGHLANDS (MALWA AND BUNDELKHAND)  HOT SUBHUMID (DRY) ECO-REGION'\n",
      " 'DECCAN PLATEAU  (TELANGANA) AND EASTERN GHATS  HOT SEMI ARID ECO-REGION'\n",
      " 'CENTRAL HIGHLANDS ( MALWA )  GUJARAT PLAIN AND KATHIAWAR PENINSULA  SEMI-ARID ECO-REGION'\n",
      " 'DECCAN PLATU  HOT SEMI-ARID ECO-REGION'\n",
      " 'KARNATAKA PLATEAU (RAYALSEEMA AS INCLUSION)'\n",
      " 'EASTERN GHATS AND TAMIL NADU UPLANDS AND DECCAN (K ARNATAKA) PLATEAU  HOT SEMI-ARID ECO-REGION'\n",
      " 'EASTERN PLATEAU (CHHOTANAGPUR) AND EASTERN GHATS  HOT SUBHUMID ECO-REGION'\n",
      " 'NORTHERN PLAIN (AND CENTRAL HIGHLANDS) INCLUDING ARAVALLIS  HOT SEMI-ARID EGO-REGION'\n",
      " 'EASTERN COASTAL PLAIN  HOT SUBHUMID TO SEMI-ARID EGO-REGION'\n",
      " 'NORTHERN PLAIN  HOT SUBHUMID (DRY) ECO-REGION'\n",
      " 'WESTERN PLAIN  KACHCHH AND PART OF KATHIAWAR PENINSULA, HOT ARID ECO-REGION'\n",
      " 'WESTERN GHATS AND COASTAL PLAIN  HOT HUMID-PERHUMID ECO-REGION'] values \n",
      "\n",
      "Rabi Seasons Type of soil in 2020 has ['Deep Black soils (with shallow and medium Black Soils as inclusion)'\n",
      " 'Mixed Red and Black Soils'\n",
      " 'Shallow Black Soils (with medium and deep Black Soils as  inclusion)'\n",
      " 'Red loamy Soils' 'Red and lateritic Soils'\n",
      " 'Coastal and Deltaic Alluvium derived Soils'\n",
      " 'Alluvial-derived Soils (with saline phases)' 'Desert (saline) Soils'] values \n",
      "\n",
      "Rabi Seasons Type of water bodies in hectares 2020 has [\"['water']\" \"['river']\" '[None]' \"['riverbank']\" \"['reservoir, water']\"\n",
      " \"['river, water']\" \"['reservoir']\" \"['reservoir, river']\"\n",
      " \"['river, riverbank, water']\" \"['river, water, wetland']\"\n",
      " \"['riverbank, water']\" \"['river, riverbank']\"\n",
      " \"['reservoir, river, water']\" \"['river, wetland']\" \"['water, wetland']\"\n",
      " \"['wetland']\" \"['reservoir, riverbank, water']\"\n",
      " \"['river, riverbank, wetland']\" \"['riverbank, wetland']\"\n",
      " \"['reservoir, water, wetland']\" \"['reservoir, wetland']\"\n",
      " \"['reservoir, river, riverbank']\"] values \n",
      "\n",
      "Rabi Seasons Agro Ecological Sub Zone in 2020 has ['CENTRAL HIGHLANDS (MALWA AND BUNDELKHAND)  HOT SUBHUMID (DRY) ECO-REGION'\n",
      " 'DECCAN PLATEAU  (TELANGANA) AND EASTERN GHATS  HOT SEMI ARID ECO-REGION'\n",
      " 'CENTRAL HIGHLANDS ( MALWA )  GUJARAT PLAIN AND KATHIAWAR PENINSULA  SEMI-ARID ECO-REGION'\n",
      " 'DECCAN PLATU  HOT SEMI-ARID ECO-REGION'\n",
      " 'KARNATAKA PLATEAU (RAYALSEEMA AS INCLUSION)'\n",
      " 'EASTERN GHATS AND TAMIL NADU UPLANDS AND DECCAN (K ARNATAKA) PLATEAU  HOT SEMI-ARID ECO-REGION'\n",
      " 'EASTERN PLATEAU (CHHOTANAGPUR) AND EASTERN GHATS  HOT SUBHUMID ECO-REGION'\n",
      " 'EASTERN COASTAL PLAIN  HOT SUBHUMID TO SEMI-ARID EGO-REGION'\n",
      " 'NORTHERN PLAIN (AND CENTRAL HIGHLANDS) INCLUDING ARAVALLIS  HOT SEMI-ARID EGO-REGION'\n",
      " 'NORTHERN PLAIN  HOT SUBHUMID (DRY) ECO-REGION'\n",
      " 'WESTERN PLAIN  KACHCHH AND PART OF KATHIAWAR PENINSULA, HOT ARID ECO-REGION'\n",
      " 'WESTERN GHATS AND COASTAL PLAIN  HOT HUMID-PERHUMID ECO-REGION'] values \n",
      "\n",
      " Village category based on socio-economic parameters (Good, Average, Poor) has ['Poor' 'Average' 'Good'] values \n",
      "\n"
     ]
    }
   ],
   "source": [
    "# checking all categorical feature where they requried any filtering or not\n",
    "for col in catego_col:\n",
    "    print(f'{col} has {df[col].unique()} values \\n')"
   ]
  },
  {
   "cell_type": "code",
   "execution_count": 49,
   "id": "28d74261",
   "metadata": {},
   "outputs": [],
   "source": [
    "float_col = [col for col in df.columns if df[col].dtype == 'float']"
   ]
  },
  {
   "cell_type": "code",
   "execution_count": 50,
   "id": "0d65c14d",
   "metadata": {},
   "outputs": [
    {
     "data": {
      "text/plain": [
       "['Avg_Disbursement_Amount_Bureau',\n",
       " 'Total_Land_For_Agriculture',\n",
       " 'K022-Proximity to nearest mandi (Km)',\n",
       " 'K022-Proximity to nearest railway (Km)',\n",
       " 'KO22-Village score based on socio-economic parameters (0 to 100)',\n",
       " 'K022-Seasonal Average Rainfall (mm)',\n",
       " 'R022-Seasonal Average Rainfall (mm)',\n",
       " 'K021-Seasonal Average Rainfall (mm)',\n",
       " 'R021-Seasonal Average Rainfall (mm)',\n",
       " 'R020-Seasonal Average Rainfall (mm)',\n",
       " 'Perc_of_house_with_6plus_room',\n",
       " 'Women_15_19_Mothers_or_Pregnant_at_time_of_survey',\n",
       " 'perc_of_pop_living_in_hh_electricity',\n",
       " 'perc_Households_with_Pucca_House_That_Has_More_Than_3_Rooms',\n",
       " 'mat_roof_Metal_GI_Asbestos_sheets',\n",
       " 'perc_of_Wall_material_with_Burnt_brick',\n",
       " 'Households_with_improved_Sanitation_Facility',\n",
       " 'perc_Households_do_not_have_KCC_With_The_Credit_Limit_Of_50k',\n",
       " 'K022-Total Geographical Area (in Hectares)-',\n",
       " 'K022-Net Agri area (in Ha)-',\n",
       " 'K022-Net Agri area (% of total geog area)-',\n",
       " 'Kharif Seasons  Irrigated area in 2022',\n",
       " 'Kharif Seasons  Cropping density in 2022',\n",
       " 'Kharif Seasons  Agricultural performance in 2022',\n",
       " 'Kharif Seasons  Agricultural Score in 2022',\n",
       " 'Kharif Seasons  Seasonal average groundwater thickness (cm) in 2022',\n",
       " 'Kharif Seasons  Seasonal average groundwater replenishment rate (cm) in 2022',\n",
       " 'Rabi Seasons  Season Irrigated area in 2022',\n",
       " 'Rabi Seasons Cropping density in 2022',\n",
       " 'Rabi Seasons Agricultural performance in 2022',\n",
       " 'Rabi Seasons Agricultural Score in 2022',\n",
       " 'Rabi Seasons Seasonal average groundwater thickness (cm) in 2022',\n",
       " 'Rabi Seasons Seasonal average groundwater replenishment rate (cm) in 2022',\n",
       " 'Rabi Seasons Kharif Season Irrigated area in 2021',\n",
       " 'Rabi Seasons Cropping density in 2021',\n",
       " 'Rabi Seasons Agricultural performance in 2021',\n",
       " 'Rabi Seasons Agricultural Score in 2021',\n",
       " 'Rabi Seasons Seasonal average groundwater thickness (cm) in 2021',\n",
       " 'Rabi Seasons Seasonal average groundwater replenishment rate (cm) in 2021',\n",
       " 'Kharif Seasons Kharif Season Irrigated area in 2021',\n",
       " 'Kharif Seasons Cropping density in 2021',\n",
       " 'Kharif Seasons Agricultural performance in 2021',\n",
       " 'Kharif Seasons Agricultural Score in 2021',\n",
       " 'Kharif Seasons Seasonal average groundwater thickness (cm) in 2021',\n",
       " 'Kharif Seasons Seasonal average groundwater replenishment rate (cm) in 2021',\n",
       " 'Kharif Seasons Kharif Season Irrigated area in 2020',\n",
       " 'Kharif Seasons Cropping density in 2020',\n",
       " 'Kharif Seasons Agricultural performance in 2020',\n",
       " 'Kharif Seasons Agricultural Score in 2020',\n",
       " 'Kharif Seasons Seasonal average groundwater thickness (cm) in 2020',\n",
       " 'Kharif Seasons Seasonal average groundwater replenishment rate (cm) in 2020',\n",
       " 'Rabi Seasons Kharif Season Irrigated area in 2020',\n",
       " 'Rabi Seasons Cropping density in 2020',\n",
       " 'Rabi Seasons Agricultural performance in 2020',\n",
       " 'Rabi Seasons Agricultural Score in 2020',\n",
       " 'Rabi Seasons Seasonal average groundwater thickness (cm) in 2020',\n",
       " 'Rabi Seasons Seasonal average groundwater replenishment rate (cm) in 2020',\n",
       " ' Night light index',\n",
       " ' Village score based on socio-economic parameters (Non normalised)',\n",
       " ' Village score based on socio-economic parameters (0 to 100)',\n",
       " ' Land Holding Index source (Total Agri Area/ no of people)',\n",
       " ' Road density (Km/ SqKm)']"
      ]
     },
     "execution_count": 50,
     "metadata": {},
     "output_type": "execute_result"
    }
   ],
   "source": [
    "float_col"
   ]
  },
  {
   "cell_type": "code",
   "execution_count": 51,
   "id": "72f12a75",
   "metadata": {},
   "outputs": [
    {
     "data": {
      "text/plain": [
       "Text(0.5, 0, 'Total Income')"
      ]
     },
     "execution_count": 51,
     "metadata": {},
     "output_type": "execute_result"
    },
    {
     "data": {
      "image/png": "[encoded data removed]",
      "text/plain": [
       "<Figure size 640x480 with 1 Axes>"
      ]
     },
     "metadata": {},
     "output_type": "display_data"
    }
   ],
   "source": [
    "sns.histplot(df['Target_Variable/Total Income'] , kde= 'True')\n",
    "plt.xlabel(\"Total Income\")"
   ]
  },
  {
   "cell_type": "markdown",
   "id": "13d0300f",
   "metadata": {},
   "source": [
    "* From here we can see that our target variable is positively skewed"
   ]
  },
  {
   "cell_type": "code",
   "execution_count": 52,
   "id": "0f7788f2",
   "metadata": {},
   "outputs": [
    {
     "data": {
      "text/plain": [
       "count    4.797000e+04\n",
       "mean     1.222255e+06\n",
       "std      2.073935e+06\n",
       "min      2.900000e+04\n",
       "25%      7.200000e+05\n",
       "50%      9.500000e+05\n",
       "75%      1.295000e+06\n",
       "max      8.000000e+07\n",
       "Name: Target_Variable/Total Income, dtype: float64"
      ]
     },
     "execution_count": 52,
     "metadata": {},
     "output_type": "execute_result"
    }
   ],
   "source": [
    "df['Target_Variable/Total Income'].describe()"
   ]
  },
  {
   "cell_type": "code",
   "execution_count": 53,
   "id": "4bea671c",
   "metadata": {},
   "outputs": [
    {
     "data": {
      "image/png": "[encoded data removed]",
      "text/plain": [
       "<Figure size 800x500 with 1 Axes>"
      ]
     },
     "metadata": {},
     "output_type": "display_data"
    }
   ],
   "source": [
    "# checking ditribution of farmer gender wise\n",
    "plt.figure(figsize=(8,5))\n",
    "sns.countplot(x='SEX', data=df , palette='dark')\n",
    "plt.title(\"No of farmers according to sex\" , fontweight = 'bold')\n",
    "plt.xlabel(\"Sex M for male and F for female\")\n",
    "plt.ylabel(\"No of Farmers\")\n",
    "plt.legend()\n",
    "plt.show()"
   ]
  },
  {
   "cell_type": "code",
   "execution_count": 54,
   "id": "ea8cf2bd",
   "metadata": {},
   "outputs": [
    {
     "data": {
      "image/png": "[encoded data removed]",
      "text/plain": [
       "<Figure size 800x500 with 1 Axes>"
      ]
     },
     "metadata": {},
     "output_type": "display_data"
    }
   ],
   "source": [
    "# checking ditribution of farmers accoridng to maritial status\n",
    "plt.figure(figsize=(8,5))\n",
    "sns.countplot(x='MARITAL_STATUS', data=df , palette='dark')\n",
    "plt.title(\"No of farmers according to Marital status\" , fontweight = 'bold')\n",
    "plt.xlabel(\"Sex M for Married and S for sepearted and Nk for not known\")\n",
    "plt.ylabel(\"No of Farmers\")\n",
    "plt.legend()\n",
    "plt.show()"
   ]
  },
  {
   "cell_type": "code",
   "execution_count": 55,
   "id": "6d1c8d9d",
   "metadata": {},
   "outputs": [
    {
     "data": {
      "text/plain": [
       "<Axes: xlabel='SEX', ylabel='Target_Variable/Total Income'>"
      ]
     },
     "execution_count": 55,
     "metadata": {},
     "output_type": "execute_result"
    },
    {
     "data": {
      "image/png": "[encoded data removed]",
      "text/plain": [
       "<Figure size 640x480 with 1 Axes>"
      ]
     },
     "metadata": {},
     "output_type": "display_data"
    }
   ],
   "source": [
    "\n",
    "# checing the otliers according to sex\n",
    "sns.boxplot(x='SEX' , y= 'Target_Variable/Total Income',data=df , palette='dark')"
   ]
  },
  {
   "cell_type": "code",
   "execution_count": 56,
   "id": "9d1bf924",
   "metadata": {},
   "outputs": [
    {
     "data": {
      "text/plain": [
       "([0, 1, 2, 3, 4, 5, 6, 7, 8, 9, 10, 11, 12, 13, 14, 15, 16],\n",
       " [Text(0, 0, 'MADHYA PRADESH'),\n",
       "  Text(1, 0, 'BIHAR'),\n",
       "  Text(2, 0, 'MAHARASHTRA'),\n",
       "  Text(3, 0, 'ODISHA'),\n",
       "  Text(4, 0, 'KARNATAKA'),\n",
       "  Text(5, 0, 'ANDHRA PRADESH'),\n",
       "  Text(6, 0, 'UTTAR PRADESH'),\n",
       "  Text(7, 0, 'GUJARAT'),\n",
       "  Text(8, 0, 'WEST BENGAL'),\n",
       "  Text(9, 0, 'TELANGANA'),\n",
       "  Text(10, 0, 'CHATTISGARH'),\n",
       "  Text(11, 0, 'HARYANA'),\n",
       "  Text(12, 0, 'PUNJAB'),\n",
       "  Text(13, 0, 'JHARKHAND'),\n",
       "  Text(14, 0, 'ASSAM'),\n",
       "  Text(15, 0, 'CHANDIGARH'),\n",
       "  Text(16, 0, 'RAJASTHAN')])"
      ]
     },
     "execution_count": 56,
     "metadata": {},
     "output_type": "execute_result"
    },
    {
     "data": {
      "image/png": "[encoded data removed]",
      "text/plain": [
       "<Figure size 1000x600 with 1 Axes>"
      ]
     },
     "metadata": {},
     "output_type": "display_data"
    }
   ],
   "source": [
    "plt.figure(figsize=(10,6))\n",
    "sns.barplot(x='State', y ='Target_Variable/Total Income',data=df , palette= 'dark')\n",
    "plt.xticks(rotation = 60)"
   ]
  },
  {
   "cell_type": "code",
   "execution_count": 57,
   "id": "7c3f4464",
   "metadata": {},
   "outputs": [
    {
     "data": {
      "text/plain": [
       "<Axes: xlabel='Target_Variable/Total Income', ylabel='Count'>"
      ]
     },
     "execution_count": 57,
     "metadata": {},
     "output_type": "execute_result"
    },
    {
     "data": {
      "image/png": "[encoded data removed]",
      "text/plain": [
       "<Figure size 640x480 with 1 Axes>"
      ]
     },
     "metadata": {},
     "output_type": "display_data"
    }
   ],
   "source": [
    "sns.histplot(x= 'Target_Variable/Total Income',data=df,kde='True')"
   ]
  },
  {
   "cell_type": "markdown",
   "id": "bcd1c594",
   "metadata": {},
   "source": [
    "* Data Encoding"
   ]
  },
  {
   "cell_type": "code",
   "execution_count": 58,
   "id": "f1d2d8df",
   "metadata": {},
   "outputs": [],
   "source": [
    "# Now Ecoding Data \n",
    "\n",
    "from sklearn.preprocessing import OrdinalEncoder\n",
    "\n",
    "ord_encoder = OrdinalEncoder(categories=[['Poor', 'Average', 'Good']])\n",
    "df['K022_encoded'] = ord_encoder.fit_transform(df[['K022-Village category based on socio-economic parameters (Good, Average, Poor)']])\n"
   ]
  },
  {
   "cell_type": "code",
   "execution_count": 59,
   "id": "6a722105",
   "metadata": {},
   "outputs": [
    {
     "data": {
      "text/plain": [
       "0        0.0\n",
       "1        0.0\n",
       "2        0.0\n",
       "3        1.0\n",
       "4        0.0\n",
       "        ... \n",
       "47965    0.0\n",
       "47966    0.0\n",
       "47967    1.0\n",
       "47968    0.0\n",
       "47969    0.0\n",
       "Name: K022_encoded, Length: 47970, dtype: float64"
      ]
     },
     "execution_count": 59,
     "metadata": {},
     "output_type": "execute_result"
    }
   ],
   "source": [
    "df['K022_encoded']"
   ]
  },
  {
   "cell_type": "code",
   "execution_count": 60,
   "id": "c6e10164",
   "metadata": {},
   "outputs": [],
   "source": [
    "df = pd.get_dummies(df, columns=['MARITAL_STATUS'], drop_first=True)"
   ]
  },
  {
   "cell_type": "code",
   "execution_count": 61,
   "id": "4751fc43",
   "metadata": {},
   "outputs": [
    {
     "data": {
      "text/plain": [
       "MARITAL_STATUS_NK\n",
       "False    47966\n",
       "True         4\n",
       "Name: count, dtype: int64"
      ]
     },
     "execution_count": 61,
     "metadata": {},
     "output_type": "execute_result"
    }
   ],
   "source": [
    "# checking the number of farmer whows status is not known\n",
    "df['MARITAL_STATUS_NK'].value_counts()"
   ]
  },
  {
   "cell_type": "code",
   "execution_count": 62,
   "id": "6b45507d",
   "metadata": {},
   "outputs": [],
   "source": [
    "# ecoding the sex value through numerical value \n",
    "df['SEX'] = df['SEX'].map({'M': 1, 'F': 0}) # assigning 1 to male and 0 to female\n"
   ]
  },
  {
   "cell_type": "code",
   "execution_count": 63,
   "id": "78f9b2cc",
   "metadata": {},
   "outputs": [
    {
     "data": {
      "text/plain": [
       "SEX\n",
       "1    43295\n",
       "0     4675\n",
       "Name: count, dtype: int64"
      ]
     },
     "execution_count": 63,
     "metadata": {},
     "output_type": "execute_result"
    }
   ],
   "source": [
    "df['SEX'].value_counts()"
   ]
  },
  {
   "cell_type": "code",
   "execution_count": 64,
   "id": "7a4a1989",
   "metadata": {},
   "outputs": [
    {
     "data": {
      "text/plain": [
       "dtype('int64')"
      ]
     },
     "execution_count": 64,
     "metadata": {},
     "output_type": "execute_result"
    }
   ],
   "source": [
    "df['SEX'].dtype"
   ]
  },
  {
   "cell_type": "code",
   "execution_count": 65,
   "id": "29a58942",
   "metadata": {},
   "outputs": [
    {
     "data": {
      "text/plain": [
       "<Axes: xlabel='SEX', ylabel='Target_Variable/Total Income'>"
      ]
     },
     "execution_count": 65,
     "metadata": {},
     "output_type": "execute_result"
    },
    {
     "data": {
      "image/png": "[encoded data removed]",
      "text/plain": [
       "<Figure size 640x480 with 1 Axes>"
      ]
     },
     "metadata": {},
     "output_type": "display_data"
    }
   ],
   "source": [
    "sns.barplot(x=\"SEX\",y='Target_Variable/Total Income' , data=df)\n"
   ]
  },
  {
   "cell_type": "code",
   "execution_count": 66,
   "id": "f8c532d4",
   "metadata": {},
   "outputs": [],
   "source": [
    "# Encoding according to the regoin \n",
    "df = pd.get_dummies(df, columns=['REGION'], drop_first=False)"
   ]
  },
  {
   "cell_type": "code",
   "execution_count": 67,
   "id": "ca459e56",
   "metadata": {},
   "outputs": [
    {
     "data": {
      "text/plain": [
       "(47970, 111)"
      ]
     },
     "execution_count": 67,
     "metadata": {},
     "output_type": "execute_result"
    }
   ],
   "source": [
    "df.shape"
   ]
  },
  {
   "cell_type": "markdown",
   "id": "912546a3",
   "metadata": {},
   "source": [
    "* Seperating min and maximum value of columns like :\n",
    " 'K022-Ambient temperature (min & max)',\n",
    " 'R022-Ambient temperature (min & max)',\n",
    " 'K021-Ambient temperature (min & max)',\n",
    " 'R021-Ambient temperature (min & max)',\n",
    " 'R020-Ambient temperature (min & max) and converting them from  object data type to float data type for performing mathemetical operations\n",
    " "
   ]
  },
  {
   "cell_type": "code",
   "execution_count": 77,
   "id": "fa989963",
   "metadata": {},
   "outputs": [
    {
     "data": {
      "text/plain": [
       "['State',\n",
       " 'CITY',\n",
       " 'DISTRICT',\n",
       " 'VILLAGE',\n",
       " 'Location',\n",
       " 'Address type',\n",
       " 'Ownership',\n",
       " 'K022-Village category based on Agri parameters (Good, Average, Poor)',\n",
       " 'K022-Nearest Mandi Name',\n",
       " 'K022-Village category based on socio-economic parameters (Good, Average, Poor)',\n",
       " 'R022-Village category based on Agri parameters (Good, Average, Poor)',\n",
       " 'Kharif Seasons  Type of soil in 2022',\n",
       " 'Kharif Seasons  Type of water bodies in hectares 2022',\n",
       " 'Kharif Seasons  Agro Ecological Sub Zone in 2022',\n",
       " 'Rabi Seasons Type of soil in 2022',\n",
       " 'Rabi Seasons Type of water bodies in hectares 2022',\n",
       " 'Rabi Seasons Agro Ecological Sub Zone in 2022',\n",
       " 'Rabi Seasons Type of soil in 2021',\n",
       " 'Rabi Seasons Type of water bodies in hectares 2021',\n",
       " 'Rabi Seasons Agro Ecological Sub Zone in 2021',\n",
       " 'Kharif Seasons Type of soil in 2021',\n",
       " 'Kharif Seasons Type of water bodies in hectares 2021',\n",
       " 'Kharif Seasons Agro Ecological Sub Zone in 2021',\n",
       " 'Kharif Seasons Type of soil in 2020',\n",
       " 'Kharif Seasons Type of water bodies in hectares 2020',\n",
       " 'Kharif Seasons Agro Ecological Sub Zone in 2020',\n",
       " 'Rabi Seasons Type of soil in 2020',\n",
       " 'Rabi Seasons Type of water bodies in hectares 2020',\n",
       " 'Rabi Seasons Agro Ecological Sub Zone in 2020',\n",
       " ' Village category based on socio-economic parameters (Good, Average, Poor)']"
      ]
     },
     "execution_count": 77,
     "metadata": {},
     "output_type": "execute_result"
    }
   ],
   "source": [
    "[col for col in df.columns if df[col].dtype =='object']"
   ]
  },
  {
   "cell_type": "code",
   "execution_count": 68,
   "id": "39d0275b",
   "metadata": {},
   "outputs": [],
   "source": [
    "df[[ 'K022-Ambient temperature min','K022-Ambient temperature max']] = df['K022-Ambient temperature (min & max)'].str.split(\"/\",expand=True)\n",
    "df['K022-Ambient temperature min'] = pd.to_numeric(df['K022-Ambient temperature min'])\n",
    "df['K022-Ambient temperature max'] = pd.to_numeric(df['K022-Ambient temperature max'])\n",
    "df.drop(columns='K022-Ambient temperature (min & max)',inplace=True)"
   ]
  },
  {
   "cell_type": "code",
   "execution_count": 69,
   "id": "796159d2",
   "metadata": {},
   "outputs": [],
   "source": [
    "df[['R022-Ambient temperature min','R022-Ambient temperature max']] = df['R022-Ambient temperature (min & max)'].str.split(\"/\",expand=True)\n",
    "df['R022-Ambient temperature min'] = pd.to_numeric(df['R022-Ambient temperature min'])\n",
    "df['R022-Ambient temperature max'] = pd.to_numeric(df['R022-Ambient temperature max'])\n",
    "df.drop(columns='R022-Ambient temperature (min & max)',inplace=True)"
   ]
  },
  {
   "cell_type": "code",
   "execution_count": 70,
   "id": "a8631c90",
   "metadata": {},
   "outputs": [],
   "source": [
    "df[['K021-Ambient temperature min','K021-Ambient temperature max']] = df[ 'K021-Ambient temperature (min & max)'].str.split(\"/\",expand=True)\n",
    "df['K021-Ambient temperature min'] = pd.to_numeric(df['K021-Ambient temperature min'])\n",
    "df['K021-Ambient temperature max'] = pd.to_numeric(df['K021-Ambient temperature max'])\n",
    "df.drop(columns= 'K021-Ambient temperature (min & max)',inplace=True)"
   ]
  },
  {
   "cell_type": "code",
   "execution_count": 73,
   "id": "b359eca7",
   "metadata": {},
   "outputs": [],
   "source": [
    "df[['R021-Ambient temperature min','R021-Ambient temperature max']] = df['R021-Ambient temperature (min & max)'].str.split(\"/\",expand=True)\n",
    "df['R021-Ambient temperature min'] = pd.to_numeric(df['R021-Ambient temperature min'])\n",
    "df['R021-Ambient temperature max'] = pd.to_numeric(df['R021-Ambient temperature max'])\n",
    "df.drop(columns='R021-Ambient temperature (min & max)',inplace=True)"
   ]
  },
  {
   "cell_type": "code",
   "execution_count": 76,
   "id": "e8e1a5f4",
   "metadata": {},
   "outputs": [],
   "source": [
    "df[['R020-Ambient temperature min','R020-Ambient temperature max']] = df['R020-Ambient temperature (min & max)'].str.split(\"/\",expand=True)\n",
    "df['R020-Ambient temperature min'] = pd.to_numeric(df['R020-Ambient temperature min'])\n",
    "df['R020-Ambient temperature max'] = pd.to_numeric(df['R020-Ambient temperature max'])\n",
    "df.drop(columns='R020-Ambient temperature (min & max)',inplace=True)"
   ]
  },
  {
   "cell_type": "code",
   "execution_count": 79,
   "id": "0daf9dc1",
   "metadata": {},
   "outputs": [
    {
     "data": {
      "text/plain": [
       "(47970, 116)"
      ]
     },
     "execution_count": 79,
     "metadata": {},
     "output_type": "execute_result"
    }
   ],
   "source": [
    "df.shape"
   ]
  },
  {
   "cell_type": "code",
   "execution_count": 80,
   "id": "c77bb8df",
   "metadata": {},
   "outputs": [],
   "source": [
    "#cleaning test data in same way\n",
    "df1 = pd.read_excel('TestData.xlsx')"
   ]
  },
  {
   "cell_type": "code",
   "execution_count": 81,
   "id": "e351d12c",
   "metadata": {},
   "outputs": [
    {
     "data": {
      "text/plain": [
       "np.int64(9986)"
      ]
     },
     "execution_count": 81,
     "metadata": {},
     "output_type": "execute_result"
    }
   ],
   "source": [
    "# checking target of test value\n",
    "df1['Target_Variable/Total Income'].isnull().sum()\n"
   ]
  },
  {
   "cell_type": "code",
   "execution_count": 82,
   "id": "d7deb891",
   "metadata": {},
   "outputs": [
    {
     "data": {
      "text/html": [
       "<div>\n",
       "<style scoped>\n",
       "    .dataframe tbody tr th:only-of-type {\n",
       "        vertical-align: middle;\n",
       "    }\n",
       "\n",
       "    .dataframe tbody tr th {\n",
       "        vertical-align: top;\n",
       "    }\n",
       "\n",
       "    .dataframe thead th {\n",
       "        text-align: right;\n",
       "    }\n",
       "</style>\n",
       "<table border=\"1\" class=\"dataframe\">\n",
       "  <thead>\n",
       "    <tr style=\"text-align: right;\">\n",
       "      <th></th>\n",
       "      <th>FarmerID</th>\n",
       "      <th>Zipcode</th>\n",
       "      <th>No_of_Active_Loan_In_Bureau</th>\n",
       "      <th>Avg_Disbursement_Amount_Bureau</th>\n",
       "      <th>Non_Agriculture_Income</th>\n",
       "      <th>Total_Land_For_Agriculture</th>\n",
       "      <th>K022-Proximity to nearest mandi (Km)</th>\n",
       "      <th>K022-Proximity to nearest railway (Km)</th>\n",
       "      <th>KO22-Village score based on socio-economic parameters (0 to 100)</th>\n",
       "      <th>K022-Seasonal Average Rainfall (mm)</th>\n",
       "      <th>...</th>\n",
       "      <th>Rabi Seasons Agricultural performance in 2020</th>\n",
       "      <th>Rabi Seasons Agricultural Score in 2020</th>\n",
       "      <th>Rabi Seasons Seasonal average groundwater thickness (cm) in 2020</th>\n",
       "      <th>Rabi Seasons Seasonal average groundwater replenishment rate (cm) in 2020</th>\n",
       "      <th>Night light index</th>\n",
       "      <th>Village score based on socio-economic parameters (Non normalised)</th>\n",
       "      <th>Village score based on socio-economic parameters (0 to 100)</th>\n",
       "      <th>Land Holding Index source (Total Agri Area/ no of people)</th>\n",
       "      <th>Road density (Km/ SqKm)</th>\n",
       "      <th>Target_Variable/Total Income</th>\n",
       "    </tr>\n",
       "  </thead>\n",
       "  <tbody>\n",
       "    <tr>\n",
       "      <th>count</th>\n",
       "      <td>9.986000e+03</td>\n",
       "      <td>9986.000000</td>\n",
       "      <td>9986.000000</td>\n",
       "      <td>5.724000e+03</td>\n",
       "      <td>9.986000e+03</td>\n",
       "      <td>9970.000000</td>\n",
       "      <td>9986.000000</td>\n",
       "      <td>9986.000000</td>\n",
       "      <td>9986.000000</td>\n",
       "      <td>9986.000000</td>\n",
       "      <td>...</td>\n",
       "      <td>9986.000000</td>\n",
       "      <td>9986.000000</td>\n",
       "      <td>9986.000000</td>\n",
       "      <td>9986.000000</td>\n",
       "      <td>9986.000000</td>\n",
       "      <td>9986.000000</td>\n",
       "      <td>9986.000000</td>\n",
       "      <td>9986.000000</td>\n",
       "      <td>9986.000000</td>\n",
       "      <td>0.0</td>\n",
       "    </tr>\n",
       "    <tr>\n",
       "      <th>mean</th>\n",
       "      <td>7.803592e+14</td>\n",
       "      <td>484735.379531</td>\n",
       "      <td>1.812437</td>\n",
       "      <td>2.398479e+05</td>\n",
       "      <td>2.412680e+05</td>\n",
       "      <td>10.054028</td>\n",
       "      <td>11.587302</td>\n",
       "      <td>15.015392</td>\n",
       "      <td>37.319192</td>\n",
       "      <td>1401.806951</td>\n",
       "      <td>...</td>\n",
       "      <td>23.693943</td>\n",
       "      <td>25.131146</td>\n",
       "      <td>85.045318</td>\n",
       "      <td>21.239430</td>\n",
       "      <td>0.930161</td>\n",
       "      <td>24.720081</td>\n",
       "      <td>37.319192</td>\n",
       "      <td>0.674929</td>\n",
       "      <td>2.811004</td>\n",
       "      <td>NaN</td>\n",
       "    </tr>\n",
       "    <tr>\n",
       "      <th>std</th>\n",
       "      <td>3.705657e+14</td>\n",
       "      <td>118273.138932</td>\n",
       "      <td>2.731586</td>\n",
       "      <td>4.497623e+05</td>\n",
       "      <td>9.596105e+05</td>\n",
       "      <td>6.810401</td>\n",
       "      <td>7.596240</td>\n",
       "      <td>14.013604</td>\n",
       "      <td>7.566440</td>\n",
       "      <td>425.315827</td>\n",
       "      <td>...</td>\n",
       "      <td>12.123857</td>\n",
       "      <td>9.055065</td>\n",
       "      <td>14.753983</td>\n",
       "      <td>7.013866</td>\n",
       "      <td>0.059290</td>\n",
       "      <td>4.668786</td>\n",
       "      <td>7.566440</td>\n",
       "      <td>1.893430</td>\n",
       "      <td>6.138700</td>\n",
       "      <td>NaN</td>\n",
       "    </tr>\n",
       "    <tr>\n",
       "      <th>min</th>\n",
       "      <td>1.429140e+14</td>\n",
       "      <td>122504.000000</td>\n",
       "      <td>0.000000</td>\n",
       "      <td>0.000000e+00</td>\n",
       "      <td>0.000000e+00</td>\n",
       "      <td>0.000000</td>\n",
       "      <td>0.000000</td>\n",
       "      <td>0.000000</td>\n",
       "      <td>8.532998</td>\n",
       "      <td>530.370000</td>\n",
       "      <td>...</td>\n",
       "      <td>0.000000</td>\n",
       "      <td>0.000000</td>\n",
       "      <td>22.370000</td>\n",
       "      <td>0.890000</td>\n",
       "      <td>0.430000</td>\n",
       "      <td>6.957886</td>\n",
       "      <td>8.532998</td>\n",
       "      <td>0.000118</td>\n",
       "      <td>0.000000</td>\n",
       "      <td>NaN</td>\n",
       "    </tr>\n",
       "    <tr>\n",
       "      <th>25%</th>\n",
       "      <td>4.609669e+14</td>\n",
       "      <td>444803.000000</td>\n",
       "      <td>0.000000</td>\n",
       "      <td>6.000000e+04</td>\n",
       "      <td>0.000000e+00</td>\n",
       "      <td>5.000000</td>\n",
       "      <td>6.100000</td>\n",
       "      <td>3.300000</td>\n",
       "      <td>32.974549</td>\n",
       "      <td>1057.190000</td>\n",
       "      <td>...</td>\n",
       "      <td>14.470000</td>\n",
       "      <td>18.800000</td>\n",
       "      <td>75.207500</td>\n",
       "      <td>17.450000</td>\n",
       "      <td>0.920000</td>\n",
       "      <td>22.039269</td>\n",
       "      <td>32.974549</td>\n",
       "      <td>0.156023</td>\n",
       "      <td>0.000000</td>\n",
       "      <td>NaN</td>\n",
       "    </tr>\n",
       "    <tr>\n",
       "      <th>50%</th>\n",
       "      <td>7.796529e+14</td>\n",
       "      <td>480999.000000</td>\n",
       "      <td>1.000000</td>\n",
       "      <td>1.300000e+05</td>\n",
       "      <td>1.000000e+05</td>\n",
       "      <td>10.000000</td>\n",
       "      <td>10.800000</td>\n",
       "      <td>11.300000</td>\n",
       "      <td>37.745385</td>\n",
       "      <td>1377.460000</td>\n",
       "      <td>...</td>\n",
       "      <td>23.100000</td>\n",
       "      <td>26.410000</td>\n",
       "      <td>89.590000</td>\n",
       "      <td>20.340000</td>\n",
       "      <td>0.950000</td>\n",
       "      <td>24.983059</td>\n",
       "      <td>37.745385</td>\n",
       "      <td>0.302382</td>\n",
       "      <td>0.330000</td>\n",
       "      <td>NaN</td>\n",
       "    </tr>\n",
       "    <tr>\n",
       "      <th>75%</th>\n",
       "      <td>1.098698e+15</td>\n",
       "      <td>518396.000000</td>\n",
       "      <td>2.000000</td>\n",
       "      <td>2.798589e+05</td>\n",
       "      <td>2.500000e+05</td>\n",
       "      <td>12.000000</td>\n",
       "      <td>16.000000</td>\n",
       "      <td>23.700000</td>\n",
       "      <td>41.994291</td>\n",
       "      <td>1695.430000</td>\n",
       "      <td>...</td>\n",
       "      <td>32.310000</td>\n",
       "      <td>31.500000</td>\n",
       "      <td>95.577500</td>\n",
       "      <td>25.340000</td>\n",
       "      <td>0.970000</td>\n",
       "      <td>27.604799</td>\n",
       "      <td>41.994291</td>\n",
       "      <td>0.590640</td>\n",
       "      <td>3.290000</td>\n",
       "      <td>NaN</td>\n",
       "    </tr>\n",
       "    <tr>\n",
       "      <th>max</th>\n",
       "      <td>1.428472e+15</td>\n",
       "      <td>855114.000000</td>\n",
       "      <td>30.000000</td>\n",
       "      <td>1.800000e+07</td>\n",
       "      <td>4.793840e+07</td>\n",
       "      <td>91.000000</td>\n",
       "      <td>43.900000</td>\n",
       "      <td>90.600000</td>\n",
       "      <td>100.000000</td>\n",
       "      <td>2529.630000</td>\n",
       "      <td>...</td>\n",
       "      <td>62.850000</td>\n",
       "      <td>57.620000</td>\n",
       "      <td>138.360000</td>\n",
       "      <td>56.520000</td>\n",
       "      <td>1.000000</td>\n",
       "      <td>63.396566</td>\n",
       "      <td>100.000000</td>\n",
       "      <td>55.097853</td>\n",
       "      <td>198.550000</td>\n",
       "      <td>NaN</td>\n",
       "    </tr>\n",
       "  </tbody>\n",
       "</table>\n",
       "<p>8 rows × 67 columns</p>\n",
       "</div>"
      ],
      "text/plain": [
       "           FarmerID        Zipcode  No_of_Active_Loan_In_Bureau  \\\n",
       "count  9.986000e+03    9986.000000                  9986.000000   \n",
       "mean   7.803592e+14  484735.379531                     1.812437   \n",
       "std    3.705657e+14  118273.138932                     2.731586   \n",
       "min    1.429140e+14  122504.000000                     0.000000   \n",
       "25%    4.609669e+14  444803.000000                     0.000000   \n",
       "50%    7.796529e+14  480999.000000                     1.000000   \n",
       "75%    1.098698e+15  518396.000000                     2.000000   \n",
       "max    1.428472e+15  855114.000000                    30.000000   \n",
       "\n",
       "       Avg_Disbursement_Amount_Bureau  Non_Agriculture_Income  \\\n",
       "count                    5.724000e+03            9.986000e+03   \n",
       "mean                     2.398479e+05            2.412680e+05   \n",
       "std                      4.497623e+05            9.596105e+05   \n",
       "min                      0.000000e+00            0.000000e+00   \n",
       "25%                      6.000000e+04            0.000000e+00   \n",
       "50%                      1.300000e+05            1.000000e+05   \n",
       "75%                      2.798589e+05            2.500000e+05   \n",
       "max                      1.800000e+07            4.793840e+07   \n",
       "\n",
       "       Total_Land_For_Agriculture  K022-Proximity to nearest mandi (Km)  \\\n",
       "count                 9970.000000                           9986.000000   \n",
       "mean                    10.054028                             11.587302   \n",
       "std                      6.810401                              7.596240   \n",
       "min                      0.000000                              0.000000   \n",
       "25%                      5.000000                              6.100000   \n",
       "50%                     10.000000                             10.800000   \n",
       "75%                     12.000000                             16.000000   \n",
       "max                     91.000000                             43.900000   \n",
       "\n",
       "       K022-Proximity to nearest railway (Km)  \\\n",
       "count                             9986.000000   \n",
       "mean                                15.015392   \n",
       "std                                 14.013604   \n",
       "min                                  0.000000   \n",
       "25%                                  3.300000   \n",
       "50%                                 11.300000   \n",
       "75%                                 23.700000   \n",
       "max                                 90.600000   \n",
       "\n",
       "       KO22-Village score based on socio-economic parameters (0 to 100)  \\\n",
       "count                                        9986.000000                  \n",
       "mean                                           37.319192                  \n",
       "std                                             7.566440                  \n",
       "min                                             8.532998                  \n",
       "25%                                            32.974549                  \n",
       "50%                                            37.745385                  \n",
       "75%                                            41.994291                  \n",
       "max                                           100.000000                  \n",
       "\n",
       "       K022-Seasonal Average Rainfall (mm)  ...  \\\n",
       "count                          9986.000000  ...   \n",
       "mean                           1401.806951  ...   \n",
       "std                             425.315827  ...   \n",
       "min                             530.370000  ...   \n",
       "25%                            1057.190000  ...   \n",
       "50%                            1377.460000  ...   \n",
       "75%                            1695.430000  ...   \n",
       "max                            2529.630000  ...   \n",
       "\n",
       "       Rabi Seasons Agricultural performance in 2020  \\\n",
       "count                                    9986.000000   \n",
       "mean                                       23.693943   \n",
       "std                                        12.123857   \n",
       "min                                         0.000000   \n",
       "25%                                        14.470000   \n",
       "50%                                        23.100000   \n",
       "75%                                        32.310000   \n",
       "max                                        62.850000   \n",
       "\n",
       "       Rabi Seasons Agricultural Score in 2020  \\\n",
       "count                              9986.000000   \n",
       "mean                                 25.131146   \n",
       "std                                   9.055065   \n",
       "min                                   0.000000   \n",
       "25%                                  18.800000   \n",
       "50%                                  26.410000   \n",
       "75%                                  31.500000   \n",
       "max                                  57.620000   \n",
       "\n",
       "       Rabi Seasons Seasonal average groundwater thickness (cm) in 2020  \\\n",
       "count                                        9986.000000                  \n",
       "mean                                           85.045318                  \n",
       "std                                            14.753983                  \n",
       "min                                            22.370000                  \n",
       "25%                                            75.207500                  \n",
       "50%                                            89.590000                  \n",
       "75%                                            95.577500                  \n",
       "max                                           138.360000                  \n",
       "\n",
       "       Rabi Seasons Seasonal average groundwater replenishment rate (cm) in 2020  \\\n",
       "count                                        9986.000000                           \n",
       "mean                                           21.239430                           \n",
       "std                                             7.013866                           \n",
       "min                                             0.890000                           \n",
       "25%                                            17.450000                           \n",
       "50%                                            20.340000                           \n",
       "75%                                            25.340000                           \n",
       "max                                            56.520000                           \n",
       "\n",
       "        Night light index  \\\n",
       "count         9986.000000   \n",
       "mean             0.930161   \n",
       "std              0.059290   \n",
       "min              0.430000   \n",
       "25%              0.920000   \n",
       "50%              0.950000   \n",
       "75%              0.970000   \n",
       "max              1.000000   \n",
       "\n",
       "        Village score based on socio-economic parameters (Non normalised)  \\\n",
       "count                                        9986.000000                    \n",
       "mean                                           24.720081                    \n",
       "std                                             4.668786                    \n",
       "min                                             6.957886                    \n",
       "25%                                            22.039269                    \n",
       "50%                                            24.983059                    \n",
       "75%                                            27.604799                    \n",
       "max                                            63.396566                    \n",
       "\n",
       "        Village score based on socio-economic parameters (0 to 100)  \\\n",
       "count                                        9986.000000              \n",
       "mean                                           37.319192              \n",
       "std                                             7.566440              \n",
       "min                                             8.532998              \n",
       "25%                                            32.974549              \n",
       "50%                                            37.745385              \n",
       "75%                                            41.994291              \n",
       "max                                           100.000000              \n",
       "\n",
       "        Land Holding Index source (Total Agri Area/ no of people)  \\\n",
       "count                                        9986.000000            \n",
       "mean                                            0.674929            \n",
       "std                                             1.893430            \n",
       "min                                             0.000118            \n",
       "25%                                             0.156023            \n",
       "50%                                             0.302382            \n",
       "75%                                             0.590640            \n",
       "max                                            55.097853            \n",
       "\n",
       "        Road density (Km/ SqKm)  Target_Variable/Total Income  \n",
       "count               9986.000000                           0.0  \n",
       "mean                   2.811004                           NaN  \n",
       "std                    6.138700                           NaN  \n",
       "min                    0.000000                           NaN  \n",
       "25%                    0.000000                           NaN  \n",
       "50%                    0.330000                           NaN  \n",
       "75%                    3.290000                           NaN  \n",
       "max                  198.550000                           NaN  \n",
       "\n",
       "[8 rows x 67 columns]"
      ]
     },
     "execution_count": 82,
     "metadata": {},
     "output_type": "execute_result"
    }
   ],
   "source": [
    "df1.describe()\n"
   ]
  },
  {
   "cell_type": "code",
   "execution_count": 83,
   "id": "352b7204",
   "metadata": {},
   "outputs": [],
   "source": [
    "# Now Ecoding Data \n",
    "\n",
    "from sklearn.preprocessing import OrdinalEncoder\n",
    "\n",
    "ord_encoder = OrdinalEncoder(categories=[['Poor', 'Average', 'Good']])\n",
    "df1['K022_encoded'] = ord_encoder.fit_transform(df1[['K022-Village category based on socio-economic parameters (Good, Average, Poor)']])\n"
   ]
  },
  {
   "cell_type": "code",
   "execution_count": 84,
   "id": "7b96646d",
   "metadata": {},
   "outputs": [
    {
     "data": {
      "text/plain": [
       "K022_encoded\n",
       "0.0    6125\n",
       "1.0    3651\n",
       "2.0     210\n",
       "Name: count, dtype: int64"
      ]
     },
     "execution_count": 84,
     "metadata": {},
     "output_type": "execute_result"
    }
   ],
   "source": [
    "df1['K022_encoded'].value_counts()"
   ]
  },
  {
   "cell_type": "code",
   "execution_count": 85,
   "id": "4e25dc04",
   "metadata": {},
   "outputs": [],
   "source": [
    "df1 = pd.get_dummies(df1, columns=['MARITAL_STATUS'], drop_first=True)"
   ]
  },
  {
   "cell_type": "code",
   "execution_count": 86,
   "id": "5f3e79b4",
   "metadata": {},
   "outputs": [],
   "source": [
    "df1['SEX'] = df1['SEX'].map({'M':1,'F':0})"
   ]
  },
  {
   "cell_type": "code",
   "execution_count": 87,
   "id": "6680a64d",
   "metadata": {},
   "outputs": [
    {
     "data": {
      "text/plain": [
       "SEX\n",
       "1.0    9027\n",
       "0.0     957\n",
       "Name: count, dtype: int64"
      ]
     },
     "execution_count": 87,
     "metadata": {},
     "output_type": "execute_result"
    }
   ],
   "source": [
    "df1['SEX'].value_counts()"
   ]
  },
  {
   "cell_type": "code",
   "execution_count": 88,
   "id": "0359e7c7",
   "metadata": {},
   "outputs": [],
   "source": [
    "# Encoding according to the regoin \n",
    "df1 = pd.get_dummies(df1, columns=['REGION'], drop_first=False)"
   ]
  },
  {
   "cell_type": "code",
   "execution_count": 89,
   "id": "850aa395",
   "metadata": {},
   "outputs": [],
   "source": [
    "# Spliting min &max value\n",
    "df1[['K022-Ambient temperature min','K022-Ambient temperature max']]  = df1['K022-Ambient temperature (min & max)'].str.split(\"/\", expand=True)\n",
    "df1['K022-Ambient temperature min']  = pd.to_numeric(df1['K022-Ambient temperature min'])\n",
    "df1['K022-Ambient temperature max']  = pd.to_numeric(df1['K022-Ambient temperature max'])\n",
    "df1.drop(columns=['K022-Ambient temperature (min & max)'],inplace=True)"
   ]
  },
  {
   "cell_type": "code",
   "execution_count": 90,
   "id": "3aecbe94",
   "metadata": {},
   "outputs": [],
   "source": [
    "# Spliting min &max value\n",
    "df1[['R022-Ambient temperature min','R022-Ambient temperature max']]  = df1['R022-Ambient temperature (min & max)'].str.split(\"/\", expand=True)\n",
    "df1['R022-Ambient temperature min']  = pd.to_numeric(df1['R022-Ambient temperature min'])\n",
    "df1['R022-Ambient temperature max']  = pd.to_numeric(df1['R022-Ambient temperature max'])\n",
    "df1.drop(columns=['R022-Ambient temperature (min & max)'],inplace=True)"
   ]
  },
  {
   "cell_type": "code",
   "execution_count": 91,
   "id": "dde84b91",
   "metadata": {},
   "outputs": [],
   "source": [
    "# Spliting min &max value\n",
    "df1[['K021-Ambient temperature min','K021-Ambient temperature max']]  = df1[ 'K021-Ambient temperature (min & max)'].str.split(\"/\", expand=True)\n",
    "df1['K021-Ambient temperature min']  = pd.to_numeric(df1['K021-Ambient temperature min'])\n",
    "df1['K021-Ambient temperature max']  = pd.to_numeric(df1['K021-Ambient temperature max'])\n",
    "df1.drop(columns=[ 'K021-Ambient temperature (min & max)'],inplace=True)"
   ]
  },
  {
   "cell_type": "code",
   "execution_count": 92,
   "id": "89ca5604",
   "metadata": {},
   "outputs": [],
   "source": [
    "# Spliting min &max value\n",
    "df1[['R021-Ambient temperature min','R021-Ambient temperature max']]  = df1['R021-Ambient temperature (min & max)'].str.split(\"/\", expand=True)\n",
    "df1['R021-Ambient temperature min']  = pd.to_numeric(df1['R021-Ambient temperature min'])\n",
    "df1['R021-Ambient temperature max']  = pd.to_numeric(df1['R021-Ambient temperature max'])\n",
    "df1.drop(columns=['R021-Ambient temperature (min & max)'],inplace=True)"
   ]
  },
  {
   "cell_type": "code",
   "execution_count": 93,
   "id": "0d7c1e1a",
   "metadata": {},
   "outputs": [],
   "source": [
    "# Spliting min &max value\n",
    "df1[['R020-Ambient temperature min','R020-Ambient temperature max']]  = df1['R020-Ambient temperature (min & max)'].str.split(\"/\", expand=True)\n",
    "df1['R020-Ambient temperature min']  = pd.to_numeric(df1['R020-Ambient temperature min'])\n",
    "df1['R020-Ambient temperature max']  = pd.to_numeric(df1['R020-Ambient temperature max'])\n",
    "df1.drop(columns=['R020-Ambient temperature (min & max)'],inplace=True)"
   ]
  },
  {
   "cell_type": "code",
   "execution_count": 94,
   "id": "c736014b",
   "metadata": {},
   "outputs": [
    {
     "data": {
      "text/plain": [
       "(9986, 115)"
      ]
     },
     "execution_count": 94,
     "metadata": {},
     "output_type": "execute_result"
    }
   ],
   "source": [
    "df1.shape"
   ]
  },
  {
   "cell_type": "markdown",
   "id": "00b63d83",
   "metadata": {},
   "source": [
    "* creating income log"
   ]
  },
  {
   "cell_type": "code",
   "execution_count": 96,
   "id": "8e027f98",
   "metadata": {},
   "outputs": [],
   "source": [
    "df['Total_income_log'] = np.log1p(df['Target_Variable/Total Income'])"
   ]
  },
  {
   "cell_type": "code",
   "execution_count": 98,
   "id": "1a80a99a",
   "metadata": {},
   "outputs": [
    {
     "data": {
      "text/plain": [
       "['FarmerID',\n",
       " 'SEX',\n",
       " 'Zipcode',\n",
       " 'No_of_Active_Loan_In_Bureau',\n",
       " 'Non_Agriculture_Income',\n",
       " 'Target_Variable/Total Income']"
      ]
     },
     "execution_count": 98,
     "metadata": {},
     "output_type": "execute_result"
    }
   ],
   "source": [
    "[col for col in df.columns if df[col].dtype == 'int']"
   ]
  },
  {
   "cell_type": "code",
   "execution_count": 100,
   "id": "df508283",
   "metadata": {},
   "outputs": [],
   "source": [
    "df.drop(columns='MARITAL_STATUS_NK',inplace=True)"
   ]
  },
  {
   "cell_type": "code",
   "execution_count": 101,
   "id": "35ca9ffd",
   "metadata": {},
   "outputs": [],
   "source": [
    "X_train = df.drop(['Target_Variable/Total Income', 'Total_income_log'], axis=1)\n",
    "y_train = df['Total_income_log']\n",
    "\n",
    "X_test = df1.drop(['Target_Variable/Total Income', 'Total_income_log'], axis=1, errors='ignore')\n",
    "X_test = X_test[X_train.columns]  # Ensure same columns\n"
   ]
  },
  {
   "cell_type": "code",
   "execution_count": null,
   "id": "6397392e",
   "metadata": {},
   "outputs": [],
   "source": [
    "# numerical columns of train data\n",
    "numerical_col = df.select_dtypes(include=['int','float']).columns.tolist()"
   ]
  },
  {
   "cell_type": "code",
   "execution_count": 105,
   "id": "9dcafcab",
   "metadata": {},
   "outputs": [],
   "source": [
    "# numerical column of test data\n",
    "num_col = df1.select_dtypes(include=['int','float']).columns.tolist()"
   ]
  },
  {
   "cell_type": "code",
   "execution_count": 128,
   "id": "ba2128e9",
   "metadata": {},
   "outputs": [],
   "source": [
    "\n",
    "from sklearn.preprocessing import StandardScaler\n",
    "scaler = StandardScaler()\n",
    "# numerical_col to only those that exist in X_train\n",
    "numerical_col = [col for col in numerical_col if col in X_train.columns]\n",
    "\n",
    "\n",
    "X_train_scaled_num = scaler.fit_transform(X_train[numerical_col])\n",
    "X_test_scaled_num = scaler.transform(X_test[numerical_col])\n",
    "\n"
   ]
  },
  {
   "cell_type": "code",
   "execution_count": null,
   "id": "84b7fb3e",
   "metadata": {},
   "outputs": [],
   "source": [
    "# categorical columns \n",
    "non_num_cols = [col for col in X_train.columns if col not in numerical_col]\n"
   ]
  },
  {
   "cell_type": "code",
   "execution_count": 129,
   "id": "04dee2cc",
   "metadata": {},
   "outputs": [],
   "source": [
    "\n",
    "X_train_scaled_num = pd.DataFrame(X_train_scaled_num, columns=numerical_col, index=X_train.index)\n",
    "X_test_scaled_num = pd.DataFrame(X_test_scaled_num, columns=numerical_col, index=X_test.index)\n",
    "\n",
    "X_train_final = pd.concat([X_train_scaled_num, X_train[non_num_cols]], axis=1)\n",
    "X_test_final = pd.concat([X_test_scaled_num, X_test[non_num_cols]], axis=1)\n"
   ]
  },
  {
   "cell_type": "code",
   "execution_count": 112,
   "id": "7caab39d",
   "metadata": {},
   "outputs": [],
   "source": [
    "cat_cols = X_train_final.select_dtypes(include='object').columns.tolist()"
   ]
  },
  {
   "cell_type": "code",
   "execution_count": 113,
   "id": "d4f8f274",
   "metadata": {},
   "outputs": [],
   "source": [
    "X_train_final.drop(columns=cat_cols, inplace=True)\n",
    "X_test_final.drop(columns=cat_cols, inplace=True)\n"
   ]
  },
  {
   "cell_type": "code",
   "execution_count": 115,
   "id": "0c8cd20b",
   "metadata": {},
   "outputs": [],
   "source": [
    "# Fill all missing values with column-wise mean\n",
    "X_train_final.fillna(X_train_final.mean(), inplace=True)\n",
    "X_test_final.fillna(X_test_final.mean(), inplace=True)\n"
   ]
  },
  {
   "cell_type": "code",
   "execution_count": null,
   "id": "fd145b84",
   "metadata": {},
   "outputs": [
    {
     "data": {
      "text/html": [
       "<style>#sk-container-id-1 {\n",
       "  /* Definition of color scheme common for light and dark mode */\n",
       "  --sklearn-color-text: black;\n",
       "  --sklearn-color-line: gray;\n",
       "  /* Definition of color scheme for unfitted estimators */\n",
       "  --sklearn-color-unfitted-level-0: #fff5e6;\n",
       "  --sklearn-color-unfitted-level-1: #f6e4d2;\n",
       "  --sklearn-color-unfitted-level-2: #ffe0b3;\n",
       "  --sklearn-color-unfitted-level-3: chocolate;\n",
       "  /* Definition of color scheme for fitted estimators */\n",
       "  --sklearn-color-fitted-level-0: #f0f8ff;\n",
       "  --sklearn-color-fitted-level-1: #d4ebff;\n",
       "  --sklearn-color-fitted-level-2: #b3dbfd;\n",
       "  --sklearn-color-fitted-level-3: cornflowerblue;\n",
       "\n",
       "  /* Specific color for light theme */\n",
       "  --sklearn-color-text-on-default-background: var(--sg-text-color, var(--theme-code-foreground, var(--jp-content-font-color1, black)));\n",
       "  --sklearn-color-background: var(--sg-background-color, var(--theme-background, var(--jp-layout-color0, white)));\n",
       "  --sklearn-color-border-box: var(--sg-text-color, var(--theme-code-foreground, var(--jp-content-font-color1, black)));\n",
       "  --sklearn-color-icon: #696969;\n",
       "\n",
       "  @media (prefers-color-scheme: dark) {\n",
       "    /* Redefinition of color scheme for dark theme */\n",
       "    --sklearn-color-text-on-default-background: var(--sg-text-color, var(--theme-code-foreground, var(--jp-content-font-color1, white)));\n",
       "    --sklearn-color-background: var(--sg-background-color, var(--theme-background, var(--jp-layout-color0, #111)));\n",
       "    --sklearn-color-border-box: var(--sg-text-color, var(--theme-code-foreground, var(--jp-content-font-color1, white)));\n",
       "    --sklearn-color-icon: #878787;\n",
       "  }\n",
       "}\n",
       "\n",
       "#sk-container-id-1 {\n",
       "  color: var(--sklearn-color-text);\n",
       "}\n",
       "\n",
       "#sk-container-id-1 pre {\n",
       "  padding: 0;\n",
       "}\n",
       "\n",
       "#sk-container-id-1 input.sk-hidden--visually {\n",
       "  border: 0;\n",
       "  clip: rect(1px 1px 1px 1px);\n",
       "  clip: rect(1px, 1px, 1px, 1px);\n",
       "  height: 1px;\n",
       "  margin: -1px;\n",
       "  overflow: hidden;\n",
       "  padding: 0;\n",
       "  position: absolute;\n",
       "  width: 1px;\n",
       "}\n",
       "\n",
       "#sk-container-id-1 div.sk-dashed-wrapped {\n",
       "  border: 1px dashed var(--sklearn-color-line);\n",
       "  margin: 0 0.4em 0.5em 0.4em;\n",
       "  box-sizing: border-box;\n",
       "  padding-bottom: 0.4em;\n",
       "  background-color: var(--sklearn-color-background);\n",
       "}\n",
       "\n",
       "#sk-container-id-1 div.sk-container {\n",
       "  /* jupyter's `normalize.less` sets `[hidden] { display: none; }`\n",
       "     but bootstrap.min.css set `[hidden] { display: none !important; }`\n",
       "     so we also need the `!important` here to be able to override the\n",
       "     default hidden behavior on the sphinx rendered scikit-learn.org.\n",
       "     See: https://github.com/scikit-learn/scikit-learn/issues/21755 */\n",
       "  display: inline-block !important;\n",
       "  position: relative;\n",
       "}\n",
       "\n",
       "#sk-container-id-1 div.sk-text-repr-fallback {\n",
       "  display: none;\n",
       "}\n",
       "\n",
       "div.sk-parallel-item,\n",
       "div.sk-serial,\n",
       "div.sk-item {\n",
       "  /* draw centered vertical line to link estimators */\n",
       "  background-image: linear-gradient(var(--sklearn-color-text-on-default-background), var(--sklearn-color-text-on-default-background));\n",
       "  background-size: 2px 100%;\n",
       "  background-repeat: no-repeat;\n",
       "  background-position: center center;\n",
       "}\n",
       "\n",
       "/* Parallel-specific style estimator block */\n",
       "\n",
       "#sk-container-id-1 div.sk-parallel-item::after {\n",
       "  content: \"\";\n",
       "  width: 100%;\n",
       "  border-bottom: 2px solid var(--sklearn-color-text-on-default-background);\n",
       "  flex-grow: 1;\n",
       "}\n",
       "\n",
       "#sk-container-id-1 div.sk-parallel {\n",
       "  display: flex;\n",
       "  align-items: stretch;\n",
       "  justify-content: center;\n",
       "  background-color: var(--sklearn-color-background);\n",
       "  position: relative;\n",
       "}\n",
       "\n",
       "#sk-container-id-1 div.sk-parallel-item {\n",
       "  display: flex;\n",
       "  flex-direction: column;\n",
       "}\n",
       "\n",
       "#sk-container-id-1 div.sk-parallel-item:first-child::after {\n",
       "  align-self: flex-end;\n",
       "  width: 50%;\n",
       "}\n",
       "\n",
       "#sk-container-id-1 div.sk-parallel-item:last-child::after {\n",
       "  align-self: flex-start;\n",
       "  width: 50%;\n",
       "}\n",
       "\n",
       "#sk-container-id-1 div.sk-parallel-item:only-child::after {\n",
       "  width: 0;\n",
       "}\n",
       "\n",
       "/* Serial-specific style estimator block */\n",
       "\n",
       "#sk-container-id-1 div.sk-serial {\n",
       "  display: flex;\n",
       "  flex-direction: column;\n",
       "  align-items: center;\n",
       "  background-color: var(--sklearn-color-background);\n",
       "  padding-right: 1em;\n",
       "  padding-left: 1em;\n",
       "}\n",
       "\n",
       "\n",
       "/* Toggleable style: style used for estimator/Pipeline/ColumnTransformer box that is\n",
       "clickable and can be expanded/collapsed.\n",
       "- Pipeline and ColumnTransformer use this feature and define the default style\n",
       "- Estimators will overwrite some part of the style using the `sk-estimator` class\n",
       "*/\n",
       "\n",
       "/* Pipeline and ColumnTransformer style (default) */\n",
       "\n",
       "#sk-container-id-1 div.sk-toggleable {\n",
       "  /* Default theme specific background. It is overwritten whether we have a\n",
       "  specific estimator or a Pipeline/ColumnTransformer */\n",
       "  background-color: var(--sklearn-color-background);\n",
       "}\n",
       "\n",
       "/* Toggleable label */\n",
       "#sk-container-id-1 label.sk-toggleable__label {\n",
       "  cursor: pointer;\n",
       "  display: block;\n",
       "  width: 100%;\n",
       "  margin-bottom: 0;\n",
       "  padding: 0.5em;\n",
       "  box-sizing: border-box;\n",
       "  text-align: center;\n",
       "}\n",
       "\n",
       "#sk-container-id-1 label.sk-toggleable__label-arrow:before {\n",
       "  /* Arrow on the left of the label */\n",
       "  content: \"▸\";\n",
       "  float: left;\n",
       "  margin-right: 0.25em;\n",
       "  color: var(--sklearn-color-icon);\n",
       "}\n",
       "\n",
       "#sk-container-id-1 label.sk-toggleable__label-arrow:hover:before {\n",
       "  color: var(--sklearn-color-text);\n",
       "}\n",
       "\n",
       "/* Toggleable content - dropdown */\n",
       "\n",
       "#sk-container-id-1 div.sk-toggleable__content {\n",
       "  max-height: 0;\n",
       "  max-width: 0;\n",
       "  overflow: hidden;\n",
       "  text-align: left;\n",
       "  /* unfitted */\n",
       "  background-color: var(--sklearn-color-unfitted-level-0);\n",
       "}\n",
       "\n",
       "#sk-container-id-1 div.sk-toggleable__content.fitted {\n",
       "  /* fitted */\n",
       "  background-color: var(--sklearn-color-fitted-level-0);\n",
       "}\n",
       "\n",
       "#sk-container-id-1 div.sk-toggleable__content pre {\n",
       "  margin: 0.2em;\n",
       "  border-radius: 0.25em;\n",
       "  color: var(--sklearn-color-text);\n",
       "  /* unfitted */\n",
       "  background-color: var(--sklearn-color-unfitted-level-0);\n",
       "}\n",
       "\n",
       "#sk-container-id-1 div.sk-toggleable__content.fitted pre {\n",
       "  /* unfitted */\n",
       "  background-color: var(--sklearn-color-fitted-level-0);\n",
       "}\n",
       "\n",
       "#sk-container-id-1 input.sk-toggleable__control:checked~div.sk-toggleable__content {\n",
       "  /* Expand drop-down */\n",
       "  max-height: 200px;\n",
       "  max-width: 100%;\n",
       "  overflow: auto;\n",
       "}\n",
       "\n",
       "#sk-container-id-1 input.sk-toggleable__control:checked~label.sk-toggleable__label-arrow:before {\n",
       "  content: \"▾\";\n",
       "}\n",
       "\n",
       "/* Pipeline/ColumnTransformer-specific style */\n",
       "\n",
       "#sk-container-id-1 div.sk-label input.sk-toggleable__control:checked~label.sk-toggleable__label {\n",
       "  color: var(--sklearn-color-text);\n",
       "  background-color: var(--sklearn-color-unfitted-level-2);\n",
       "}\n",
       "\n",
       "#sk-container-id-1 div.sk-label.fitted input.sk-toggleable__control:checked~label.sk-toggleable__label {\n",
       "  background-color: var(--sklearn-color-fitted-level-2);\n",
       "}\n",
       "\n",
       "/* Estimator-specific style */\n",
       "\n",
       "/* Colorize estimator box */\n",
       "#sk-container-id-1 div.sk-estimator input.sk-toggleable__control:checked~label.sk-toggleable__label {\n",
       "  /* unfitted */\n",
       "  background-color: var(--sklearn-color-unfitted-level-2);\n",
       "}\n",
       "\n",
       "#sk-container-id-1 div.sk-estimator.fitted input.sk-toggleable__control:checked~label.sk-toggleable__label {\n",
       "  /* fitted */\n",
       "  background-color: var(--sklearn-color-fitted-level-2);\n",
       "}\n",
       "\n",
       "#sk-container-id-1 div.sk-label label.sk-toggleable__label,\n",
       "#sk-container-id-1 div.sk-label label {\n",
       "  /* The background is the default theme color */\n",
       "  color: var(--sklearn-color-text-on-default-background);\n",
       "}\n",
       "\n",
       "/* On hover, darken the color of the background */\n",
       "#sk-container-id-1 div.sk-label:hover label.sk-toggleable__label {\n",
       "  color: var(--sklearn-color-text);\n",
       "  background-color: var(--sklearn-color-unfitted-level-2);\n",
       "}\n",
       "\n",
       "/* Label box, darken color on hover, fitted */\n",
       "#sk-container-id-1 div.sk-label.fitted:hover label.sk-toggleable__label.fitted {\n",
       "  color: var(--sklearn-color-text);\n",
       "  background-color: var(--sklearn-color-fitted-level-2);\n",
       "}\n",
       "\n",
       "/* Estimator label */\n",
       "\n",
       "#sk-container-id-1 div.sk-label label {\n",
       "  font-family: monospace;\n",
       "  font-weight: bold;\n",
       "  display: inline-block;\n",
       "  line-height: 1.2em;\n",
       "}\n",
       "\n",
       "#sk-container-id-1 div.sk-label-container {\n",
       "  text-align: center;\n",
       "}\n",
       "\n",
       "/* Estimator-specific */\n",
       "#sk-container-id-1 div.sk-estimator {\n",
       "  font-family: monospace;\n",
       "  border: 1px dotted var(--sklearn-color-border-box);\n",
       "  border-radius: 0.25em;\n",
       "  box-sizing: border-box;\n",
       "  margin-bottom: 0.5em;\n",
       "  /* unfitted */\n",
       "  background-color: var(--sklearn-color-unfitted-level-0);\n",
       "}\n",
       "\n",
       "#sk-container-id-1 div.sk-estimator.fitted {\n",
       "  /* fitted */\n",
       "  background-color: var(--sklearn-color-fitted-level-0);\n",
       "}\n",
       "\n",
       "/* on hover */\n",
       "#sk-container-id-1 div.sk-estimator:hover {\n",
       "  /* unfitted */\n",
       "  background-color: var(--sklearn-color-unfitted-level-2);\n",
       "}\n",
       "\n",
       "#sk-container-id-1 div.sk-estimator.fitted:hover {\n",
       "  /* fitted */\n",
       "  background-color: var(--sklearn-color-fitted-level-2);\n",
       "}\n",
       "\n",
       "/* Specification for estimator info (e.g. \"i\" and \"?\") */\n",
       "\n",
       "/* Common style for \"i\" and \"?\" */\n",
       "\n",
       ".sk-estimator-doc-link,\n",
       "a:link.sk-estimator-doc-link,\n",
       "a:visited.sk-estimator-doc-link {\n",
       "  float: right;\n",
       "  font-size: smaller;\n",
       "  line-height: 1em;\n",
       "  font-family: monospace;\n",
       "  background-color: var(--sklearn-color-background);\n",
       "  border-radius: 1em;\n",
       "  height: 1em;\n",
       "  width: 1em;\n",
       "  text-decoration: none !important;\n",
       "  margin-left: 1ex;\n",
       "  /* unfitted */\n",
       "  border: var(--sklearn-color-unfitted-level-1) 1pt solid;\n",
       "  color: var(--sklearn-color-unfitted-level-1);\n",
       "}\n",
       "\n",
       ".sk-estimator-doc-link.fitted,\n",
       "a:link.sk-estimator-doc-link.fitted,\n",
       "a:visited.sk-estimator-doc-link.fitted {\n",
       "  /* fitted */\n",
       "  border: var(--sklearn-color-fitted-level-1) 1pt solid;\n",
       "  color: var(--sklearn-color-fitted-level-1);\n",
       "}\n",
       "\n",
       "/* On hover */\n",
       "div.sk-estimator:hover .sk-estimator-doc-link:hover,\n",
       ".sk-estimator-doc-link:hover,\n",
       "div.sk-label-container:hover .sk-estimator-doc-link:hover,\n",
       ".sk-estimator-doc-link:hover {\n",
       "  /* unfitted */\n",
       "  background-color: var(--sklearn-color-unfitted-level-3);\n",
       "  color: var(--sklearn-color-background);\n",
       "  text-decoration: none;\n",
       "}\n",
       "\n",
       "div.sk-estimator.fitted:hover .sk-estimator-doc-link.fitted:hover,\n",
       ".sk-estimator-doc-link.fitted:hover,\n",
       "div.sk-label-container:hover .sk-estimator-doc-link.fitted:hover,\n",
       ".sk-estimator-doc-link.fitted:hover {\n",
       "  /* fitted */\n",
       "  background-color: var(--sklearn-color-fitted-level-3);\n",
       "  color: var(--sklearn-color-background);\n",
       "  text-decoration: none;\n",
       "}\n",
       "\n",
       "/* Span, style for the box shown on hovering the info icon */\n",
       ".sk-estimator-doc-link span {\n",
       "  display: none;\n",
       "  z-index: 9999;\n",
       "  position: relative;\n",
       "  font-weight: normal;\n",
       "  right: .2ex;\n",
       "  padding: .5ex;\n",
       "  margin: .5ex;\n",
       "  width: min-content;\n",
       "  min-width: 20ex;\n",
       "  max-width: 50ex;\n",
       "  color: var(--sklearn-color-text);\n",
       "  box-shadow: 2pt 2pt 4pt #999;\n",
       "  /* unfitted */\n",
       "  background: var(--sklearn-color-unfitted-level-0);\n",
       "  border: .5pt solid var(--sklearn-color-unfitted-level-3);\n",
       "}\n",
       "\n",
       ".sk-estimator-doc-link.fitted span {\n",
       "  /* fitted */\n",
       "  background: var(--sklearn-color-fitted-level-0);\n",
       "  border: var(--sklearn-color-fitted-level-3);\n",
       "}\n",
       "\n",
       ".sk-estimator-doc-link:hover span {\n",
       "  display: block;\n",
       "}\n",
       "\n",
       "/* \"?\"-specific style due to the `<a>` HTML tag */\n",
       "\n",
       "#sk-container-id-1 a.estimator_doc_link {\n",
       "  float: right;\n",
       "  font-size: 1rem;\n",
       "  line-height: 1em;\n",
       "  font-family: monospace;\n",
       "  background-color: var(--sklearn-color-background);\n",
       "  border-radius: 1rem;\n",
       "  height: 1rem;\n",
       "  width: 1rem;\n",
       "  text-decoration: none;\n",
       "  /* unfitted */\n",
       "  color: var(--sklearn-color-unfitted-level-1);\n",
       "  border: var(--sklearn-color-unfitted-level-1) 1pt solid;\n",
       "}\n",
       "\n",
       "#sk-container-id-1 a.estimator_doc_link.fitted {\n",
       "  /* fitted */\n",
       "  border: var(--sklearn-color-fitted-level-1) 1pt solid;\n",
       "  color: var(--sklearn-color-fitted-level-1);\n",
       "}\n",
       "\n",
       "/* On hover */\n",
       "#sk-container-id-1 a.estimator_doc_link:hover {\n",
       "  /* unfitted */\n",
       "  background-color: var(--sklearn-color-unfitted-level-3);\n",
       "  color: var(--sklearn-color-background);\n",
       "  text-decoration: none;\n",
       "}\n",
       "\n",
       "#sk-container-id-1 a.estimator_doc_link.fitted:hover {\n",
       "  /* fitted */\n",
       "  background-color: var(--sklearn-color-fitted-level-3);\n",
       "}\n",
       "</style><div id=\"sk-container-id-1\" class=\"sk-top-container\"><div class=\"sk-text-repr-fallback\"><pre>LinearRegression()</pre><b>In a Jupyter environment, please rerun this cell to show the HTML representation or trust the notebook. <br />On GitHub, the HTML representation is unable to render, please try loading this page with nbviewer.org.</b></div><div class=\"sk-container\" hidden><div class=\"sk-item\"><div class=\"sk-estimator fitted sk-toggleable\"><input class=\"sk-toggleable__control sk-hidden--visually\" id=\"sk-estimator-id-1\" type=\"checkbox\" checked><label for=\"sk-estimator-id-1\" class=\"sk-toggleable__label fitted sk-toggleable__label-arrow fitted\">&nbsp;&nbsp;LinearRegression<a class=\"sk-estimator-doc-link fitted\" rel=\"noreferrer\" target=\"_blank\" href=\"https://scikit-learn.org/1.5/modules/generated/sklearn.linear_model.LinearRegression.html\">?<span>Documentation for LinearRegression</span></a><span class=\"sk-estimator-doc-link fitted\">i<span>Fitted</span></span></label><div class=\"sk-toggleable__content fitted\"><pre>LinearRegression()</pre></div> </div></div></div></div>"
      ],
      "text/plain": [
       "LinearRegression()"
      ]
     },
     "execution_count": 116,
     "metadata": {},
     "output_type": "execute_result"
    }
   ],
   "source": [
    "# model training\n",
    "from sklearn.linear_model import LinearRegression\n",
    "\n",
    "model = LinearRegression()\n",
    "model.fit(X_train_final, y_train)\n"
   ]
  },
  {
   "cell_type": "code",
   "execution_count": null,
   "id": "e970cd1b",
   "metadata": {},
   "outputs": [],
   "source": [
    "# predicting price\n",
    "y_pred_log = model.predict(X_test_final)\n",
    "y_pred = np.expm1(y_pred_log)\n"
   ]
  },
  {
   "cell_type": "code",
   "execution_count": null,
   "id": "544c4517",
   "metadata": {},
   "outputs": [
    {
     "name": "stdout",
     "output_type": "stream",
     "text": [
      "Training MAPE: 0.3047\n"
     ]
    }
   ],
   "source": [
    "# Evaluating the MAPE\n",
    "from sklearn.metrics import mean_absolute_percentage_error\n",
    "\n",
    "y_train_pred_log = model.predict(X_train_final)\n",
    "y_train_pred = np.expm1(y_train_pred_log)\n",
    "\n",
    "mape = mean_absolute_percentage_error(np.expm1(y_train), y_train_pred)\n",
    "print(f\"Training MAPE: {mape:.4f}\")\n"
   ]
  },
  {
   "cell_type": "code",
   "execution_count": 126,
   "id": "2f3f7999",
   "metadata": {},
   "outputs": [
    {
     "data": {
      "text/plain": [
       "Index(['FarmerID', 'State', 'SEX', 'CITY', 'Zipcode', 'DISTRICT', 'VILLAGE',\n",
       "       'Location', 'Address type', 'Ownership',\n",
       "       ...\n",
       "       'K022-Ambient temperature max', 'R022-Ambient temperature min',\n",
       "       'R022-Ambient temperature max', 'K021-Ambient temperature min',\n",
       "       'K021-Ambient temperature max', 'R021-Ambient temperature min',\n",
       "       'R021-Ambient temperature max', 'R020-Ambient temperature min',\n",
       "       'R020-Ambient temperature max', 'Predicted_Income'],\n",
       "      dtype='object', length=116)"
      ]
     },
     "execution_count": 126,
     "metadata": {},
     "output_type": "execute_result"
    }
   ],
   "source": [
    "df1.columns"
   ]
  },
  {
   "cell_type": "code",
   "execution_count": 125,
   "id": "a837780c",
   "metadata": {},
   "outputs": [],
   "source": [
    "# final predication file \n",
    "df1['Predicted_Income'] = y_pred\n",
    "# Attach Farmer_ID from the original test_df\n",
    "submission = pd.DataFrame({\n",
    "\n",
    "    'FarmerID': df1['FarmerID'].values,\n",
    "    'Predicted_Income': y_pred\n",
    "})\n",
    "\n",
    "\n",
    "# saving it in excel format\n",
    "submission.to_excel('Prediaction.xlsx', index=False)\n",
    "\n"
   ]
  },
  {
   "cell_type": "code",
   "execution_count": 133,
   "id": "60e81afe",
   "metadata": {},
   "outputs": [
    {
     "data": {
      "image/png": "[encoded data removed]",
      "text/plain": [
       "<Figure size 800x500 with 1 Axes>"
      ]
     },
     "metadata": {},
     "output_type": "display_data"
    }
   ],
   "source": [
    "# visual representation of predicted price\n",
    "import matplotlib.pyplot as plt\n",
    "import seaborn as sns\n",
    "\n",
    "plt.figure(figsize=(8, 5))\n",
    "sns.histplot(y_pred, bins=30, kde=True, color='red')\n",
    "plt.title(\"Distribution of Predicted Income\")\n",
    "plt.xlabel(\"Predicted Income\")\n",
    "plt.ylabel(\"Frequency\")\n",
    "plt.show()\n"
   ]
  }
 ],
 "metadata": {
  "kernelspec": {
   "display_name": "Python 3",
   "language": "python",
   "name": "python3"
  },
  "language_info": {
   "codemirror_mode": {
    "name": "ipython",
    "version": 3
   },
   "file_extension": ".py",
   "mimetype": "text/x-python",
   "name": "python",
   "nbconvert_exporter": "python",
   "pygments_lexer": "ipython3",
   "version": "3.11.9"
  }
 },
 "nbformat": 4,
 "nbformat_minor": 5
}
