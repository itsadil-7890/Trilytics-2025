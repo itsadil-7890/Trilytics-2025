{
 "cells": [
  {
   "cell_type": "code",
   "execution_count": 1,
   "id": "2ccb3d28",
   "metadata": {},
   "outputs": [],
   "source": [
    "import pandas as pd\n",
    "import numpy as np\n",
    "import matplotlib.pyplot as plt\n",
    "import seaborn as sns\n"
   ]
  },
  {
   "cell_type": "code",
   "execution_count": 2,
   "id": "5705aaf4",
   "metadata": {},
   "outputs": [],
   "source": [
    "import warnings\n",
    "warnings.filterwarnings('ignore')"
   ]
  },
  {
   "cell_type": "code",
   "execution_count": 3,
   "id": "1849ceb1",
   "metadata": {},
   "outputs": [],
   "source": [
    "df= pd.read_excel('trainData1.xlsx')"
   ]
  },
  {
   "cell_type": "code",
   "execution_count": 4,
   "id": "a2f0ff24",
   "metadata": {},
   "outputs": [
    {
     "data": {
      "text/plain": [
       "(47970, 105)"
      ]
     },
     "execution_count": 4,
     "metadata": {},
     "output_type": "execute_result"
    }
   ],
   "source": [
    "df.shape"
   ]
  },
  {
   "cell_type": "code",
   "execution_count": 5,
   "id": "fb874d07",
   "metadata": {},
   "outputs": [
    {
     "name": "stdout",
     "output_type": "stream",
     "text": [
      "<class 'pandas.core.frame.DataFrame'>\n",
      "RangeIndex: 47970 entries, 0 to 47969\n",
      "Columns: 105 entries, FarmerID to Target_Variable/Total Income\n",
      "dtypes: float64(62), int64(5), object(38)\n",
      "memory usage: 38.4+ MB\n"
     ]
    }
   ],
   "source": [
    "df.info()"
   ]
  },
  {
   "cell_type": "code",
   "execution_count": 6,
   "id": "bec31b64",
   "metadata": {},
   "outputs": [],
   "source": [
    "#chceking all numerical column\n",
    "num_col=[col for col in df.columns if df[col].dtype =='int']"
   ]
  },
  {
   "cell_type": "code",
   "execution_count": 7,
   "id": "2663d2d3",
   "metadata": {},
   "outputs": [],
   "source": [
    "#chceking all categorical column\n",
    "catego_col = [col for col in df.columns if df[col].dtype =='object']"
   ]
  },
  {
   "cell_type": "code",
   "execution_count": 8,
   "id": "3d4ffbbb",
   "metadata": {},
   "outputs": [
    {
     "name": "stdout",
     "output_type": "stream",
     "text": [
      "FarmerID has [1002818465057450 1012300674433870 1013472263587380 ... 3574921768222110\n",
      " 2877092990946190 1276738318694060] values \n",
      "\n",
      "Zipcode has [464668 848125 458556 ... 573129 573134 573113] values \n",
      "\n",
      "No_of_Active_Loan_In_Bureau has [ 0  1 14  3 17  6  2  4  5 10  8  9  7 12 11 13 18 15 16 21 19 27 22 20\n",
      " 23 34 28 35 26 24 25 38 40 62] values \n",
      "\n",
      "Non_Agriculture_Income has [  100000   500000   492500 ... 13375000   527150  7850000] values \n",
      "\n",
      "Target_Variable/Total Income has [ 1360000   807200   500000 ...    75833 14750000  3230000] values \n",
      "\n"
     ]
    }
   ],
   "source": [
    "for col in num_col:\n",
    "    print(f\"{col} has {df[col].unique()} values \\n\")"
   ]
  },
  {
   "cell_type": "code",
   "execution_count": 9,
   "id": "c0a11d91",
   "metadata": {},
   "outputs": [
    {
     "name": "stdout",
     "output_type": "stream",
     "text": [
      "State has ['MADHYA PRADESH' 'BIHAR' 'MAHARASHTRA' 'ODISHA' 'KARNATAKA'\n",
      " 'ANDHRA PRADESH' 'UTTAR PRADESH' 'GUJARAT' 'WEST BENGAL' 'TELANGANA'\n",
      " 'CHATTISGARH' 'HARYANA' 'PUNJAB' 'JHARKHAND' 'ASSAM' 'CHANDIGARH'\n",
      " 'RAJASTHAN'] values \n",
      "\n",
      "REGION has ['CENTRAL' 'EAST' 'WEST' 'SOUTH' 'NORTH'] values \n",
      "\n",
      "SEX has ['M' 'F'] values \n",
      "\n",
      "CITY has ['BARELI' 'BANDRA' 'MALHARGARH' ... 'ALUR' 'SAKLESHPUR' 'SULYA'] values \n",
      "\n",
      "DISTRICT has ['RAISEN' 'MUZAFFARPUR' 'MANDSAUR' 'LATUR' 'SAGAR' 'VIDISHA' 'CUTTACK'\n",
      " 'HOSHANGABAD' 'BAGALKOT' 'ASHOKNAGAR' 'CHITTOOR' 'BETUL' 'AURANGABAD'\n",
      " 'GUNA' 'SEHORE' 'MANDLA' 'BANDA' 'HAVERI' 'RATLAM' 'INDORE'\n",
      " 'VIZIANAGARAM' 'CHHINDWARA' 'CHANDRAPUR' 'BHADRAK' 'WEST GODAVARI'\n",
      " 'HARDA' 'UJJAIN' 'SEONI' 'NANDED' 'MAHESANA' 'NASHIK' 'TUMKUR'\n",
      " 'DAKSHIN DINAJPUR' 'JAJAPUR' 'BARGARH' 'DEWAS' 'PUNE' 'BHAVNAGAR' 'PURI'\n",
      " 'NIRMAL' 'NARSIMHAPUR' 'BALLIA' 'ADILABAD' 'RAJNANDGAON' 'BANAS KANTHA'\n",
      " 'DHULE' 'PEDDAPALLE' 'HINGOLI' 'SHIVPURI' 'MUNGER' 'CHITRADURGA'\n",
      " 'NALGONDA' 'JASHPUR' 'PANCHKULA' 'SHAHID BHAGAT SINGH NAGAR'\n",
      " 'MURSHIDABAD' 'JAYA SHANKAR (BHALUPALLY)' 'JALGAON' 'SHEOPUR' 'JALNA'\n",
      " 'JANGAON' 'MANCHERIAL' 'OSMANABAD' 'YAVATMAL' 'MAHOBA' 'BIJAPUR'\n",
      " 'RANGAREDDY' 'AMBALA' 'CHITRAKOOT' 'KHEDA' 'JUNAGADH' 'KHUNTI'\n",
      " 'DAVANAGERE' 'WARDHA' 'KOLHAPUR' 'EAST GODAVARI' 'SANGLI' 'YADADRI'\n",
      " 'BALAGHAT' 'KABEERDHAM' 'SATARA' 'BELLARY' 'BHOPAL' 'BIDAR' 'PARBHANI'\n",
      " 'NAGPUR' 'SURGUJA' 'DUMKA' 'HASSAN' 'BEGUSARAI' 'DHENKANAL' 'CHATRA'\n",
      " 'MANSA' 'DINDORI' 'SOLAPUR' 'KALAHANDI' 'GURDASPUR' 'BULDANA'\n",
      " 'PASCHIM MEDINIPUR' 'JAGATSINGHAPUR' 'RAE BARELI' 'ARAVALLIS' 'NAYAGARH'\n",
      " 'NIZAMABAD' 'UTTAR DINAJPUR' 'BEMETRA' 'RAIGARH' 'PATIALA' 'JALANDHAR'\n",
      " 'VADODARA' 'SAMASTIPUR' 'PURBA BARDHAMAN' 'HUGLI' 'NARMADA' 'MAHASAMUND'\n",
      " 'KOMARAM BHEEM ASIFABAD' 'GADAG' 'SAHIBZADA AJIT SINGH NAGAR' 'BHAGALPUR'\n",
      " 'MUNGELI' 'BELGAUM' 'JHABUA' 'GARIABAND' 'GADCHIROLI' 'AHMADNAGAR'\n",
      " 'GANJAM' 'KENDRAPARA' 'SANGRUR' 'PAKUR' 'HAZARIBAGH' 'GULBARGA' 'SHEOHAR'\n",
      " 'SRIKAKULAM' 'YAMUNANAGAR' 'GODDA' 'BAUDH' 'SUBARNAPUR' 'KHAGARIA'\n",
      " 'BISWANATH' 'CHIKKABALLAPURA' 'JANJGIR CHAMPA' 'GWALIOR' 'CHIKMAGALUR'\n",
      " 'BHANDARA' 'NADIA' 'MEDCHAL-MALKAJGIRI' 'MALDAH' 'VIKARABAD' 'PATAN'\n",
      " 'MUKTSAR' 'AMRELI' 'PURULIYA' 'SITAMARHI' 'RAIPUR' 'SAMBALPUR'\n",
      " 'DARBHANGA' 'LAKHISARAI' 'GUMLA' 'JABALPUR' 'DHAR' 'KRISHNA' 'LOHARDAGA'\n",
      " 'SANGAREDDY' 'JAMNAGAR' 'HYDERABAD' 'JAGTIAL' 'RANCHI' 'RAMGARH' 'SURAT'\n",
      " 'SURENDRANAGAR' 'AMRITSAR' 'KAPURTHALA' 'BALANGIR' 'TAPI' 'VISAKHAPATNAM'\n",
      " 'CHHATRAPATI SHAHUJI MAHARAJ NGR' 'BALODA BAZAR' 'KHORDHA' 'PRATAPGARH'\n",
      " 'BANGALORE' 'FATEHGARH SAHIB' 'SABAR KANTHA' 'BIRBHUM' 'HOSHIARPUR' 'BID'\n",
      " 'JHARGAM' 'GONDIYA' 'DEVBHOOMI DWARKA' 'PURBA CHAMPARAN' 'JHARSUGUDA'\n",
      " 'DEOGHAR' 'CHHOTA UDAIPUR' 'GANDHINAGAR' 'RUPNAGAR' 'PANCH MAHALS'\n",
      " 'LUDHIANA' 'KENDUJHAR' 'KOPPAL' 'SRI POTTI SRIRAMULU NELLORE' 'VAISHALI'\n",
      " 'AHMADABAD' 'DATIA' 'NAGARKURNOOL' 'RAJANNA SIRCILLA' 'KARIMNAGAR'\n",
      " 'SULTANPUR' 'BHARUCH' 'GIRIDIH' 'NEEMUCH' 'JALAUN' 'RAJGARH' 'BILASPUR'\n",
      " 'GHAZIPUR' 'BATHINDA' 'YSR' 'DHARWAD' 'MAHISAGAR' 'BALOD (SANJARIBALOD)'\n",
      " 'SAHARSA' 'SHIMOGA' 'PORBANDAR' 'SOUTH TWENTY FOUR PARGANAS' 'THE DANGS'\n",
      " 'NORTH TWENTY FOUR PARGANAS' 'KANDHAMAL' 'BHADRARI KOTHAGUDEM' 'MAU'\n",
      " 'MADHUBANI' 'BOTAD' 'SINDHUDURG' 'SONITPUR' 'UTTAR BASTAR KANKER'\n",
      " 'MAHBUBNAGAR' 'AZAMGARH' 'SIDDIPET' 'VARANASI' 'PURBA MEDINIPUR' 'RAJKOT'\n",
      " 'BARMER' 'NABARANGAPUR' 'PATNA' 'BANSWARA' 'NANDURBAR' 'TARN TARAN'\n",
      " 'HAMIRPUR' 'PASCHIM BARDHAMAN' 'KODARMA' 'SHAHDOL' 'AMRAVATI' 'SHAJAPUR'\n",
      " 'UNNAO' 'KARNAL' 'KAITHAL' 'PANIPAT' 'KISHANGANJ' 'KATIHAR' 'PURNIA'\n",
      " 'ARARIA' 'KONDAGAON' 'DHAMTARI' 'BHIMNAGAR' 'RAMPUR' 'BUDAUN' 'MORBI'\n",
      " 'ANANTAPUR' 'KURNOOL' 'WARANGAL URBAN' 'MAHABUBABAD' 'WARANGAL RURAL'\n",
      " 'SONBHADRA' 'CHANDAULI' 'JAUNPUR' 'SANT RAVIDAS NAGAR BHADOHI' 'MIRZAPUR'\n",
      " 'SONIPAT' 'ROHTAK' 'JHAJJAR' 'CHARKHI DADRI' 'JIND' 'HAORA' 'ANAND'\n",
      " 'PRAKASAM' 'AKOLA' 'RAICHUR' 'MYSORE' 'MANDYA' 'CHAMARAJANAGAR'\n",
      " 'RAMANAGARA' 'KHARGONE WEST NIMAR' 'BARWANI' 'KHANDWA EAST NIMAR' 'SATNA'\n",
      " 'PANNA' 'DAMOH' 'CHHATARPUR' 'REWA' 'KATNI' 'REWARI' 'GURGAON'\n",
      " 'MAHENDRAGARH' 'HISAR' 'BHIWANI' 'FATEHABAD' 'TIKAMGARH' 'UTTARA KANNADA'\n",
      " 'UDUPI' 'MOGA' 'KOLAR' 'BANGALORE RURAL' 'SIRSA' 'MAINPURI' 'AGRA'\n",
      " 'MATHURA' 'ETAH' 'FIROZABAD' 'MAHAMAYA NAGAR' 'KANSHIRAM NAGAR' 'ETAWAH'\n",
      " 'ALIGARH' 'FARRUKHABAD' 'AURAIYA' 'BAKSA' 'BARPETA' 'GOALPARA'\n",
      " 'KAMRUP METROPOLITAN' 'DARRANG' 'CHIRANG' 'KAMRUP' 'UDALGURI' 'HARDOI'\n",
      " 'SHAHJAHANPUR' 'PILIBHIT' 'MORADABAD' 'BAREILLY' 'JYOTIBA PHULE NAGAR'\n",
      " 'KANPUR DEHAT' 'FATEHPUR' 'JHANSI' 'KANPUR NAGAR' 'KAUSHAMBI' 'DOHAD'\n",
      " 'SUPAUL' 'MADHEPURA' 'BANKURA' 'GONDA' 'BARA BANKI' 'BAHRAICH' 'LUCKNOW'\n",
      " 'SITAPUR' 'AMBEDKAR NAGAR' 'KHERI' 'LALITPUR' 'MORENA' 'SURYAPET'\n",
      " 'YADGIR' 'SHRAWASTI' 'GUNTUR' 'KORBA' 'SIWAN' 'SARAN' 'GOPALGANJ'\n",
      " 'KAMAREDDY' 'WANAPARTHY' 'JOGULAMBA' 'BALRAMPUR' 'KORIYA' 'SURAJPUR'\n",
      " 'DURG' 'PASHCHIM CHAMPARAN' 'BURHANPUR' 'BHOJPUR' 'JEHANABAD' 'NALANDA'\n",
      " 'ARWAL' 'FAIZABAD' 'MEDAK' 'GAYA' 'NAWADA' 'KHAMMAM' 'KANNAUJ'\n",
      " 'ALLAHABAD' 'KAIMUR BHABUA' 'BUXAR' 'ROHTAS' 'ALIRAJPUR'\n",
      " 'PURBI SINGHBHUM' 'PASHCHIMI SINGHBHUM' 'SARAIKELA KHARSAWAN'\n",
      " 'MALKANGIRI' 'RAYAGADA' 'KORAPUT' 'SIDHI' 'ANUPPUR' 'MAYURBHANJ'\n",
      " 'BALESHWAR' 'MAHRAJGANJ' 'BASTI' 'DEORIA' 'SIDDHARTHNAGAR' 'KUSHINAGAR'\n",
      " 'GORAKHPUR' 'SANT KABIR NAGAR' 'WASHIM' 'UMARIA' 'DAKSHINA KANNADA'] values \n",
      "\n",
      "VILLAGE has ['Seoni' 'Namapur' 'Billaud' ... 'Motanayakanahalli' 'Mallanayakanahalli'\n",
      " 'Kanive Kaval'] values \n",
      "\n",
      "MARITAL_STATUS has ['M' 'S' 'NK'] values \n",
      "\n",
      "Location has [nan '23.5131479,77.8207876' '22.7184042,78.2180971' ...\n",
      " '12.9956765,76.0817159' '13.2051248,76.168746' '13.3247225,76.2488811'] values \n",
      "\n",
      "Address type has [nan 'Permanent Address' 'Current Address' 'Both Addresses'] values \n",
      "\n",
      "Ownership has [nan 'Owned' 'Parental' 'Rented'] values \n",
      "\n",
      "K022-Village category based on Agri parameters (Good, Average, Poor) has ['Poor' 'Average'] values \n",
      "\n",
      "K022-Nearest Mandi Name has ['Gotegaon' 'Chandur(Mungodu)' 'Mandsaur' 'Renapur' 'Javera' 'Gulabganj'\n",
      " 'Sagar' 'Pipariya' 'Bagalakot' 'Jawala,Bajar' 'Shahpura(Jabalpur)'\n",
      " 'Shadora' 'Katpadi' 'Betul' 'Shrigonda(Gogargaon)' 'Bhikangaon' 'Chhabra'\n",
      " 'Baktara' 'Bamora' 'Rehati' 'Nainpur' 'Nasrullaganj' 'Beohari' 'Haveri'\n",
      " 'Petlawad' 'Dound' 'Gautampura' 'Sanwer' 'Sircilla' 'Brahmpuri' 'Sironj'\n",
      " 'Armori' 'Jajpur' 'Shevgaon' 'Ungatur' 'Khurai' 'Harda' 'Khachrod'\n",
      " 'Keolari' 'Hingoli(Kanegoan Naka)' 'Ashta' 'Sihora' 'Kovvur' 'Jawar'\n",
      " 'Malegaon' 'Huliyar' 'Hiriyur' 'Kamakhyanagar' 'Mungawali' 'Sitmau'\n",
      " 'Burhanpur' 'Vaniyambadi' 'Bolangir(Patnagarh)' 'Dhar' 'Rahatgarh'\n",
      " 'Badnawar(F&V)' 'Loharda' 'Nagda' 'Amarwda' 'Khamgaon' 'Sehore' 'Berasia'\n",
      " 'Taal' 'Jatni' 'Dammapet' 'Punganur' 'Chimur' 'Kodad' 'Patur' 'Gadarwada'\n",
      " 'Banapura' 'Udaipura' 'Chaurai' 'Silvani' 'Boath' 'Hata' 'Sinner'\n",
      " 'Peddapalli' 'Basmat(Kurunda)' 'Badarwas' 'Bhainsa' 'Shegaon'\n",
      " 'Chandrapur' 'Bhongir' 'Holalkere' 'Sindkhed Raja' 'Mandla'\n",
      " 'Wardhannapet' 'Khanapur' 'Sengoan' 'Daloda' 'Kalamnuri' 'Sakri'\n",
      " 'Chhindwara' 'Panchkula' 'Indapur(Nimgaon Ketki)' 'Mehekar' 'Gairatganj'\n",
      " 'Lateri' 'Raisen' 'Praswada' 'Begamganj' 'Chandur Railway' 'Mhow'\n",
      " 'Sattupalli' 'Balapur' 'Aatpadi' 'Satana' 'Morena' 'Barad' 'Partur'\n",
      " 'Ichhawar' 'Bhiwapur' 'Srikalahasti' 'Anantapur' 'Chalisgaon' 'Gangakhed'\n",
      " 'Armoor' 'Ramayampet' 'Belur' 'Ahmednagar' 'Murtizapur' 'Nandgaon'\n",
      " 'Multai' 'Jalana' 'Shirur' 'Deglur' 'Amangal' 'Banda' 'Ausa' 'Jaleswar'\n",
      " 'Chhatarpur' 'Piprai' 'Nimapara' 'Challakere' 'Rahama' 'Nandura'\n",
      " 'Hingoli' 'Pathardi' 'Byadagi' 'Indapur' 'Karera' 'Wanaparthy Road'\n",
      " 'Tendukheda' 'Bijolia' 'Khategaon' 'Badnagar' 'Jeypore' 'Gorakhpur'\n",
      " 'Hoshangabad' 'Padampur' 'Bichhiya' 'Jamkhed' 'Davangere' 'Ghatanji'\n",
      " 'Belgaum' 'Turvekere' 'Chintalapudi' 'Mantha' 'Bina' 'Bareli' 'Palus'\n",
      " 'Aler' 'Guna' 'Akhadabalapur' 'Gajapathinagaram' 'Bangarpet' 'Gandai'\n",
      " 'Jalna(Badnapur)' 'Honnali' 'Mukhed' 'Savanur' 'Udgir' 'Harappana Halli'\n",
      " 'Yawal' 'Digras' 'Samudrapur' 'Goregaon' 'Kannod' 'Eluru,II' 'A lot'\n",
      " 'Sultanabad' 'Jintur(Bori)' 'Chanderi' 'Bhandara' 'Deori' 'Vemulawada'\n",
      " 'Latur' 'Khaniadhana' 'Badami' 'Sangamner' 'Bhadrak' 'Dharmabad'\n",
      " 'Baramati' 'Parbhani' 'Kukshi' 'Narsinghpur' 'Sonpeth' 'Nirmal'\n",
      " 'Arasikere' 'Khatora' 'Ghansawangi' 'Bobbili' 'Jamakhandi'\n",
      " 'Nabarangpur(Umerkote)' 'Bhitarwar' 'Chhpara' 'Naraingarh' 'Unhel'\n",
      " 'Denduluru' 'Talcher' 'Jagalur' 'Chipurupalli' 'Banswara' 'Loharu'\n",
      " 'Karvi' 'Siroli' 'Hissar' 'Akluj' 'Nagbhid' 'Kesinga' 'Ralegaon' 'Ichoda'\n",
      " 'Manwat' 'Lasalgaon' 'Jhabua' 'Choutuppal' 'Mundaragi' 'Amalner' 'Rahuri'\n",
      " 'Sangrampur(Varvatbakal)' 'LavKush Nagar(Laundi)' 'Chandabali'\n",
      " 'Ganjbasoda' 'Udala' 'Newasa' 'Bellary' 'Hathin' 'Sarankul' 'Bodwad'\n",
      " 'Jobat' 'Nagamangala' 'Kesli' 'Ashoknagar' 'Arakalgud'\n",
      " 'Adilabad(Rythu Bazar)' 'Haatpipliya' 'Buldhana(Dhad)' 'Shamshabad'\n",
      " 'Bhimadole' 'Kammarpally' 'Shankarapally' 'Channagiri' 'Lonar' 'Korpana'\n",
      " 'Bhalki' 'Seoni' 'Dewas' 'Chakur' 'Jaora' 'Junnar(Otur)' 'Jullana'\n",
      " 'Vaijpur' 'Bankhedi' 'Mohindergarh' 'Bampada' 'Shahdol' 'Kalwakurthy'\n",
      " 'Bhopal' 'Chintamani' 'Dindori' 'Nira(Saswad)' 'Damoh' 'Sonkatch'\n",
      " 'Malegaon(Vashim)' 'Doranpal' 'Badwani' 'Kunigal' 'Pandhana' 'Ramtek'\n",
      " 'Indore' 'Malthone' 'Hinganghat' 'Shyampur' 'Magroni' 'Chitradurga'\n",
      " 'Rehli' 'Boudh' 'Hadgaon' 'Mandya' 'Selu' 'Hungund' 'Pattamundai'\n",
      " 'Ahmedpur' 'Suragana' 'Madanapalli' 'Nagarkurnool' 'Piplya'\n",
      " 'Vijayanagaram' 'Timarni' 'Mulugu' 'T. Narasipura' 'Ratlam' 'Harihara'\n",
      " 'Chirala' 'Polavaram' 'Bijawar' 'Bilagi' 'Sindi' 'Katni' 'Makdi'\n",
      " 'Srinivasapur' 'Devarakonda' 'Dharmapuri' 'Thottambedu' 'Rajgarh'\n",
      " 'Chityal' 'Pulgaon' 'Sailana' 'Pandhurna' 'Pusad' 'Mohol' 'Jagatsinghpur'\n",
      " 'Lakhani' 'Raver' 'Parner' 'Kendrapara(Marshaghai)' 'Ratia' 'Hosadurga'\n",
      " 'Wardha' 'Athani' 'Ranebennur' 'Kolaras' 'Channarayapatna' 'Bijapur'\n",
      " 'Obedullaganj' 'Penukonda' 'Aron' 'Shivpuri' 'Shiggauv' 'Adampur'\n",
      " 'Mahagaon' 'Karatgi' 'Alanda' 'Kinwat' 'Barshi Takli' 'Malkanagiri'\n",
      " 'Shrirampur(Belapur)' 'Mancharial' 'Talikot' 'Varora' 'Radaur'\n",
      " 'Birmaharajpur' 'Attabira' 'Paatan' 'Naugaon' 'Khanina' 'Krosuru'\n",
      " 'Hoovinahadagali' 'Chopada' 'Risod' 'Ashti(Jalna)' 'Kurwai' 'Sirguppa'\n",
      " 'Rahata' 'Bhensdehi' 'Mothkur' 'Gubbi' 'Kottur' 'Lakhandur'\n",
      " 'Achampet(Amrabad)' 'Tenakallu' 'Gopa' 'Pachora(Bhadgaon)' 'Kendupatna'\n",
      " 'Umared' 'Gangavathi' 'Sohela' 'Ghansour' 'Chinnoar' 'Ambad (Vadigodri)'\n",
      " 'Bilaspur' 'Sidhi' 'Kodakandal' 'Manasa' 'Gannavaram' 'Porsa' 'Akkalkot'\n",
      " 'Gulburga(Jhevargi)' 'Kosli' 'Varni' 'Shahagarh' 'Vijaypur' 'Lakhnadon'\n",
      " 'Jhajjar' 'Yalburga' 'Bhawanipatna' 'Manakodur' 'Tohana' 'Shadnagar'\n",
      " 'Akola' 'Madhira' 'Mangrulpeer' 'Kailaras' 'Tosham' 'Tiwasa'\n",
      " 'Dungurapalli' 'Pawai' 'Nagalapuram' 'Rewa' 'Katol' 'Achampet' 'Motala'\n",
      " 'Hadgaon(Tamsa)' 'Birkur' 'Yeola' 'Hospet' 'Rajura' 'Ramnagar' 'Bolangir'\n",
      " 'Chaakghat' 'Khirakiya' 'Sadasivpet' 'Mukhiguda' 'Amarpatan'\n",
      " 'New Grain Market , Jind' 'Chandvad' 'Nanded' 'Ponnur' 'Jaggayyapeta'\n",
      " 'Isagarh' 'Kareli' 'Tumkur' 'Medipally' 'Balugaon' 'Paithan' 'Sarangapur'\n",
      " 'Sankeshwar' 'Ellanabad' 'Barikpur' 'Deoulgaon Raja' 'Kalamb' 'Ashti'\n",
      " 'Voligonda(Ramannapet)' 'Asandh' 'Narsipatnam' 'Simariya' 'Lingasugur'\n",
      " 'Satna' 'Hirekerur' 'Sira' 'Aurad Shahajani' 'Gharaunda' 'Wyra'\n",
      " 'Tadikonda' 'Pichhour' 'Kurawar' 'Gangapur' 'Mohgaon' 'Mudkhed'\n",
      " 'Bowenpally' 'K.R. Pet' 'Maregoan' 'Mhalingapur' 'Siwani' 'Penugonda'\n",
      " 'Jaitgiri' 'Pohari' 'Ghoti' 'Tirupati' 'Syopurkalan(F&V)' 'Shrirampur'\n",
      " 'Barshi(Vairag)' 'Umarkhed' 'Mangal Wedha' 'Nawarangpur' 'Ajaygarh'\n",
      " 'Pandkital' 'Dhone' 'Garhakota' 'Bhadravathi' 'Karimnagar' 'Miryalaguda'\n",
      " 'Sedam' 'Mahbubnagar(Nawabpet)' 'Ateli' 'Laxmeshwar' 'Nanggaon'\n",
      " 'Chandur Bazar' 'Rannod' 'Kataram' 'Barshi' 'Kadur' 'Hosanagar' 'Charla'\n",
      " 'Baikunthpur' 'Pandharpur' 'Daryapur' 'Mau(Chitrakut)' 'Bhiwani'\n",
      " 'Penamaluru' 'Fatehabad' 'Lashkar' 'Sonepat(Kharkhoda)' 'Mohanpur'\n",
      " 'Nizamabad' 'Kuntur' 'Indapur(Bhigwan)' 'Bonai' 'Bahadurgarh' 'Sambalpur'\n",
      " 'Bahadajholla' 'Nasik' 'Adoni' 'Semriharchand' 'K.R.Nagar' 'Ghanpur'\n",
      " 'Banmorkalan' 'Chamorshi' 'Umariya' 'Kothavalasa' 'Manmad' 'Tiruvuru'\n",
      " 'Mylavaram' 'Rajnagar' 'Telhara' 'Sabalgarh' 'Mandhal' 'Bagli' 'Nuzvid'\n",
      " 'Savali' 'Sardarnagar' 'Kasrawad' 'Anandapur' 'Jabalpur' 'Palera'\n",
      " 'Yellandu' 'Akot' 'Gondpimpri' 'Puttur' 'Mul' 'Mahur' 'Chilakaluripet'\n",
      " 'Hubli (Amaragol)' 'Bhimunipatnam' 'Jalkot' 'Dabra' 'Indri' 'Hanagal'\n",
      " 'Samalkha' 'Pusapatirega' 'Katangi' 'Sindagi' 'Tarikere' 'Saunsar'\n",
      " 'Sahidngar' 'Jharsuguda' 'Bhiknoor' 'Banaganapalli' 'Wanaparthy town'\n",
      " 'Bhadrawati' 'Koratla' 'Kalvan' 'Velpur' 'Parola' 'Hassan'\n",
      " 'Ibrahimpatnam' 'Devala' 'Sattenapalli' 'Kamthi' 'Gandhari'\n",
      " 'Sheopurkalan' 'Washim(Ansing)' 'Pavani' 'Hanumana' 'Behal' 'Kagaznagar'\n",
      " 'Ambaha' 'Mehar' 'Rona' 'Tumsar' 'Pandavapura' 'Darsi' 'Piler'\n",
      " 'Kalidindi' 'Koppal' 'Palthan' 'Hunsur' 'Narsapur' 'Gandchiroli' 'Dhule'\n",
      " 'Narnaud(Bass)' 'Dhenkanal' 'Ganaur' 'Piriya Pattana' 'Rayachoti'\n",
      " 'Alirajpur' 'Jora' 'Kundagol' 'Neemuch' 'Pitlam' 'Shahpura' 'Rayadurg'\n",
      " 'Madhugiri' 'Sindevahi' 'Gevrai' 'Soundati' 'Dhamngaon,Railway' 'Ladwa'\n",
      " 'Jatara' 'Badepalli' 'Dudhani' 'Gopalavaram' 'Banki' 'Jalgaon'\n",
      " 'Kundalwadi' 'Hindol' 'Nelakondapally' 'Barghat' 'Atarra' 'Alur'\n",
      " 'Raipur Rai' 'Patharia' 'Solapur' 'Kaithal' 'Bodhan' 'Rewari' 'Sindhanur'\n",
      " 'Dhamnod' 'Ramdurga' 'Loha' 'Manora' 'Holenarsipura' 'Bhanpura'\n",
      " 'Dondaicha(Sindhkheda)' 'Itarsi' 'Nagod' 'Guntakal' 'Nargunda' 'Thandla'\n",
      " 'Peddapuram' 'Manthani' 'Gondiya' 'Baripada' 'Murim' 'Pargi' 'Maddur'\n",
      " 'Nira' 'Nilanga' 'Devadurga' 'Jogipet' 'Nilagiri' 'Gundlupet' 'Narsampet'\n",
      " 'Wanaparthy Road(Prbbair)' 'Humanabad' 'Vikarabad' 'Tiroda' 'Kunjpura'\n",
      " 'Narasaraopet' 'New Grain Market , Bhiwani' 'Shimoga' 'Rania' 'Pathari'\n",
      " 'Kamareddy' 'Meham' 'Jainath' 'Narayankhed' 'Sirsa'\n",
      " 'Bhiwani(Bawani Khera)' 'Shikaripura' 'Arvi' 'Narayanpet' 'Kustagi'\n",
      " 'Shirpur' 'Gajwel' 'Kalayat' 'Devandranagar' 'Hansi' 'Akole'\n",
      " 'Nandikotkur' 'Tadkalas' 'Segaon' 'Narsapuram' 'Siddipet' 'Khargone'\n",
      " 'Khariar Road' 'Israna' 'Koraput(Semilguda)' 'Nakrekal' 'Huzzurabad'\n",
      " 'Bargarh(Barapalli)' 'Kosgi' 'Arjuni' 'New Grain Market(main)' 'Panipat'\n",
      " 'Chhinari' 'Manvi' 'Yemmiganur' 'Sonepat' 'Jind' 'Gohana' 'Kalyandurg'\n",
      " 'Dharmavaram' 'Urvakonda' 'Madakasira' 'Gooti' 'Pavagada' 'Tadipatri'\n",
      " 'Nandyal' 'Macharla' 'Kurnool' 'Markapur' 'Mahabubabad'\n",
      " 'Narsampet(Nekonda)' 'Cherial' 'Thorrur' 'Jangaon' 'Kesamudram'\n",
      " 'Bhopalpattnam' 'Parkal' 'Dubbak' 'Husnabad' 'Nandigama' 'Suryapeta'\n",
      " 'Tileibani' 'Rohtak' 'Ch. Dadri' 'Panna' 'Allagadda' 'Jammalamadugu'\n",
      " 'Koilkunta' 'Ongole' 'Atmakur' 'Raichur' 'Giddalur' 'Proddatur' 'Kondapi'\n",
      " 'Podili' 'Kallur' 'Anajngaon' 'Jagdalpur' 'Amarawati' 'Pandhakawada'\n",
      " 'Amrawati(Frui & Veg. Market)' 'Morshi' 'Darwha' 'Ner Parasopant' 'Varud'\n",
      " 'Medak' 'Denkanikottai' 'Gadag' 'Srirangapattana' 'Pulpally' 'Somvarpet'\n",
      " 'Huzurnagar' 'Thalavadi' 'Nanjangud' 'Mysore (Bandipalya)' 'Kollegal'\n",
      " 'Santhesargur' 'Sanawad' 'Gandhwani' 'Manawar' 'Anjad' 'Karhi' 'Sendhwa'\n",
      " 'Badwaha' 'Balwadi' 'Khetia' 'Harpalpur' 'Pataudi' 'Sohna' 'Kathalapur'\n",
      " 'Choppadandi' 'Jagtial' 'Yellapur' 'Yellareddy' 'Narwana'\n",
      " 'Barwala(Hisar)' 'Safidon' 'Khargapur' 'Prithvipur' 'Tikamgarh'\n",
      " 'Badamalhera' 'Bakswaha' 'Hirapur' 'Doddaballa Pur' 'Sorabha'\n",
      " 'Thirthahalli' 'Bagepalli' 'Chickkaballapura' 'Parshiwani' 'Babhulgaon'\n",
      " 'Chhuria' 'Savner' 'Dabwali(Chautala)' 'Narela' 'Beri' 'Dharni'\n",
      " 'Kopargaon' 'Kada(Ashti)' 'Pai(Rajaund)' 'Khairthal' 'Dharwar'\n",
      " 'Nandagada' 'Gokak' 'Bailahongal' 'Kollapur' 'Indravelly(Utnoor)'\n",
      " 'Gunpur' 'Dholpur' 'Loharu(Dighwa)' 'Itawa' 'Gohad' 'Jarar'\n",
      " 'Venkateswarnagar' 'Halia' 'Kotagiri' 'Vinukonda'\n",
      " 'Devarkonda(Mallepalli)' 'Yadgir' 'Ipur' 'Bapatla' 'Mangalagiri'\n",
      " 'Repalli' 'Pidugurala(Palnadu)' 'Parchur' 'Tenali' 'Kanchekacherla'\n",
      " 'Movva Hqs' 'Kuchinapudi' 'Kandukur' 'Lakkireddipally' 'Banswada'\n",
      " 'Bichkunda' 'Rajampet' 'Sadashivnagar' 'Neredcherla' 'Mahbubnagar'\n",
      " 'Devarakadra' 'Makthal' 'Alampur' 'Vantamamidi' 'Chittapur' 'Annigeri'\n",
      " 'Kalagategi' 'Siddapur' 'Venkatagiri' 'Addanki' 'Martur' 'Malur' 'Aurad'\n",
      " 'Kotma' 'Budhar' 'Baraut' 'Divi' 'Vuyyur' 'Machilipatnam' 'Kurdwadi'\n",
      " 'Maddipadu' 'Udayagiri' 'Dahod' 'Tirumalagiri' 'Bhadrachalam' 'Khammam'\n",
      " 'Dornakal' 'Shahapur' 'Risgaon' 'Koraput' 'Tokapal' 'Rayagada(Muniguda)'\n",
      " 'Devbhog' 'Rayagada' 'Javad' 'Jaithari' 'Khanauri' 'Chikali' 'Washim'\n",
      " 'Sangrampur' 'Malkapur' 'Jalgaon Jamod(Aasalgaon)' 'Jalgaon(Jamod)'\n",
      " 'Gowribidanoor' 'Barara' 'Anuppur' 'Manendragarh' 'Vani' 'Sakaleshpura'\n",
      " 'Madikeri'] values \n",
      "\n",
      "K022-Village category based on socio-economic parameters (Good, Average, Poor) has ['Poor' 'Average' 'Good'] values \n",
      "\n",
      "K022-Ambient temperature (min & max) has ['23.34 /30.33' '23.28 /29.99' '23.25 /31.26' ... '24.59 /31.04'\n",
      " '19.48 /25.28' '21.2 /26.9'] values \n",
      "\n",
      "R022-Village category based on Agri parameters (Good, Average, Poor) has ['Poor' 'Average'] values \n",
      "\n",
      "R022-Ambient temperature (min & max) has ['16.19 /29.07' '19.7 /30.52' '15.62 /28.67' ... '20.08 /31.65'\n",
      " '18.25 /29.13' '20.19 /30.97'] values \n",
      "\n",
      "K021-Ambient temperature (min & max) has ['23.29 /29.78' '23.39 /29.89' '23.14 /30.22' ... '24.36 /30.63'\n",
      " '19.83 /24.74' '21.49 /26.29'] values \n",
      "\n",
      "R021-Ambient temperature (min & max) has ['16.48 /30.02' '19.54 /30.98' '16.21 /29.91' ... '20.14 /32.63'\n",
      " '18.29 /29.39' '20.52 /31.09'] values \n",
      "\n",
      "R020-Ambient temperature (min & max) has ['16.08 /28.09' '20.37 /30.56' '16.13 /28.32' ... '20.86 /31.64'\n",
      " '18.81 /29.71' '20.84 /31.62'] values \n",
      "\n",
      "Kharif Seasons  Type of soil in 2022 has ['Deep Black soils (with shallow and medium Black Soils as inclusion)'\n",
      " 'Mixed Red and Black Soils'\n",
      " 'Shallow Black Soils (with medium and deep Black Soils as  inclusion)'\n",
      " 'Red loamy Soils' 'Red and lateritic Soils'\n",
      " 'Coastal and Deltaic Alluvium derived Soils'\n",
      " 'Alluvial-derived Soils (with saline phases)' 'Desert (saline) Soils'] values \n",
      "\n",
      "Kharif Seasons  Type of water bodies in hectares 2022 has [\"['water']\" \"['river']\" '[None]' \"['riverbank']\" \"['reservoir, water']\"\n",
      " \"['river, water']\" \"['reservoir']\" \"['reservoir, river']\"\n",
      " \"['river, riverbank, water']\" \"['river, water, wetland']\"\n",
      " \"['riverbank, water']\" \"['river, riverbank']\"\n",
      " \"['reservoir, river, water']\" \"['river, wetland']\" \"['water, wetland']\"\n",
      " \"['wetland']\" \"['reservoir, riverbank, water']\"\n",
      " \"['river, riverbank, wetland']\" \"['riverbank, wetland']\"\n",
      " \"['reservoir, water, wetland']\" \"['reservoir, wetland']\"\n",
      " \"['reservoir, river, riverbank']\"] values \n",
      "\n",
      "Kharif Seasons  Agro Ecological Sub Zone in 2022 has ['CENTRAL HIGHLANDS (MALWA AND BUNDELKHAND)  HOT SUBHUMID (DRY) ECO-REGION'\n",
      " 'DECCAN PLATEAU  (TELANGANA) AND EASTERN GHATS  HOT SEMI ARID ECO-REGION'\n",
      " 'CENTRAL HIGHLANDS ( MALWA )  GUJARAT PLAIN AND KATHIAWAR PENINSULA  SEMI-ARID ECO-REGION'\n",
      " 'DECCAN PLATU  HOT SEMI-ARID ECO-REGION'\n",
      " 'KARNATAKA PLATEAU (RAYALSEEMA AS INCLUSION)'\n",
      " 'EASTERN GHATS AND TAMIL NADU UPLANDS AND DECCAN (K ARNATAKA) PLATEAU  HOT SEMI-ARID ECO-REGION'\n",
      " 'EASTERN PLATEAU (CHHOTANAGPUR) AND EASTERN GHATS  HOT SUBHUMID ECO-REGION'\n",
      " 'EASTERN COASTAL PLAIN  HOT SUBHUMID TO SEMI-ARID EGO-REGION'\n",
      " 'NORTHERN PLAIN (AND CENTRAL HIGHLANDS) INCLUDING ARAVALLIS  HOT SEMI-ARID EGO-REGION'\n",
      " 'NORTHERN PLAIN  HOT SUBHUMID (DRY) ECO-REGION'\n",
      " 'WESTERN PLAIN  KACHCHH AND PART OF KATHIAWAR PENINSULA, HOT ARID ECO-REGION'\n",
      " 'WESTERN GHATS AND COASTAL PLAIN  HOT HUMID-PERHUMID ECO-REGION'] values \n",
      "\n",
      "Rabi Seasons Type of soil in 2022 has ['Deep Black soils (with shallow and medium Black Soils as inclusion)'\n",
      " 'Mixed Red and Black Soils'\n",
      " 'Shallow Black Soils (with medium and deep Black Soils as  inclusion)'\n",
      " 'Red loamy Soils' 'Red and lateritic Soils'\n",
      " 'Coastal and Deltaic Alluvium derived Soils'\n",
      " 'Alluvial-derived Soils (with saline phases)' 'Desert (saline) Soils'] values \n",
      "\n",
      "Rabi Seasons Type of water bodies in hectares 2022 has [\"['water']\" \"['river']\" '[None]' \"['riverbank']\" \"['reservoir, water']\"\n",
      " \"['river, water']\" \"['reservoir']\" \"['reservoir, river']\"\n",
      " \"['river, riverbank, water']\" \"['river, water, wetland']\"\n",
      " \"['riverbank, water']\" \"['river, riverbank']\"\n",
      " \"['reservoir, river, water']\" \"['river, wetland']\" \"['water, wetland']\"\n",
      " \"['wetland']\" \"['reservoir, riverbank, water']\"\n",
      " \"['river, riverbank, wetland']\" \"['riverbank, wetland']\"\n",
      " \"['reservoir, water, wetland']\" \"['reservoir, wetland']\"\n",
      " \"['reservoir, river, riverbank']\"] values \n",
      "\n",
      "Rabi Seasons Agro Ecological Sub Zone in 2022 has ['CENTRAL HIGHLANDS (MALWA AND BUNDELKHAND)  HOT SUBHUMID (DRY) ECO-REGION'\n",
      " 'DECCAN PLATEAU  (TELANGANA) AND EASTERN GHATS  HOT SEMI ARID ECO-REGION'\n",
      " 'CENTRAL HIGHLANDS ( MALWA )  GUJARAT PLAIN AND KATHIAWAR PENINSULA  SEMI-ARID ECO-REGION'\n",
      " 'DECCAN PLATU  HOT SEMI-ARID ECO-REGION'\n",
      " 'KARNATAKA PLATEAU (RAYALSEEMA AS INCLUSION)'\n",
      " 'EASTERN GHATS AND TAMIL NADU UPLANDS AND DECCAN (K ARNATAKA) PLATEAU  HOT SEMI-ARID ECO-REGION'\n",
      " 'EASTERN PLATEAU (CHHOTANAGPUR) AND EASTERN GHATS  HOT SUBHUMID ECO-REGION'\n",
      " 'EASTERN COASTAL PLAIN  HOT SUBHUMID TO SEMI-ARID EGO-REGION'\n",
      " 'NORTHERN PLAIN (AND CENTRAL HIGHLANDS) INCLUDING ARAVALLIS  HOT SEMI-ARID EGO-REGION'\n",
      " 'NORTHERN PLAIN  HOT SUBHUMID (DRY) ECO-REGION'\n",
      " 'WESTERN PLAIN  KACHCHH AND PART OF KATHIAWAR PENINSULA, HOT ARID ECO-REGION'\n",
      " 'WESTERN GHATS AND COASTAL PLAIN  HOT HUMID-PERHUMID ECO-REGION'] values \n",
      "\n",
      "Rabi Seasons Type of soil in 2021 has ['Deep Black soils (with shallow and medium Black Soils as inclusion)'\n",
      " 'Mixed Red and Black Soils'\n",
      " 'Shallow Black Soils (with medium and deep Black Soils as  inclusion)'\n",
      " 'Red loamy Soils' 'Red and lateritic Soils'\n",
      " 'Coastal and Deltaic Alluvium derived Soils'\n",
      " 'Alluvial-derived Soils (with saline phases)' 'Desert (saline) Soils'] values \n",
      "\n",
      "Rabi Seasons Type of water bodies in hectares 2021 has [\"['water']\" \"['river']\" '[None]' \"['riverbank']\" \"['reservoir, water']\"\n",
      " \"['river, water']\" \"['reservoir']\" \"['reservoir, river']\"\n",
      " \"['river, riverbank, water']\" \"['river, water, wetland']\"\n",
      " \"['riverbank, water']\" \"['river, riverbank']\"\n",
      " \"['reservoir, river, water']\" \"['river, wetland']\" \"['water, wetland']\"\n",
      " \"['wetland']\" \"['reservoir, riverbank, water']\"\n",
      " \"['river, riverbank, wetland']\" \"['riverbank, wetland']\"\n",
      " \"['reservoir, water, wetland']\" \"['reservoir, wetland']\"\n",
      " \"['reservoir, river, riverbank']\"] values \n",
      "\n",
      "Rabi Seasons Agro Ecological Sub Zone in 2021 has ['CENTRAL HIGHLANDS (MALWA AND BUNDELKHAND)  HOT SUBHUMID (DRY) ECO-REGION'\n",
      " 'DECCAN PLATEAU  (TELANGANA) AND EASTERN GHATS  HOT SEMI ARID ECO-REGION'\n",
      " 'CENTRAL HIGHLANDS ( MALWA )  GUJARAT PLAIN AND KATHIAWAR PENINSULA  SEMI-ARID ECO-REGION'\n",
      " 'DECCAN PLATU  HOT SEMI-ARID ECO-REGION'\n",
      " 'KARNATAKA PLATEAU (RAYALSEEMA AS INCLUSION)'\n",
      " 'EASTERN GHATS AND TAMIL NADU UPLANDS AND DECCAN (K ARNATAKA) PLATEAU  HOT SEMI-ARID ECO-REGION'\n",
      " 'EASTERN PLATEAU (CHHOTANAGPUR) AND EASTERN GHATS  HOT SUBHUMID ECO-REGION'\n",
      " 'EASTERN COASTAL PLAIN  HOT SUBHUMID TO SEMI-ARID EGO-REGION'\n",
      " 'NORTHERN PLAIN (AND CENTRAL HIGHLANDS) INCLUDING ARAVALLIS  HOT SEMI-ARID EGO-REGION'\n",
      " 'NORTHERN PLAIN  HOT SUBHUMID (DRY) ECO-REGION'\n",
      " 'WESTERN PLAIN  KACHCHH AND PART OF KATHIAWAR PENINSULA, HOT ARID ECO-REGION'\n",
      " 'WESTERN GHATS AND COASTAL PLAIN  HOT HUMID-PERHUMID ECO-REGION'] values \n",
      "\n",
      "Kharif Seasons Type of soil in 2021 has ['Deep Black soils (with shallow and medium Black Soils as inclusion)'\n",
      " 'Mixed Red and Black Soils'\n",
      " 'Shallow Black Soils (with medium and deep Black Soils as  inclusion)'\n",
      " 'Red loamy Soils' 'Red and lateritic Soils'\n",
      " 'Coastal and Deltaic Alluvium derived Soils'\n",
      " 'Alluvial-derived Soils (with saline phases)' 'Desert (saline) Soils'] values \n",
      "\n",
      "Kharif Seasons Type of water bodies in hectares 2021 has [\"['water']\" \"['river']\" '[None]' \"['riverbank']\" \"['reservoir, water']\"\n",
      " \"['river, water']\" \"['reservoir']\" \"['reservoir, river']\"\n",
      " \"['river, riverbank, water']\" \"['river, water, wetland']\"\n",
      " \"['riverbank, water']\" \"['river, riverbank']\"\n",
      " \"['reservoir, river, water']\" \"['river, wetland']\" \"['water, wetland']\"\n",
      " \"['wetland']\" \"['reservoir, riverbank, water']\"\n",
      " \"['river, riverbank, wetland']\" \"['riverbank, wetland']\"\n",
      " \"['reservoir, water, wetland']\" \"['reservoir, wetland']\"\n",
      " \"['reservoir, river, riverbank']\"] values \n",
      "\n",
      "Kharif Seasons Agro Ecological Sub Zone in 2021 has ['CENTRAL HIGHLANDS (MALWA AND BUNDELKHAND)  HOT SUBHUMID (DRY) ECO-REGION'\n",
      " 'DECCAN PLATEAU  (TELANGANA) AND EASTERN GHATS  HOT SEMI ARID ECO-REGION'\n",
      " 'CENTRAL HIGHLANDS ( MALWA )  GUJARAT PLAIN AND KATHIAWAR PENINSULA  SEMI-ARID ECO-REGION'\n",
      " 'DECCAN PLATU  HOT SEMI-ARID ECO-REGION'\n",
      " 'KARNATAKA PLATEAU (RAYALSEEMA AS INCLUSION)'\n",
      " 'EASTERN GHATS AND TAMIL NADU UPLANDS AND DECCAN (K ARNATAKA) PLATEAU  HOT SEMI-ARID ECO-REGION'\n",
      " 'EASTERN PLATEAU (CHHOTANAGPUR) AND EASTERN GHATS  HOT SUBHUMID ECO-REGION'\n",
      " 'EASTERN COASTAL PLAIN  HOT SUBHUMID TO SEMI-ARID EGO-REGION'\n",
      " 'NORTHERN PLAIN (AND CENTRAL HIGHLANDS) INCLUDING ARAVALLIS  HOT SEMI-ARID EGO-REGION'\n",
      " 'NORTHERN PLAIN  HOT SUBHUMID (DRY) ECO-REGION'\n",
      " 'WESTERN PLAIN  KACHCHH AND PART OF KATHIAWAR PENINSULA, HOT ARID ECO-REGION'\n",
      " 'WESTERN GHATS AND COASTAL PLAIN  HOT HUMID-PERHUMID ECO-REGION'] values \n",
      "\n",
      "Kharif Seasons Type of soil in 2020 has ['Deep Black soils (with shallow and medium Black Soils as inclusion)'\n",
      " 'Mixed Red and Black Soils'\n",
      " 'Shallow Black Soils (with medium and deep Black Soils as  inclusion)'\n",
      " 'Red loamy Soils' 'Red and lateritic Soils'\n",
      " 'Coastal and Deltaic Alluvium derived Soils'\n",
      " 'Alluvial-derived Soils (with saline phases)' 'Desert (saline) Soils'] values \n",
      "\n",
      "Kharif Seasons Type of water bodies in hectares 2020 has [\"['water']\" \"['river']\" '[None]' \"['riverbank']\" \"['reservoir, water']\"\n",
      " \"['river, water']\" \"['reservoir']\" \"['reservoir, river']\"\n",
      " \"['river, riverbank, water']\" \"['riverbank, water']\"\n",
      " \"['river, water, wetland']\" \"['reservoir, river, water']\"\n",
      " \"['river, riverbank']\" \"['river, wetland']\" \"['water, wetland']\"\n",
      " \"['wetland']\" \"['reservoir, riverbank, water']\"\n",
      " \"['river, riverbank, wetland']\" \"['reservoir, water, wetland']\"\n",
      " \"['reservoir, wetland']\" \"['riverbank, wetland']\"\n",
      " \"['reservoir, river, riverbank']\"] values \n",
      "\n",
      "Kharif Seasons Agro Ecological Sub Zone in 2020 has ['CENTRAL HIGHLANDS (MALWA AND BUNDELKHAND)  HOT SUBHUMID (DRY) ECO-REGION'\n",
      " 'DECCAN PLATEAU  (TELANGANA) AND EASTERN GHATS  HOT SEMI ARID ECO-REGION'\n",
      " 'CENTRAL HIGHLANDS ( MALWA )  GUJARAT PLAIN AND KATHIAWAR PENINSULA  SEMI-ARID ECO-REGION'\n",
      " 'DECCAN PLATU  HOT SEMI-ARID ECO-REGION'\n",
      " 'KARNATAKA PLATEAU (RAYALSEEMA AS INCLUSION)'\n",
      " 'EASTERN GHATS AND TAMIL NADU UPLANDS AND DECCAN (K ARNATAKA) PLATEAU  HOT SEMI-ARID ECO-REGION'\n",
      " 'EASTERN PLATEAU (CHHOTANAGPUR) AND EASTERN GHATS  HOT SUBHUMID ECO-REGION'\n",
      " 'NORTHERN PLAIN (AND CENTRAL HIGHLANDS) INCLUDING ARAVALLIS  HOT SEMI-ARID EGO-REGION'\n",
      " 'EASTERN COASTAL PLAIN  HOT SUBHUMID TO SEMI-ARID EGO-REGION'\n",
      " 'NORTHERN PLAIN  HOT SUBHUMID (DRY) ECO-REGION'\n",
      " 'WESTERN PLAIN  KACHCHH AND PART OF KATHIAWAR PENINSULA, HOT ARID ECO-REGION'\n",
      " 'WESTERN GHATS AND COASTAL PLAIN  HOT HUMID-PERHUMID ECO-REGION'] values \n",
      "\n",
      "Rabi Seasons Type of soil in 2020 has ['Deep Black soils (with shallow and medium Black Soils as inclusion)'\n",
      " 'Mixed Red and Black Soils'\n",
      " 'Shallow Black Soils (with medium and deep Black Soils as  inclusion)'\n",
      " 'Red loamy Soils' 'Red and lateritic Soils'\n",
      " 'Coastal and Deltaic Alluvium derived Soils'\n",
      " 'Alluvial-derived Soils (with saline phases)' 'Desert (saline) Soils'] values \n",
      "\n",
      "Rabi Seasons Type of water bodies in hectares 2020 has [\"['water']\" \"['river']\" '[None]' \"['riverbank']\" \"['reservoir, water']\"\n",
      " \"['river, water']\" \"['reservoir']\" \"['reservoir, river']\"\n",
      " \"['river, riverbank, water']\" \"['river, water, wetland']\"\n",
      " \"['riverbank, water']\" \"['river, riverbank']\"\n",
      " \"['reservoir, river, water']\" \"['river, wetland']\" \"['water, wetland']\"\n",
      " \"['wetland']\" \"['reservoir, riverbank, water']\"\n",
      " \"['river, riverbank, wetland']\" \"['riverbank, wetland']\"\n",
      " \"['reservoir, water, wetland']\" \"['reservoir, wetland']\"\n",
      " \"['reservoir, river, riverbank']\"] values \n",
      "\n",
      "Rabi Seasons Agro Ecological Sub Zone in 2020 has ['CENTRAL HIGHLANDS (MALWA AND BUNDELKHAND)  HOT SUBHUMID (DRY) ECO-REGION'\n",
      " 'DECCAN PLATEAU  (TELANGANA) AND EASTERN GHATS  HOT SEMI ARID ECO-REGION'\n",
      " 'CENTRAL HIGHLANDS ( MALWA )  GUJARAT PLAIN AND KATHIAWAR PENINSULA  SEMI-ARID ECO-REGION'\n",
      " 'DECCAN PLATU  HOT SEMI-ARID ECO-REGION'\n",
      " 'KARNATAKA PLATEAU (RAYALSEEMA AS INCLUSION)'\n",
      " 'EASTERN GHATS AND TAMIL NADU UPLANDS AND DECCAN (K ARNATAKA) PLATEAU  HOT SEMI-ARID ECO-REGION'\n",
      " 'EASTERN PLATEAU (CHHOTANAGPUR) AND EASTERN GHATS  HOT SUBHUMID ECO-REGION'\n",
      " 'EASTERN COASTAL PLAIN  HOT SUBHUMID TO SEMI-ARID EGO-REGION'\n",
      " 'NORTHERN PLAIN (AND CENTRAL HIGHLANDS) INCLUDING ARAVALLIS  HOT SEMI-ARID EGO-REGION'\n",
      " 'NORTHERN PLAIN  HOT SUBHUMID (DRY) ECO-REGION'\n",
      " 'WESTERN PLAIN  KACHCHH AND PART OF KATHIAWAR PENINSULA, HOT ARID ECO-REGION'\n",
      " 'WESTERN GHATS AND COASTAL PLAIN  HOT HUMID-PERHUMID ECO-REGION'] values \n",
      "\n",
      " Village category based on socio-economic parameters (Good, Average, Poor) has ['Poor' 'Average' 'Good'] values \n",
      "\n"
     ]
    }
   ],
   "source": [
    "# checking all categorical feature where they requried any filtering or not\n",
    "for col in catego_col:\n",
    "    print(f'{col} has {df[col].unique()} values \\n')"
   ]
  },
  {
   "cell_type": "code",
   "execution_count": 10,
   "id": "09787c79",
   "metadata": {},
   "outputs": [],
   "source": [
    "float_col = [col for col in df.columns if df[col].dtype == 'float']"
   ]
  },
  {
   "cell_type": "code",
   "execution_count": 11,
   "id": "59dc7952",
   "metadata": {},
   "outputs": [
    {
     "data": {
      "text/plain": [
       "['Avg_Disbursement_Amount_Bureau',\n",
       " 'Total_Land_For_Agriculture',\n",
       " 'K022-Proximity to nearest mandi (Km)',\n",
       " 'K022-Proximity to nearest railway (Km)',\n",
       " 'KO22-Village score based on socio-economic parameters (0 to 100)',\n",
       " 'K022-Seasonal Average Rainfall (mm)',\n",
       " 'R022-Seasonal Average Rainfall (mm)',\n",
       " 'K021-Seasonal Average Rainfall (mm)',\n",
       " 'R021-Seasonal Average Rainfall (mm)',\n",
       " 'R020-Seasonal Average Rainfall (mm)',\n",
       " 'Perc_of_house_with_6plus_room',\n",
       " 'Women_15_19_Mothers_or_Pregnant_at_time_of_survey',\n",
       " 'perc_of_pop_living_in_hh_electricity',\n",
       " 'perc_Households_with_Pucca_House_That_Has_More_Than_3_Rooms',\n",
       " 'mat_roof_Metal_GI_Asbestos_sheets',\n",
       " 'perc_of_Wall_material_with_Burnt_brick',\n",
       " 'Households_with_improved_Sanitation_Facility',\n",
       " 'perc_Households_do_not_have_KCC_With_The_Credit_Limit_Of_50k',\n",
       " 'K022-Total Geographical Area (in Hectares)-',\n",
       " 'K022-Net Agri area (in Ha)-',\n",
       " 'K022-Net Agri area (% of total geog area)-',\n",
       " 'Kharif Seasons  Irrigated area in 2022',\n",
       " 'Kharif Seasons  Cropping density in 2022',\n",
       " 'Kharif Seasons  Agricultural performance in 2022',\n",
       " 'Kharif Seasons  Agricultural Score in 2022',\n",
       " 'Kharif Seasons  Seasonal average groundwater thickness (cm) in 2022',\n",
       " 'Kharif Seasons  Seasonal average groundwater replenishment rate (cm) in 2022',\n",
       " 'Rabi Seasons  Season Irrigated area in 2022',\n",
       " 'Rabi Seasons Cropping density in 2022',\n",
       " 'Rabi Seasons Agricultural performance in 2022',\n",
       " 'Rabi Seasons Agricultural Score in 2022',\n",
       " 'Rabi Seasons Seasonal average groundwater thickness (cm) in 2022',\n",
       " 'Rabi Seasons Seasonal average groundwater replenishment rate (cm) in 2022',\n",
       " 'Rabi Seasons Kharif Season Irrigated area in 2021',\n",
       " 'Rabi Seasons Cropping density in 2021',\n",
       " 'Rabi Seasons Agricultural performance in 2021',\n",
       " 'Rabi Seasons Agricultural Score in 2021',\n",
       " 'Rabi Seasons Seasonal average groundwater thickness (cm) in 2021',\n",
       " 'Rabi Seasons Seasonal average groundwater replenishment rate (cm) in 2021',\n",
       " 'Kharif Seasons Kharif Season Irrigated area in 2021',\n",
       " 'Kharif Seasons Cropping density in 2021',\n",
       " 'Kharif Seasons Agricultural performance in 2021',\n",
       " 'Kharif Seasons Agricultural Score in 2021',\n",
       " 'Kharif Seasons Seasonal average groundwater thickness (cm) in 2021',\n",
       " 'Kharif Seasons Seasonal average groundwater replenishment rate (cm) in 2021',\n",
       " 'Kharif Seasons Kharif Season Irrigated area in 2020',\n",
       " 'Kharif Seasons Cropping density in 2020',\n",
       " 'Kharif Seasons Agricultural performance in 2020',\n",
       " 'Kharif Seasons Agricultural Score in 2020',\n",
       " 'Kharif Seasons Seasonal average groundwater thickness (cm) in 2020',\n",
       " 'Kharif Seasons Seasonal average groundwater replenishment rate (cm) in 2020',\n",
       " 'Rabi Seasons Kharif Season Irrigated area in 2020',\n",
       " 'Rabi Seasons Cropping density in 2020',\n",
       " 'Rabi Seasons Agricultural performance in 2020',\n",
       " 'Rabi Seasons Agricultural Score in 2020',\n",
       " 'Rabi Seasons Seasonal average groundwater thickness (cm) in 2020',\n",
       " 'Rabi Seasons Seasonal average groundwater replenishment rate (cm) in 2020',\n",
       " ' Night light index',\n",
       " ' Village score based on socio-economic parameters (Non normalised)',\n",
       " ' Village score based on socio-economic parameters (0 to 100)',\n",
       " ' Land Holding Index source (Total Agri Area/ no of people)',\n",
       " ' Road density (Km/ SqKm)']"
      ]
     },
     "execution_count": 11,
     "metadata": {},
     "output_type": "execute_result"
    }
   ],
   "source": [
    "float_col"
   ]
  },
  {
   "cell_type": "code",
   "execution_count": 12,
   "id": "4fe2be95",
   "metadata": {},
   "outputs": [
    {
     "data": {
      "text/plain": [
       "Text(0.5, 0, 'Total Income')"
      ]
     },
     "execution_count": 12,
     "metadata": {},
     "output_type": "execute_result"
    },
    {
     "data": {
      "image/png": "[encoded data removed]",
      "text/plain": [
       "<Figure size 640x480 with 1 Axes>"
      ]
     },
     "metadata": {},
     "output_type": "display_data"
    }
   ],
   "source": [
    "sns.histplot(df['Target_Variable/Total Income'] , kde= 'True')\n",
    "plt.xlabel(\"Total Income\")"
   ]
  },
  {
   "cell_type": "markdown",
   "id": "08dc7762",
   "metadata": {},
   "source": [
    "* From here we can see that our target variable is positively skewed"
   ]
  },
  {
   "cell_type": "code",
   "execution_count": 13,
   "id": "e772b805",
   "metadata": {},
   "outputs": [
    {
     "data": {
      "text/plain": [
       "count    4.797000e+04\n",
       "mean     1.222255e+06\n",
       "std      2.073935e+06\n",
       "min      2.900000e+04\n",
       "25%      7.200000e+05\n",
       "50%      9.500000e+05\n",
       "75%      1.295000e+06\n",
       "max      8.000000e+07\n",
       "Name: Target_Variable/Total Income, dtype: float64"
      ]
     },
     "execution_count": 13,
     "metadata": {},
     "output_type": "execute_result"
    }
   ],
   "source": [
    "df['Target_Variable/Total Income'].describe()"
   ]
  },
  {
   "cell_type": "code",
   "execution_count": 14,
   "id": "0e2205bd",
   "metadata": {},
   "outputs": [
    {
     "data": {
      "image/png": "[encoded data removed]",
      "text/plain": [
       "<Figure size 800x500 with 1 Axes>"
      ]
     },
     "metadata": {},
     "output_type": "display_data"
    }
   ],
   "source": [
    "# checking ditribution of farmer gender wise\n",
    "plt.figure(figsize=(8,5))\n",
    "sns.countplot(x='SEX', data=df , palette='dark')\n",
    "plt.title(\"No of farmers according to sex\" , fontweight = 'bold')\n",
    "plt.xlabel(\"Sex M for male and F for female\")\n",
    "plt.ylabel(\"No of Farmers\")\n",
    "plt.legend()\n",
    "plt.show()"
   ]
  },
  {
   "cell_type": "code",
   "execution_count": 15,
   "id": "dcb8c44a",
   "metadata": {},
   "outputs": [
    {
     "data": {
      "image/png": "[encoded data removed]",
      "text/plain": [
       "<Figure size 800x500 with 1 Axes>"
      ]
     },
     "metadata": {},
     "output_type": "display_data"
    }
   ],
   "source": [
    "# checking ditribution of farmers accoridng to maritial status\n",
    "plt.figure(figsize=(8,5))\n",
    "sns.countplot(x='MARITAL_STATUS', data=df , palette='dark')\n",
    "plt.title(\"No of farmers according to Marital status\" , fontweight = 'bold')\n",
    "plt.xlabel(\"Sex M for Married and S for sepearted and Nk for not known\")\n",
    "plt.ylabel(\"No of Farmers\")\n",
    "plt.legend()\n",
    "plt.show()"
   ]
  },
  {
   "cell_type": "code",
   "execution_count": 16,
   "id": "487b98b6",
   "metadata": {},
   "outputs": [
    {
     "data": {
      "text/plain": [
       "<Axes: xlabel='SEX', ylabel='Target_Variable/Total Income'>"
      ]
     },
     "execution_count": 16,
     "metadata": {},
     "output_type": "execute_result"
    },
    {
     "data": {
      "image/png": "[encoded data removed]",
      "text/plain": [
       "<Figure size 640x480 with 1 Axes>"
      ]
     },
     "metadata": {},
     "output_type": "display_data"
    }
   ],
   "source": [
    "\n",
    "# checing the otliers according to sex\n",
    "sns.boxplot(x='SEX' , y= 'Target_Variable/Total Income',data=df , palette='dark')"
   ]
  },
  {
   "cell_type": "code",
   "execution_count": 17,
   "id": "44e70a82",
   "metadata": {},
   "outputs": [
    {
     "data": {
      "text/plain": [
       "([0, 1, 2, 3, 4, 5, 6, 7, 8, 9, 10, 11, 12, 13, 14, 15, 16],\n",
       " [Text(0, 0, 'MADHYA PRADESH'),\n",
       "  Text(1, 0, 'BIHAR'),\n",
       "  Text(2, 0, 'MAHARASHTRA'),\n",
       "  Text(3, 0, 'ODISHA'),\n",
       "  Text(4, 0, 'KARNATAKA'),\n",
       "  Text(5, 0, 'ANDHRA PRADESH'),\n",
       "  Text(6, 0, 'UTTAR PRADESH'),\n",
       "  Text(7, 0, 'GUJARAT'),\n",
       "  Text(8, 0, 'WEST BENGAL'),\n",
       "  Text(9, 0, 'TELANGANA'),\n",
       "  Text(10, 0, 'CHATTISGARH'),\n",
       "  Text(11, 0, 'HARYANA'),\n",
       "  Text(12, 0, 'PUNJAB'),\n",
       "  Text(13, 0, 'JHARKHAND'),\n",
       "  Text(14, 0, 'ASSAM'),\n",
       "  Text(15, 0, 'CHANDIGARH'),\n",
       "  Text(16, 0, 'RAJASTHAN')])"
      ]
     },
     "execution_count": 17,
     "metadata": {},
     "output_type": "execute_result"
    },
    {
     "data": {
      "image/png": "[encoded data removed]",
      "text/plain": [
       "<Figure size 1000x600 with 1 Axes>"
      ]
     },
     "metadata": {},
     "output_type": "display_data"
    }
   ],
   "source": [
    "plt.figure(figsize=(10,6))\n",
    "sns.barplot(x='State', y ='Target_Variable/Total Income',data=df , palette= 'dark')\n",
    "plt.xticks(rotation = 60)"
   ]
  },
  {
   "cell_type": "code",
   "execution_count": 18,
   "id": "0f05591e",
   "metadata": {},
   "outputs": [
    {
     "data": {
      "text/plain": [
       "<Axes: xlabel='Target_Variable/Total Income', ylabel='Count'>"
      ]
     },
     "execution_count": 18,
     "metadata": {},
     "output_type": "execute_result"
    },
    {
     "data": {
      "image/png": "[encoded data removed]",
      "text/plain": [
       "<Figure size 640x480 with 1 Axes>"
      ]
     },
     "metadata": {},
     "output_type": "display_data"
    }
   ],
   "source": [
    "sns.histplot(x= 'Target_Variable/Total Income',data=df,kde='True')"
   ]
  },
  {
   "cell_type": "code",
   "execution_count": 19,
   "id": "3f873070",
   "metadata": {},
   "outputs": [],
   "source": [
    "# caping outluiers \n",
    "cap = df['Target_Variable/Total Income'].quantile(0.90)\n",
    "df['Income_Capped'] = np.where(df['Target_Variable/Total Income'] > cap, cap, df['Target_Variable/Total Income']) # replacing extreme values"
   ]
  },
  {
   "cell_type": "code",
   "execution_count": 20,
   "id": "d12f9d63",
   "metadata": {},
   "outputs": [
    {
     "data": {
      "text/plain": [
       "<Axes: xlabel='Target_Variable/Total Income'>"
      ]
     },
     "execution_count": 20,
     "metadata": {},
     "output_type": "execute_result"
    },
    {
     "data": {
      "image/png": "[encoded data removed]",
      "text/plain": [
       "<Figure size 640x480 with 1 Axes>"
      ]
     },
     "metadata": {},
     "output_type": "display_data"
    }
   ],
   "source": [
    "sns.boxplot(x='Target_Variable/Total Income', data=df)"
   ]
  },
  {
   "cell_type": "code",
   "execution_count": 21,
   "id": "e77390f2",
   "metadata": {},
   "outputs": [
    {
     "data": {
      "text/plain": [
       "<Axes: xlabel='Income_Capped'>"
      ]
     },
     "execution_count": 21,
     "metadata": {},
     "output_type": "execute_result"
    },
    {
     "data": {
      "image/png": "[encoded data removed]",
      "text/plain": [
       "<Figure size 640x480 with 1 Axes>"
      ]
     },
     "metadata": {},
     "output_type": "display_data"
    }
   ],
   "source": [
    "sns.boxplot(x= 'Income_Capped',data=df)"
   ]
  },
  {
   "cell_type": "code",
   "execution_count": 22,
   "id": "c0fa2ee0",
   "metadata": {},
   "outputs": [
    {
     "data": {
      "text/plain": [
       "array(['Poor', 'Average', 'Good'], dtype=object)"
      ]
     },
     "execution_count": 22,
     "metadata": {},
     "output_type": "execute_result"
    }
   ],
   "source": [
    "df['K022-Village category based on socio-economic parameters (Good, Average, Poor)'].unique()"
   ]
  },
  {
   "cell_type": "code",
   "execution_count": 23,
   "id": "0e6f1f0b",
   "metadata": {},
   "outputs": [],
   "source": [
    "# Now Ecoding Data \n",
    "\n",
    "from sklearn.preprocessing import OrdinalEncoder\n",
    "\n",
    "ord_encoder = OrdinalEncoder(categories=[['Poor', 'Average', 'Good']])\n",
    "df['K022_encoded'] = ord_encoder.fit_transform(df[['K022-Village category based on socio-economic parameters (Good, Average, Poor)']])\n"
   ]
  },
  {
   "cell_type": "code",
   "execution_count": 24,
   "id": "97c10d6a",
   "metadata": {},
   "outputs": [
    {
     "data": {
      "text/plain": [
       "0        0.0\n",
       "1        0.0\n",
       "2        0.0\n",
       "3        1.0\n",
       "4        0.0\n",
       "        ... \n",
       "47965    0.0\n",
       "47966    0.0\n",
       "47967    1.0\n",
       "47968    0.0\n",
       "47969    0.0\n",
       "Name: K022_encoded, Length: 47970, dtype: float64"
      ]
     },
     "execution_count": 24,
     "metadata": {},
     "output_type": "execute_result"
    }
   ],
   "source": [
    "df['K022_encoded']"
   ]
  },
  {
   "cell_type": "code",
   "execution_count": 25,
   "id": "03618d5d",
   "metadata": {},
   "outputs": [],
   "source": [
    "df = pd.get_dummies(df, columns=['MARITAL_STATUS'], drop_first=True)"
   ]
  },
  {
   "cell_type": "code",
   "execution_count": 26,
   "id": "4d4484a3",
   "metadata": {},
   "outputs": [
    {
     "data": {
      "text/plain": [
       "MARITAL_STATUS_NK\n",
       "False    47966\n",
       "True         4\n",
       "Name: count, dtype: int64"
      ]
     },
     "execution_count": 26,
     "metadata": {},
     "output_type": "execute_result"
    }
   ],
   "source": [
    "# checking the number of farmer whows status is not known\n",
    "df['MARITAL_STATUS_NK'].value_counts()"
   ]
  },
  {
   "cell_type": "code",
   "execution_count": 27,
   "id": "45ef4ee0",
   "metadata": {},
   "outputs": [],
   "source": [
    "# ecoding the sex value through numerical value \n",
    "df['SEX'] = df['SEX'].map({'M': 1, 'F': 0}) # assigning 1 to male and 0 to female\n"
   ]
  },
  {
   "cell_type": "code",
   "execution_count": 28,
   "id": "11a2d5b3",
   "metadata": {},
   "outputs": [
    {
     "data": {
      "text/plain": [
       "SEX\n",
       "1    43295\n",
       "0     4675\n",
       "Name: count, dtype: int64"
      ]
     },
     "execution_count": 28,
     "metadata": {},
     "output_type": "execute_result"
    }
   ],
   "source": [
    "df['SEX'].value_counts()"
   ]
  },
  {
   "cell_type": "code",
   "execution_count": 29,
   "id": "744f978d",
   "metadata": {},
   "outputs": [
    {
     "data": {
      "text/plain": [
       "dtype('int64')"
      ]
     },
     "execution_count": 29,
     "metadata": {},
     "output_type": "execute_result"
    }
   ],
   "source": [
    "df['SEX'].dtype"
   ]
  },
  {
   "cell_type": "code",
   "execution_count": 30,
   "id": "058c694a",
   "metadata": {},
   "outputs": [
    {
     "data": {
      "text/plain": [
       "<Axes: xlabel='SEX', ylabel='Target_Variable/Total Income'>"
      ]
     },
     "execution_count": 30,
     "metadata": {},
     "output_type": "execute_result"
    },
    {
     "data": {
      "image/png": "[encoded data removed]",
      "text/plain": [
       "<Figure size 640x480 with 1 Axes>"
      ]
     },
     "metadata": {},
     "output_type": "display_data"
    }
   ],
   "source": [
    "sns.barplot(x=\"SEX\",y='Target_Variable/Total Income' , data=df)"
   ]
  },
  {
   "cell_type": "code",
   "execution_count": 31,
   "id": "fad523df",
   "metadata": {},
   "outputs": [],
   "source": [
    "# Encoding according to the regoin \n",
    "df = pd.get_dummies(df, columns=['REGION'], drop_first=False)\n"
   ]
  },
  {
   "cell_type": "code",
   "execution_count": 32,
   "id": "58ad011a",
   "metadata": {},
   "outputs": [
    {
     "data": {
      "text/plain": [
       "(47970, 112)"
      ]
     },
     "execution_count": 32,
     "metadata": {},
     "output_type": "execute_result"
    }
   ],
   "source": [
    "df.shape"
   ]
  },
  {
   "cell_type": "markdown",
   "id": "97583ef8",
   "metadata": {},
   "source": [
    "* Seperating min and maximum value of columns like :\n",
    " 'R022-Ambient temperature (min & max)',\n",
    " 'K021-Ambient temperature (min & max)',\n",
    " 'R021-Ambient temperature (min & max)',\n",
    " 'R020-Ambient temperature (min & max) and converting them from  object data type to float data type for performing mathemetical operations\n",
    " "
   ]
  },
  {
   "cell_type": "code",
   "execution_count": 33,
   "id": "948d789e",
   "metadata": {},
   "outputs": [],
   "source": [
    " \n",
    "df[['K022-Ambient temperature min', 'K022-Ambient temperature maX']] = df['K022-Ambient temperature (min & max)'].str.split(\"/\", expand=True)"
   ]
  },
  {
   "cell_type": "code",
   "execution_count": 34,
   "id": "854f14a0",
   "metadata": {},
   "outputs": [
    {
     "data": {
      "text/plain": [
       "dtype('O')"
      ]
     },
     "execution_count": 34,
     "metadata": {},
     "output_type": "execute_result"
    }
   ],
   "source": [
    "df['K022-Ambient temperature min'].dtype"
   ]
  },
  {
   "cell_type": "code",
   "execution_count": 35,
   "id": "dfe28893",
   "metadata": {},
   "outputs": [],
   "source": [
    "# Converting min and maximum value from object to numeric\n",
    "df['K022-Ambient temperature min'] = pd.to_numeric(df['K022-Ambient temperature min'])\n",
    "df['K022-Ambient temperature maX'] = pd.to_numeric(df['K022-Ambient temperature maX'])"
   ]
  },
  {
   "cell_type": "code",
   "execution_count": 36,
   "id": "2077458e",
   "metadata": {},
   "outputs": [
    {
     "data": {
      "text/plain": [
       "np.int64(0)"
      ]
     },
     "execution_count": 36,
     "metadata": {},
     "output_type": "execute_result"
    }
   ],
   "source": [
    "df[' Land Holding Index source (Total Agri Area/ no of people)'].isnull().sum()"
   ]
  },
  {
   "cell_type": "code",
   "execution_count": 37,
   "id": "e715e2f2",
   "metadata": {},
   "outputs": [
    {
     "data": {
      "text/plain": [
       "['State',\n",
       " 'CITY',\n",
       " 'DISTRICT',\n",
       " 'VILLAGE',\n",
       " 'Location',\n",
       " 'Address type',\n",
       " 'Ownership',\n",
       " 'K022-Village category based on Agri parameters (Good, Average, Poor)',\n",
       " 'K022-Nearest Mandi Name',\n",
       " 'K022-Village category based on socio-economic parameters (Good, Average, Poor)',\n",
       " 'K022-Ambient temperature (min & max)',\n",
       " 'R022-Village category based on Agri parameters (Good, Average, Poor)',\n",
       " 'R022-Ambient temperature (min & max)',\n",
       " 'K021-Ambient temperature (min & max)',\n",
       " 'R021-Ambient temperature (min & max)',\n",
       " 'R020-Ambient temperature (min & max)',\n",
       " 'Kharif Seasons  Type of soil in 2022',\n",
       " 'Kharif Seasons  Type of water bodies in hectares 2022',\n",
       " 'Kharif Seasons  Agro Ecological Sub Zone in 2022',\n",
       " 'Rabi Seasons Type of soil in 2022',\n",
       " 'Rabi Seasons Type of water bodies in hectares 2022',\n",
       " 'Rabi Seasons Agro Ecological Sub Zone in 2022',\n",
       " 'Rabi Seasons Type of soil in 2021',\n",
       " 'Rabi Seasons Type of water bodies in hectares 2021',\n",
       " 'Rabi Seasons Agro Ecological Sub Zone in 2021',\n",
       " 'Kharif Seasons Type of soil in 2021',\n",
       " 'Kharif Seasons Type of water bodies in hectares 2021',\n",
       " 'Kharif Seasons Agro Ecological Sub Zone in 2021',\n",
       " 'Kharif Seasons Type of soil in 2020',\n",
       " 'Kharif Seasons Type of water bodies in hectares 2020',\n",
       " 'Kharif Seasons Agro Ecological Sub Zone in 2020',\n",
       " 'Rabi Seasons Type of soil in 2020',\n",
       " 'Rabi Seasons Type of water bodies in hectares 2020',\n",
       " 'Rabi Seasons Agro Ecological Sub Zone in 2020',\n",
       " ' Village category based on socio-economic parameters (Good, Average, Poor)']"
      ]
     },
     "execution_count": 37,
     "metadata": {},
     "output_type": "execute_result"
    }
   ],
   "source": [
    "[col for col in  df.columns if df[col].dtype == 'object']"
   ]
  },
  {
   "cell_type": "code",
   "execution_count": 38,
   "id": "02aa9429",
   "metadata": {},
   "outputs": [],
   "source": [
    "# droping this column as we have seperated our minimum and maximum values\n",
    "df.drop(columns= 'R022-Ambient temperature (min & max)',inplace=True)"
   ]
  },
  {
   "cell_type": "code",
   "execution_count": 39,
   "id": "1705adc0",
   "metadata": {},
   "outputs": [],
   "source": [
    "df[['K021-Ambient temperature min','K021-Ambient temperature max']] = df['K021-Ambient temperature (min & max)'].str.split('/',expand=True)\n",
    "\n",
    "df['K021-Ambient temperature min'] = pd.to_numeric(df['K021-Ambient temperature min'])\n",
    "df['K021-Ambient temperature max'] = pd.to_numeric(df['K021-Ambient temperature max'])\n",
    "# droping this column as we have seperated our minimum and maximum values\n",
    "df.drop(columns= 'K021-Ambient temperature (min & max)',inplace=True)"
   ]
  },
  {
   "cell_type": "code",
   "execution_count": 40,
   "id": "727dd632",
   "metadata": {},
   "outputs": [],
   "source": [
    "df[['R021-Ambient temperature min','R021-Ambient temperature max']] = df['R021-Ambient temperature (min & max)'].str.split('/',expand=True)\n",
    "\n",
    "df['R021-Ambient temperature min'] = pd.to_numeric(df['R021-Ambient temperature min'])\n",
    "df['R021-Ambient temperature max'] = pd.to_numeric(df['R021-Ambient temperature max'])\n",
    "# droping this column as we have seperated our minimum and maximum values\n",
    "df.drop(columns= 'R021-Ambient temperature (min & max)',inplace=True)"
   ]
  },
  {
   "cell_type": "code",
   "execution_count": 41,
   "id": "04325aef",
   "metadata": {},
   "outputs": [],
   "source": [
    "df[['R020-Ambient temperature min','R020-Ambient temperature max']] = df['R020-Ambient temperature (min & max)'].str.split('/',expand=True)\n",
    "\n",
    "df['R020-Ambient temperature min'] = pd.to_numeric(df['R020-Ambient temperature min'])\n",
    "df['R020-Ambient temperature max'] = pd.to_numeric(df['R020-Ambient temperature max'])\n",
    "# droping this column as we have seperated our minimum and maximum values\n",
    "df.drop(columns= 'R020-Ambient temperature (min & max)',inplace=True)"
   ]
  },
  {
   "cell_type": "code",
   "execution_count": 42,
   "id": "b478bc69",
   "metadata": {},
   "outputs": [
    {
     "data": {
      "text/plain": [
       "['Avg_Disbursement_Amount_Bureau',\n",
       " 'Total_Land_For_Agriculture',\n",
       " 'K022-Proximity to nearest mandi (Km)',\n",
       " 'K022-Proximity to nearest railway (Km)',\n",
       " 'KO22-Village score based on socio-economic parameters (0 to 100)',\n",
       " 'K022-Seasonal Average Rainfall (mm)',\n",
       " 'R022-Seasonal Average Rainfall (mm)',\n",
       " 'K021-Seasonal Average Rainfall (mm)',\n",
       " 'R021-Seasonal Average Rainfall (mm)',\n",
       " 'R020-Seasonal Average Rainfall (mm)',\n",
       " 'Perc_of_house_with_6plus_room',\n",
       " 'Women_15_19_Mothers_or_Pregnant_at_time_of_survey',\n",
       " 'perc_of_pop_living_in_hh_electricity',\n",
       " 'perc_Households_with_Pucca_House_That_Has_More_Than_3_Rooms',\n",
       " 'mat_roof_Metal_GI_Asbestos_sheets',\n",
       " 'perc_of_Wall_material_with_Burnt_brick',\n",
       " 'Households_with_improved_Sanitation_Facility',\n",
       " 'perc_Households_do_not_have_KCC_With_The_Credit_Limit_Of_50k',\n",
       " 'K022-Total Geographical Area (in Hectares)-',\n",
       " 'K022-Net Agri area (in Ha)-',\n",
       " 'K022-Net Agri area (% of total geog area)-',\n",
       " 'Kharif Seasons  Irrigated area in 2022',\n",
       " 'Kharif Seasons  Cropping density in 2022',\n",
       " 'Kharif Seasons  Agricultural performance in 2022',\n",
       " 'Kharif Seasons  Agricultural Score in 2022',\n",
       " 'Kharif Seasons  Seasonal average groundwater thickness (cm) in 2022',\n",
       " 'Kharif Seasons  Seasonal average groundwater replenishment rate (cm) in 2022',\n",
       " 'Rabi Seasons  Season Irrigated area in 2022',\n",
       " 'Rabi Seasons Cropping density in 2022',\n",
       " 'Rabi Seasons Agricultural performance in 2022',\n",
       " 'Rabi Seasons Agricultural Score in 2022',\n",
       " 'Rabi Seasons Seasonal average groundwater thickness (cm) in 2022',\n",
       " 'Rabi Seasons Seasonal average groundwater replenishment rate (cm) in 2022',\n",
       " 'Rabi Seasons Kharif Season Irrigated area in 2021',\n",
       " 'Rabi Seasons Cropping density in 2021',\n",
       " 'Rabi Seasons Agricultural performance in 2021',\n",
       " 'Rabi Seasons Agricultural Score in 2021',\n",
       " 'Rabi Seasons Seasonal average groundwater thickness (cm) in 2021',\n",
       " 'Rabi Seasons Seasonal average groundwater replenishment rate (cm) in 2021',\n",
       " 'Kharif Seasons Kharif Season Irrigated area in 2021',\n",
       " 'Kharif Seasons Cropping density in 2021',\n",
       " 'Kharif Seasons Agricultural performance in 2021',\n",
       " 'Kharif Seasons Agricultural Score in 2021',\n",
       " 'Kharif Seasons Seasonal average groundwater thickness (cm) in 2021',\n",
       " 'Kharif Seasons Seasonal average groundwater replenishment rate (cm) in 2021',\n",
       " 'Kharif Seasons Kharif Season Irrigated area in 2020',\n",
       " 'Kharif Seasons Cropping density in 2020',\n",
       " 'Kharif Seasons Agricultural performance in 2020',\n",
       " 'Kharif Seasons Agricultural Score in 2020',\n",
       " 'Kharif Seasons Seasonal average groundwater thickness (cm) in 2020',\n",
       " 'Kharif Seasons Seasonal average groundwater replenishment rate (cm) in 2020',\n",
       " 'Rabi Seasons Kharif Season Irrigated area in 2020',\n",
       " 'Rabi Seasons Cropping density in 2020',\n",
       " 'Rabi Seasons Agricultural performance in 2020',\n",
       " 'Rabi Seasons Agricultural Score in 2020',\n",
       " 'Rabi Seasons Seasonal average groundwater thickness (cm) in 2020',\n",
       " 'Rabi Seasons Seasonal average groundwater replenishment rate (cm) in 2020',\n",
       " ' Night light index',\n",
       " ' Village score based on socio-economic parameters (Non normalised)',\n",
       " ' Village score based on socio-economic parameters (0 to 100)',\n",
       " ' Land Holding Index source (Total Agri Area/ no of people)',\n",
       " ' Road density (Km/ SqKm)',\n",
       " 'Income_Capped',\n",
       " 'K022_encoded',\n",
       " 'K022-Ambient temperature min',\n",
       " 'K022-Ambient temperature maX',\n",
       " 'K021-Ambient temperature min',\n",
       " 'K021-Ambient temperature max',\n",
       " 'R021-Ambient temperature min',\n",
       " 'R021-Ambient temperature max',\n",
       " 'R020-Ambient temperature min',\n",
       " 'R020-Ambient temperature max']"
      ]
     },
     "execution_count": 42,
     "metadata": {},
     "output_type": "execute_result"
    }
   ],
   "source": [
    "[col for col in df.columns if df[col].dtype == 'float']"
   ]
  },
  {
   "cell_type": "markdown",
   "id": "bf6df452",
   "metadata": {},
   "source": [
    "* Creating log for Total income\n"
   ]
  },
  {
   "cell_type": "code",
   "execution_count": 43,
   "id": "cfbcb3ac",
   "metadata": {},
   "outputs": [],
   "source": [
    "df['Total_income_log'] = np.log1p(df['Target_Variable/Total Income'])"
   ]
  },
  {
   "cell_type": "markdown",
   "id": "78872c6f",
   "metadata": {},
   "source": [
    "* Standardizing Numerical column\n"
   ]
  },
  {
   "cell_type": "code",
   "execution_count": 44,
   "id": "722bc522",
   "metadata": {},
   "outputs": [],
   "source": [
    "#selecting numerical columns\n",
    "numerical_cols = df.select_dtypes(include=['int64', 'float64']).columns.tolist()"
   ]
  },
  {
   "cell_type": "code",
   "execution_count": 45,
   "id": "90fad8fb",
   "metadata": {},
   "outputs": [
    {
     "data": {
      "text/plain": [
       "79"
      ]
     },
     "execution_count": 45,
     "metadata": {},
     "output_type": "execute_result"
    }
   ],
   "source": [
    "# for checking whether all the numerical columns are associated in it or not\n",
    "len(numerical_cols)"
   ]
  },
  {
   "cell_type": "code",
   "execution_count": 46,
   "id": "19f75492",
   "metadata": {},
   "outputs": [],
   "source": [
    "from sklearn.preprocessing import StandardScaler\n",
    "scaler = StandardScaler()"
   ]
  },
  {
   "cell_type": "code",
   "execution_count": 47,
   "id": "360db262",
   "metadata": {},
   "outputs": [],
   "source": [
    "#standardizing data\n",
    "df[numerical_cols] = scaler.fit_transform(df[numerical_cols])"
   ]
  },
  {
   "cell_type": "code",
   "execution_count": 48,
   "id": "0dae452c",
   "metadata": {},
   "outputs": [
    {
     "data": {
      "text/html": [
       "<div>\n",
       "<style scoped>\n",
       "    .dataframe tbody tr th:only-of-type {\n",
       "        vertical-align: middle;\n",
       "    }\n",
       "\n",
       "    .dataframe tbody tr th {\n",
       "        vertical-align: top;\n",
       "    }\n",
       "\n",
       "    .dataframe thead th {\n",
       "        text-align: right;\n",
       "    }\n",
       "</style>\n",
       "<table border=\"1\" class=\"dataframe\">\n",
       "  <thead>\n",
       "    <tr style=\"text-align: right;\">\n",
       "      <th></th>\n",
       "      <th>FarmerID</th>\n",
       "      <th>State</th>\n",
       "      <th>SEX</th>\n",
       "      <th>CITY</th>\n",
       "      <th>Zipcode</th>\n",
       "      <th>DISTRICT</th>\n",
       "      <th>VILLAGE</th>\n",
       "      <th>Location</th>\n",
       "      <th>Address type</th>\n",
       "      <th>Ownership</th>\n",
       "      <th>...</th>\n",
       "      <th>REGION_WEST</th>\n",
       "      <th>K022-Ambient temperature min</th>\n",
       "      <th>K022-Ambient temperature maX</th>\n",
       "      <th>K021-Ambient temperature min</th>\n",
       "      <th>K021-Ambient temperature max</th>\n",
       "      <th>R021-Ambient temperature min</th>\n",
       "      <th>R021-Ambient temperature max</th>\n",
       "      <th>R020-Ambient temperature min</th>\n",
       "      <th>R020-Ambient temperature max</th>\n",
       "      <th>Total_income_log</th>\n",
       "    </tr>\n",
       "  </thead>\n",
       "  <tbody>\n",
       "    <tr>\n",
       "      <th>0</th>\n",
       "      <td>-1.723320</td>\n",
       "      <td>MADHYA PRADESH</td>\n",
       "      <td>0.328603</td>\n",
       "      <td>BARELI</td>\n",
       "      <td>-0.184464</td>\n",
       "      <td>RAISEN</td>\n",
       "      <td>Seoni</td>\n",
       "      <td>NaN</td>\n",
       "      <td>NaN</td>\n",
       "      <td>NaN</td>\n",
       "      <td>...</td>\n",
       "      <td>False</td>\n",
       "      <td>0.069783</td>\n",
       "      <td>0.154672</td>\n",
       "      <td>-0.056699</td>\n",
       "      <td>-0.077264</td>\n",
       "      <td>-0.698590</td>\n",
       "      <td>-0.156881</td>\n",
       "      <td>-0.870397</td>\n",
       "      <td>-0.586264</td>\n",
       "      <td>0.604240</td>\n",
       "    </tr>\n",
       "    <tr>\n",
       "      <th>1</th>\n",
       "      <td>-1.719678</td>\n",
       "      <td>BIHAR</td>\n",
       "      <td>0.328603</td>\n",
       "      <td>BANDRA</td>\n",
       "      <td>3.005134</td>\n",
       "      <td>MUZAFFARPUR</td>\n",
       "      <td>Namapur</td>\n",
       "      <td>NaN</td>\n",
       "      <td>NaN</td>\n",
       "      <td>NaN</td>\n",
       "      <td>...</td>\n",
       "      <td>False</td>\n",
       "      <td>0.028493</td>\n",
       "      <td>-0.051800</td>\n",
       "      <td>0.011089</td>\n",
       "      <td>-0.013799</td>\n",
       "      <td>0.639030</td>\n",
       "      <td>0.466596</td>\n",
       "      <td>0.699535</td>\n",
       "      <td>0.612991</td>\n",
       "      <td>-0.433630</td>\n",
       "    </tr>\n",
       "    <tr>\n",
       "      <th>2</th>\n",
       "      <td>-1.719227</td>\n",
       "      <td>MADHYA PRADESH</td>\n",
       "      <td>0.328603</td>\n",
       "      <td>MALHARGARH</td>\n",
       "      <td>-0.235303</td>\n",
       "      <td>MANDSAUR</td>\n",
       "      <td>Billaud</td>\n",
       "      <td>NaN</td>\n",
       "      <td>NaN</td>\n",
       "      <td>NaN</td>\n",
       "      <td>...</td>\n",
       "      <td>False</td>\n",
       "      <td>0.007848</td>\n",
       "      <td>0.719436</td>\n",
       "      <td>-0.158380</td>\n",
       "      <td>0.176597</td>\n",
       "      <td>-0.816615</td>\n",
       "      <td>-0.228321</td>\n",
       "      <td>-0.852099</td>\n",
       "      <td>-0.474592</td>\n",
       "      <td>-1.386537</td>\n",
       "    </tr>\n",
       "    <tr>\n",
       "      <th>3</th>\n",
       "      <td>-1.716902</td>\n",
       "      <td>MAHARASHTRA</td>\n",
       "      <td>0.328603</td>\n",
       "      <td>RENAPUR</td>\n",
       "      <td>-0.609855</td>\n",
       "      <td>LATUR</td>\n",
       "      <td>Renapur</td>\n",
       "      <td>NaN</td>\n",
       "      <td>NaN</td>\n",
       "      <td>NaN</td>\n",
       "      <td>...</td>\n",
       "      <td>True</td>\n",
       "      <td>-0.852360</td>\n",
       "      <td>-0.889837</td>\n",
       "      <td>-1.059954</td>\n",
       "      <td>-0.913851</td>\n",
       "      <td>0.542861</td>\n",
       "      <td>0.486080</td>\n",
       "      <td>0.545835</td>\n",
       "      <td>0.326530</td>\n",
       "      <td>-1.168185</td>\n",
       "    </tr>\n",
       "    <tr>\n",
       "      <th>4</th>\n",
       "      <td>-1.715984</td>\n",
       "      <td>MADHYA PRADESH</td>\n",
       "      <td>-3.043183</td>\n",
       "      <td>KHURAI</td>\n",
       "      <td>-0.139139</td>\n",
       "      <td>SAGAR</td>\n",
       "      <td>Singhpur</td>\n",
       "      <td>NaN</td>\n",
       "      <td>NaN</td>\n",
       "      <td>NaN</td>\n",
       "      <td>...</td>\n",
       "      <td>False</td>\n",
       "      <td>0.090428</td>\n",
       "      <td>0.263981</td>\n",
       "      <td>0.139885</td>\n",
       "      <td>0.216984</td>\n",
       "      <td>-0.987096</td>\n",
       "      <td>-0.669950</td>\n",
       "      <td>-1.005799</td>\n",
       "      <td>-0.770764</td>\n",
       "      <td>-0.451456</td>\n",
       "    </tr>\n",
       "  </tbody>\n",
       "</table>\n",
       "<p>5 rows × 117 columns</p>\n",
       "</div>"
      ],
      "text/plain": [
       "   FarmerID           State       SEX        CITY   Zipcode     DISTRICT  \\\n",
       "0 -1.723320  MADHYA PRADESH  0.328603      BARELI -0.184464       RAISEN   \n",
       "1 -1.719678           BIHAR  0.328603      BANDRA  3.005134  MUZAFFARPUR   \n",
       "2 -1.719227  MADHYA PRADESH  0.328603  MALHARGARH -0.235303     MANDSAUR   \n",
       "3 -1.716902     MAHARASHTRA  0.328603     RENAPUR -0.609855        LATUR   \n",
       "4 -1.715984  MADHYA PRADESH -3.043183      KHURAI -0.139139        SAGAR   \n",
       "\n",
       "    VILLAGE Location Address type Ownership  ...  REGION_WEST  \\\n",
       "0     Seoni      NaN          NaN       NaN  ...        False   \n",
       "1   Namapur      NaN          NaN       NaN  ...        False   \n",
       "2   Billaud      NaN          NaN       NaN  ...        False   \n",
       "3   Renapur      NaN          NaN       NaN  ...         True   \n",
       "4  Singhpur      NaN          NaN       NaN  ...        False   \n",
       "\n",
       "   K022-Ambient temperature min  K022-Ambient temperature maX  \\\n",
       "0                      0.069783                      0.154672   \n",
       "1                      0.028493                     -0.051800   \n",
       "2                      0.007848                      0.719436   \n",
       "3                     -0.852360                     -0.889837   \n",
       "4                      0.090428                      0.263981   \n",
       "\n",
       "   K021-Ambient temperature min K021-Ambient temperature max  \\\n",
       "0                     -0.056699                    -0.077264   \n",
       "1                      0.011089                    -0.013799   \n",
       "2                     -0.158380                     0.176597   \n",
       "3                     -1.059954                    -0.913851   \n",
       "4                      0.139885                     0.216984   \n",
       "\n",
       "  R021-Ambient temperature min  R021-Ambient temperature max  \\\n",
       "0                    -0.698590                     -0.156881   \n",
       "1                     0.639030                      0.466596   \n",
       "2                    -0.816615                     -0.228321   \n",
       "3                     0.542861                      0.486080   \n",
       "4                    -0.987096                     -0.669950   \n",
       "\n",
       "   R020-Ambient temperature min  R020-Ambient temperature max Total_income_log  \n",
       "0                     -0.870397                     -0.586264         0.604240  \n",
       "1                      0.699535                      0.612991        -0.433630  \n",
       "2                     -0.852099                     -0.474592        -1.386537  \n",
       "3                      0.545835                      0.326530        -1.168185  \n",
       "4                     -1.005799                     -0.770764        -0.451456  \n",
       "\n",
       "[5 rows x 117 columns]"
      ]
     },
     "execution_count": 48,
     "metadata": {},
     "output_type": "execute_result"
    }
   ],
   "source": [
    "df.head()\n",
    "# now my train data is ready for model training"
   ]
  },
  {
   "cell_type": "markdown",
   "id": "0151e2f2",
   "metadata": {},
   "source": [
    "* Handling Test Data now"
   ]
  },
  {
   "cell_type": "code",
   "execution_count": 49,
   "id": "4ac6dc42",
   "metadata": {},
   "outputs": [],
   "source": [
    "df1 = pd.read_excel('TestData.xlsx')"
   ]
  },
  {
   "cell_type": "code",
   "execution_count": 54,
   "id": "38129df8",
   "metadata": {},
   "outputs": [
    {
     "data": {
      "text/plain": [
       "np.int64(9986)"
      ]
     },
     "execution_count": 54,
     "metadata": {},
     "output_type": "execute_result"
    }
   ],
   "source": [
    "df1['Target_Variable/Total Income'].isnull().sum()\n"
   ]
  }
 ],
 "metadata": {
  "kernelspec": {
   "display_name": "Python 3",
   "language": "python",
   "name": "python3"
  },
  "language_info": {
   "codemirror_mode": {
    "name": "ipython",
    "version": 3
   },
   "file_extension": ".py",
   "mimetype": "text/x-python",
   "name": "python",
   "nbconvert_exporter": "python",
   "pygments_lexer": "ipython3",
   "version": "3.11.9"
  }
 },
 "nbformat": 4,
 "nbformat_minor": 5
}
